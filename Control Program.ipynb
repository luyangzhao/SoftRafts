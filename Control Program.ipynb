{
 "cells": [
  {
   "cell_type": "code",
   "execution_count": 1,
   "metadata": {},
   "outputs": [],
   "source": [
    "import aiohttp\n",
    "import asyncio\n",
    "import json\n",
    "import socket\n",
    "from concurrent.futures import ThreadPoolExecutor\n",
    "import nest_asyncio\n",
    "nest_asyncio.apply()\n",
    "%matplotlib widget\n",
    "import matplotlib.pyplot as plt"
   ]
  },
  {
   "cell_type": "code",
   "execution_count": 2,
   "metadata": {},
   "outputs": [],
   "source": [
    "session = aiohttp.ClientSession()\n",
    "\n",
    "def scan_ip(ip):\n",
    "    try:\n",
    "        with socket.socket(socket.AF_INET, socket.SOCK_STREAM) as s:\n",
    "            s.settimeout(1)\n",
    "            s.connect((ip, 80))\n",
    "            return ip\n",
    "    except:\n",
    "        return None\n",
    "\n",
    "def get_online_ips():\n",
    "    online_ips = []\n",
    "    with ThreadPoolExecutor(max_workers=256) as executor:\n",
    "        futures = []\n",
    "        for i in range(2, 256):\n",
    "            ip = f\"192.168.31.{i}\"\n",
    "            futures.append(executor.submit(scan_ip, ip))\n",
    "        for future in futures:\n",
    "            result = future.result()\n",
    "            if result:\n",
    "                online_ips.append(result)\n",
    "    return online_ips\n",
    "\n",
    "async def call_get(url):\n",
    "    try:\n",
    "        async with session.get(url, timeout=5) as response:  # 设置了5秒的超时\n",
    "            return url, await response.text(), response.status\n",
    "    except Exception as e:\n",
    "        return url, str(e), None\n",
    "\n",
    "async def get_hosts_status(ips):\n",
    "    tasks = []\n",
    "    for i in ips:\n",
    "        url = f\"http://\" + i + \"/?status\"\n",
    "        tasks.append(call_get(url))\n",
    "    \n",
    "    results = await asyncio.gather(*tasks)\n",
    "\n",
    "    online_robots = []\n",
    "    for url, content, status in results:\n",
    "        if status and \"html\" not in content and \"HTML\" not in content and content != \"\":\n",
    "            online_robots.append(json.loads(content))\n",
    "\n",
    "    return online_robots\n",
    "\n",
    "def get_online_robots():\n",
    "    online_robots = get_online_ips()\n",
    "    return asyncio.run(get_hosts_status(online_robots))\n",
    "\n",
    "def refesh_robot(robot):\n",
    "    url, content, status = asyncio.run(call_get(f\"http://{robot['ip']}/?status\"))\n",
    "    if status and \"html\" not in content:\n",
    "        return json.loads(content)\n",
    "    else:\n",
    "        return None\n",
    "    \n",
    "def set_robot(robot, M1_position:int, M1_power:int, M2_position:int, M2_power:int, M3_direction:bool, M3_power:int):\n",
    "    if M1_position < -2147483648 or M1_position > 2147483647 or M2_position < -2147483648 or M2_position > 2147483647:\n",
    "        raise ValueError(\"Motor position should be in [-2147483648, 2147483647]\")\n",
    "    elif M1_power < 0 or M1_power > 255 or M2_power < 0 or M2_power > 255 or M3_power < 0 or M3_power > 255:\n",
    "        raise ValueError(\"Motor power should be in [0, 255]\")\n",
    "    \n",
    "    action = f\"{int32_to_hex(M1_position)}{hex(M1_power)[2:].upper().zfill(2)}{int32_to_hex(M2_position)}{hex(M2_power)[2:].upper().zfill(2)}{int(M3_direction)}{hex(M3_power)[2:].upper().zfill(2)}\"\n",
    "    url, content, status = asyncio.run(call_get(f\"http://{robot['ip']}/?set={action}\"))\n",
    "    if status and \"html\" not in content:\n",
    "        return json.loads(content)\n",
    "    else:\n",
    "        return None\n",
    "    \n",
    "def calibrate_robot(robot, M1:bool, M2:bool):\n",
    "    url, content, status = asyncio.run(call_get(f\"http://{robot['ip']}/?calibrate={int(M1)}{int(M2)}\"))\n",
    "    if status and \"html\" not in content:\n",
    "        return json.loads(content)\n",
    "    else:\n",
    "        return None\n",
    "    \n",
    "def reach_robot(robot, M1:bool, M2:bool):\n",
    "    url, content, status = asyncio.run(call_get(f\"http://{robot['ip']}/?reach={int(M1)}{int(M2)}\"))\n",
    "    if status and \"html\" not in content:\n",
    "        return json.loads(content)\n",
    "    else:\n",
    "        return None\n",
    "    \n",
    "def pause_robot(robot, pause:bool):\n",
    "    url, content, status = asyncio.run(call_get(f\"http://{robot['ip']}/?pause{int(pause)}\"))\n",
    "    if status and \"html\" not in content:\n",
    "        return json.loads(content)\n",
    "    else:\n",
    "        return None\n",
    "    \n",
    "def int32_to_hex(value: int):\n",
    "    if value < 0:\n",
    "        value = 0xFFFFFFFF + value + 1\n",
    "    return hex(value)[2:].zfill(8).upper()\n",
    "    \n",
    "def get_power_robot(robot):\n",
    "    url, content, status = asyncio.run(call_get(f\"http://{robot['ip']}/?power\"))\n",
    "    if status and \"html\" not in content:\n",
    "        raw_json = json.loads(content)\n",
    "        raw_power_data = raw_json['power']\n",
    "        int_power_data = [int(raw_power_data[i:i+4], 16) for i in range(0, len(raw_power_data), 4)]\n",
    "        result_data = []\n",
    "        for i in range(0, len(int_power_data), 6):\n",
    "            bus_bus = float(int_power_data[i] >> 3) * 0.008\n",
    "            right_bus = float(int_power_data[i+1] >> 3) * 0.008\n",
    "            left_bus = float(int_power_data[i+2] >> 3) * 0.008\n",
    "            bus_shunt = float(int_power_data[i+3] >> 3) * 0.00004\n",
    "            right_shunt = float(int_power_data[i+4] >> 3) * 0.00004\n",
    "            left_shunt = float(int_power_data[i+5] >> 3) * 0.00004\n",
    "            bus_current = bus_shunt / 0.02\n",
    "            right_current = right_shunt / 0.04\n",
    "            left_current = left_shunt / 0.04\n",
    "            result_data.append({\n",
    "                \"BUS_V\": bus_bus,\n",
    "                \"RIGHT_V\": right_bus,\n",
    "                \"LEFT_V\": left_bus,\n",
    "                \"BUS_C\": bus_current,\n",
    "                \"RIGHT_C\": right_current,\n",
    "                \"LEFT_C\": left_current,\n",
    "            })\n",
    "        return result_data\n",
    "    else:\n",
    "        return None\n",
    "    "
   ]
  },
  {
   "cell_type": "code",
   "execution_count": 3,
   "metadata": {},
   "outputs": [
    {
     "name": "stdout",
     "output_type": "stream",
     "text": [
      "[{'status': 'ok', 'ip': '192.168.31.170', 'mac': 'D8:3B:DA:C3:87:96', 'm1_current': 18, 'm1_target': 0, 'm2_current': 9, 'm2_target': 0, 'm1_power': 255, 'm2_power': 255, 'm3_power': 0, 'm1_error': 0, 'm2_error': 0, 'battery': 1.2, 'pause': False}]\n"
     ]
    }
   ],
   "source": [
    "robots = get_online_robots()\n",
    "print(robots)"
   ]
  },
  {
   "cell_type": "code",
   "execution_count": 4,
   "metadata": {},
   "outputs": [
    {
     "name": "stdout",
     "output_type": "stream",
     "text": [
      "{'status': 'ok', 'ip': '192.168.31.170', 'mac': 'D8:3B:DA:C3:87:96', 'm1_current': -14, 'm1_target': 0, 'm2_current': -7, 'm2_target': 0, 'm1_power': 255, 'm2_power': 255, 'm3_power': 0, 'm1_error': 0, 'm2_error': 0, 'battery': 1.21, 'pause': False}\n"
     ]
    }
   ],
   "source": [
    "robot = robots[0]\n",
    "print(refesh_robot(robot))"
   ]
  },
  {
   "cell_type": "code",
   "execution_count": 5,
   "metadata": {},
   "outputs": [
    {
     "name": "stdout",
     "output_type": "stream",
     "text": [
      "{'status': 'set ok', 'ip': '192.168.31.170', 'mac': 'D8:3B:DA:C3:87:96', 'm1_current': -14, 'm1_target': 4000, 'm2_current': -7, 'm2_target': 4000, 'm1_power': 255, 'm2_power': 255, 'm3_power': 0, 'm1_error': 0, 'm2_error': 0, 'battery': 1.2, 'pause': False}\n"
     ]
    }
   ],
   "source": [
    "print(set_robot(robots[0], 4000, 255, 4000, 255, True, 0))\n",
    "#print(set_robot(robots[1], -1000, 255, -1000, 255, True, 0))"
   ]
  },
  {
   "cell_type": "code",
   "execution_count": 6,
   "metadata": {},
   "outputs": [
    {
     "name": "stdout",
     "output_type": "stream",
     "text": [
      "{'status': 'calibrate ok', 'ip': '192.168.31.170', 'mac': 'D8:3B:DA:C3:87:96', 'm1_current': 3, 'm1_target': 0, 'm2_current': 4, 'm2_target': 0, 'm1_power': 255, 'm2_power': 255, 'm3_power': 0, 'm1_error': 0, 'm2_error': 0, 'battery': 1.18, 'pause': False}\n"
     ]
    }
   ],
   "source": [
    "print(calibrate_robot(robot, True, True))"
   ]
  },
  {
   "cell_type": "code",
   "execution_count": 7,
   "metadata": {},
   "outputs": [
    {
     "ename": "KeyError",
     "evalue": "'power'",
     "output_type": "error",
     "traceback": [
      "\u001b[0;31m---------------------------------------------------------------------------\u001b[0m",
      "\u001b[0;31mKeyError\u001b[0m                                  Traceback (most recent call last)",
      "Cell \u001b[0;32mIn[7], line 2\u001b[0m\n\u001b[1;32m      1\u001b[0m robot \u001b[38;5;241m=\u001b[39m robots[\u001b[38;5;241m0\u001b[39m]\n\u001b[0;32m----> 2\u001b[0m data \u001b[38;5;241m=\u001b[39m \u001b[43mget_power_robot\u001b[49m\u001b[43m(\u001b[49m\u001b[43mrobot\u001b[49m\u001b[43m)\u001b[49m\n\u001b[1;32m      4\u001b[0m \u001b[38;5;66;03m# 计算功率 (W)\u001b[39;00m\n\u001b[1;32m      5\u001b[0m bus_w \u001b[38;5;241m=\u001b[39m [item[\u001b[38;5;124m'\u001b[39m\u001b[38;5;124mBUS_V\u001b[39m\u001b[38;5;124m'\u001b[39m] \u001b[38;5;241m*\u001b[39m item[\u001b[38;5;124m'\u001b[39m\u001b[38;5;124mBUS_C\u001b[39m\u001b[38;5;124m'\u001b[39m] \u001b[38;5;28;01mfor\u001b[39;00m item \u001b[38;5;129;01min\u001b[39;00m data]\n",
      "Cell \u001b[0;32mIn[2], line 101\u001b[0m, in \u001b[0;36mget_power_robot\u001b[0;34m(robot)\u001b[0m\n\u001b[1;32m     99\u001b[0m \u001b[38;5;28;01mif\u001b[39;00m status \u001b[38;5;129;01mand\u001b[39;00m \u001b[38;5;124m\"\u001b[39m\u001b[38;5;124mhtml\u001b[39m\u001b[38;5;124m\"\u001b[39m \u001b[38;5;129;01mnot\u001b[39;00m \u001b[38;5;129;01min\u001b[39;00m content:\n\u001b[1;32m    100\u001b[0m     raw_json \u001b[38;5;241m=\u001b[39m json\u001b[38;5;241m.\u001b[39mloads(content)\n\u001b[0;32m--> 101\u001b[0m     raw_power_data \u001b[38;5;241m=\u001b[39m \u001b[43mraw_json\u001b[49m\u001b[43m[\u001b[49m\u001b[38;5;124;43m'\u001b[39;49m\u001b[38;5;124;43mpower\u001b[39;49m\u001b[38;5;124;43m'\u001b[39;49m\u001b[43m]\u001b[49m\n\u001b[1;32m    102\u001b[0m     int_power_data \u001b[38;5;241m=\u001b[39m [\u001b[38;5;28mint\u001b[39m(raw_power_data[i:i\u001b[38;5;241m+\u001b[39m\u001b[38;5;241m4\u001b[39m], \u001b[38;5;241m16\u001b[39m) \u001b[38;5;28;01mfor\u001b[39;00m i \u001b[38;5;129;01min\u001b[39;00m \u001b[38;5;28mrange\u001b[39m(\u001b[38;5;241m0\u001b[39m, \u001b[38;5;28mlen\u001b[39m(raw_power_data), \u001b[38;5;241m4\u001b[39m)]\n\u001b[1;32m    103\u001b[0m     result_data \u001b[38;5;241m=\u001b[39m []\n",
      "\u001b[0;31mKeyError\u001b[0m: 'power'"
     ]
    }
   ],
   "source": [
    "robot = robots[0]\n",
    "data = get_power_robot(robot)\n",
    "\n",
    "# 计算功率 (W)\n",
    "bus_w = [item['BUS_V'] * item['BUS_C'] for item in data]\n",
    "top_w = [item['RIGHT_V'] * item['RIGHT_C'] for item in data]\n",
    "bot_w = [item['LEFT_V'] * item['LEFT_C'] for item in data]\n",
    "\n",
    "# 创建x轴数据点\n",
    "x = range(len(data))\n",
    "\n",
    "# 绘制图表\n",
    "plt.figure(figsize=(10, 6))\n",
    "plt.plot(x, bus_w, label='BUS')\n",
    "plt.plot(x, top_w, label='RIGHT')\n",
    "plt.plot(x, bot_w, label='LEFT')\n",
    "\n",
    "plt.title('Power (W) over time')\n",
    "plt.xlabel('Time')\n",
    "plt.ylabel('Power (W)')\n",
    "plt.legend()\n",
    "plt.grid(True)\n",
    "\n",
    "# 显示图表\n",
    "plt.show()"
   ]
  },
  {
   "cell_type": "code",
   "execution_count": null,
   "metadata": {},
   "outputs": [],
   "source": [
    "robots = get_online_robots()\n",
    "sorted_robots = sorted(robots, key=lambda x: x['mac'])\n",
    "for i in sorted_robots:\n",
    "    print(i)\n",
    "# print(set_robot(sorted_robots[0], -300, 255, -300, 255, True, 0))"
   ]
  },
  {
   "cell_type": "code",
   "execution_count": null,
   "metadata": {},
   "outputs": [],
   "source": [
    "print(set_robot(sorted_robots[4], -200, 255, -200, 255, True, 0))"
   ]
  },
  {
   "cell_type": "code",
   "execution_count": null,
   "metadata": {},
   "outputs": [],
   "source": [
    "robots = get_online_robots()\n",
    "sorted_robots = sorted(robots, key=lambda x: x['mac'])\n",
    "# for i in sorted_robots:\n",
    "#     print(pause_robot(i, True))\n",
    "    \n",
    "set_robot(sorted_robots[0], 0, 255, 0, 255, True, 0)\n",
    "set_robot(sorted_robots[1], 0, 255, 0, 255, True, 0)\n",
    "set_robot(sorted_robots[2], 0, 255, 0, 255, True, 0)\n",
    "set_robot(sorted_robots[3], 0, 255, 0, 255, True, 0)\n",
    "set_robot(sorted_robots[4], 0, 255, 0, 255, True, 0)\n",
    "set_robot(sorted_robots[5], 0, 255, 0, 255, True, 0)"
   ]
  },
  {
   "cell_type": "code",
   "execution_count": null,
   "metadata": {},
   "outputs": [],
   "source": [
    "import time\n",
    "sorted_robots = sorted(robots, key=lambda x: x['mac'])\n",
    "\n",
    "shrink = -4000\n",
    "\n",
    "# 全部收缩，然后全部伸展\n",
    "set_robot(sorted_robots[0], shrink, 255, shrink, 255, True, 0)\n",
    "set_robot(sorted_robots[1], shrink, 255, shrink, 255, True, 0)\n",
    "set_robot(sorted_robots[2], shrink, 255, shrink, 255, True, 0)\n",
    "set_robot(sorted_robots[3], shrink, 255, shrink, 255, True, 0)\n",
    "set_robot(sorted_robots[4], shrink, 255, shrink, 255, True, 0)\n",
    "set_robot(sorted_robots[5], shrink, 255, shrink, 255, True, 0)\n",
    "time.sleep(3)\n",
    "set_robot(sorted_robots[0], 0, 255, 0, 255, True, 0)\n",
    "set_robot(sorted_robots[1], 0, 255, 0, 255, True, 0)\n",
    "set_robot(sorted_robots[2], 0, 255, 0, 255, True, 0)\n",
    "set_robot(sorted_robots[3], 0, 255, 0, 255, True, 0)\n",
    "set_robot(sorted_robots[4], 0, 255, 0, 255, True, 0)\n",
    "set_robot(sorted_robots[5], 0, 255, 0, 255, True, 0)\n",
    "time.sleep(3)\n",
    "\n",
    "# 扭曲，然后全部伸展\n",
    "set_robot(sorted_robots[0], shrink, 255, 0, 255, True, 0)\n",
    "set_robot(sorted_robots[1], 0, 255, shrink, 255, True, 0)\n",
    "set_robot(sorted_robots[2], shrink, 255, 0, 255, True, 0)\n",
    "set_robot(sorted_robots[3], 0, 255, shrink, 255, True, 0)\n",
    "set_robot(sorted_robots[4], shrink, 255, 0, 255, True, 0)\n",
    "set_robot(sorted_robots[5], 0, 255, shrink, 255, True, 0)\n",
    "time.sleep(3)\n",
    "set_robot(sorted_robots[0], 0, 255, shrink, 255, True, 0)\n",
    "set_robot(sorted_robots[1], shrink, 255, 0, 255, True, 0)\n",
    "set_robot(sorted_robots[2], 0, 255, shrink, 255, True, 0)\n",
    "set_robot(sorted_robots[3], shrink, 255, 0, 255, True, 0)\n",
    "set_robot(sorted_robots[4], 0, 255, shrink, 255, True, 0)\n",
    "set_robot(sorted_robots[5], shrink, 255, 0, 255, True, 0)\n",
    "time.sleep(3)\n",
    "set_robot(sorted_robots[0], 0, 255, 0, 255, True, 0)\n",
    "set_robot(sorted_robots[1], 0, 255, 0, 255, True, 0)\n",
    "set_robot(sorted_robots[2], 0, 255, 0, 255, True, 0)\n",
    "set_robot(sorted_robots[3], 0, 255, 0, 255, True, 0)\n",
    "set_robot(sorted_robots[4], 0, 255, 0, 255, True, 0)\n",
    "set_robot(sorted_robots[5], 0, 255, 0, 255, True, 0)\n",
    "time.sleep(3)\n",
    "\n",
    "# 单侧扭曲，然后全部伸展\n",
    "set_robot(sorted_robots[0], shrink, 255, 0, 255, True, 0)\n",
    "set_robot(sorted_robots[1], shrink, 255, 0, 255, True, 0)\n",
    "set_robot(sorted_robots[2], shrink, 255, 0, 255, True, 0)\n",
    "set_robot(sorted_robots[3], shrink, 255, 0, 255, True, 0)\n",
    "set_robot(sorted_robots[4], shrink, 255, 0, 255, True, 0)\n",
    "set_robot(sorted_robots[5], shrink, 255, 0, 255, True, 0)\n",
    "time.sleep(3)\n",
    "set_robot(sorted_robots[0], 0, 255, 0, 255, True, 0)\n",
    "set_robot(sorted_robots[1], 0, 255, 0, 255, True, 0)\n",
    "set_robot(sorted_robots[2], 0, 255, 0, 255, True, 0)\n",
    "set_robot(sorted_robots[3], 0, 255, 0, 255, True, 0)\n",
    "set_robot(sorted_robots[4], 0, 255, 0, 255, True, 0)\n",
    "set_robot(sorted_robots[5], 0, 255, 0, 255, True, 0)\n",
    "time.sleep(3)\n",
    "set_robot(sorted_robots[0], 0, 255, shrink, 255, True, 0)\n",
    "set_robot(sorted_robots[1], 0, 255, shrink, 255, True, 0)\n",
    "set_robot(sorted_robots[2], 0, 255, shrink, 255, True, 0)\n",
    "set_robot(sorted_robots[3], 0, 255, shrink, 255, True, 0)\n",
    "set_robot(sorted_robots[4], 0, 255, shrink, 255, True, 0)\n",
    "set_robot(sorted_robots[5], 0, 255, shrink, 255, True, 0)\n",
    "time.sleep(3)\n",
    "\n",
    "set_robot(sorted_robots[0], shrink, 255, shrink, 255, True, 0)\n",
    "set_robot(sorted_robots[1], shrink, 255, shrink, 255, True, 0)\n",
    "set_robot(sorted_robots[2], shrink, 255, shrink, 255, True, 0)\n",
    "set_robot(sorted_robots[3], shrink, 255, shrink, 255, True, 0)\n",
    "set_robot(sorted_robots[4], shrink, 255, shrink, 255, True, 0)\n",
    "set_robot(sorted_robots[5], shrink, 255, shrink, 255, True, 0)\n",
    "time.sleep(3)\n",
    "set_robot(sorted_robots[0], 0, 255, 0, 255, True, 0)\n",
    "set_robot(sorted_robots[1], 0, 255, 0, 255, True, 0)\n",
    "set_robot(sorted_robots[2], 0, 255, 0, 255, True, 0)\n",
    "set_robot(sorted_robots[3], 0, 255, 0, 255, True, 0)\n",
    "set_robot(sorted_robots[4], 0, 255, 0, 255, True, 0)\n",
    "set_robot(sorted_robots[5], 0, 255, 0, 255, True, 0)\n",
    "time.sleep(3)\n"
   ]
  },
  {
   "cell_type": "code",
   "execution_count": 7,
   "metadata": {},
   "outputs": [
    {
     "name": "stdout",
     "output_type": "stream",
     "text": [
      "{'status': 'set ok', 'ip': '192.168.31.170', 'mac': 'D8:3B:DA:C3:87:96', 'm1_current': 18, 'm1_target': 0, 'm2_current': 20, 'm2_target': -3000, 'm1_power': 255, 'm2_power': 255, 'm3_power': 255, 'm1_error': 0, 'm2_error': 0, 'battery': 1.2, 'pause': False}\n"
     ]
    }
   ],
   "source": [
    "robot = robots[0]\n",
    "print(set_robot(robot, -0, 255, -3000, 255, True, 255))"
   ]
  },
  {
   "cell_type": "code",
   "execution_count": 8,
   "metadata": {},
   "outputs": [
    {
     "name": "stdout",
     "output_type": "stream",
     "text": [
      "{'status': 'set ok', 'ip': '192.168.31.170', 'mac': 'D8:3B:DA:C3:87:96', 'm1_current': 18, 'm1_target': 0, 'm2_current': -3011, 'm2_target': 0, 'm1_power': 255, 'm2_power': 255, 'm3_power': 0, 'm1_error': 0, 'm2_error': 0, 'battery': 1.15, 'pause': False}\n"
     ]
    }
   ],
   "source": [
    "robot = robots[0]\n",
    "print(set_robot(robot, 0, 255, 0, 255, True, 0))"
   ]
  },
  {
   "cell_type": "code",
   "execution_count": null,
   "metadata": {},
   "outputs": [],
   "source": []
  }
 ],
 "metadata": {
  "kernelspec": {
   "display_name": "Robotics",
   "language": "python",
   "name": "python3"
  },
  "language_info": {
   "codemirror_mode": {
    "name": "ipython",
    "version": 3
   },
   "file_extension": ".py",
   "mimetype": "text/x-python",
   "name": "python",
   "nbconvert_exporter": "python",
   "pygments_lexer": "ipython3",
   "version": "3.10.6"
  }
 },
 "nbformat": 4,
 "nbformat_minor": 2
}
