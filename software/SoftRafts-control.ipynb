{
 "cells": [
  {
   "cell_type": "markdown",
   "metadata": {
    "jp-MarkdownHeadingCollapsed": true
   },
   "source": [
    "# setting up initial functions"
   ]
  },
  {
   "cell_type": "code",
   "execution_count": 3,
   "metadata": {},
   "outputs": [],
   "source": [
    "import aiohttp\n",
    "import asyncio\n",
    "import json\n",
    "import socket\n",
    "import time\n",
    "from concurrent.futures import ThreadPoolExecutor\n",
    "import nest_asyncio\n",
    "nest_asyncio.apply()"
   ]
  },
  {
   "cell_type": "code",
   "execution_count": 4,
   "metadata": {},
   "outputs": [],
   "source": [
    "session = aiohttp.ClientSession()\n",
    "\n",
    "def scan_ip(ip):\n",
    "    try:\n",
    "        with socket.socket(socket.AF_INET, socket.SOCK_STREAM) as s:\n",
    "            s.settimeout(1)\n",
    "            s.connect((ip, 80))\n",
    "            return ip\n",
    "    except:\n",
    "        return None\n",
    "\n",
    "def get_online_ips():\n",
    "    online_ips = []\n",
    "    with ThreadPoolExecutor(max_workers=256) as executor:\n",
    "        futures = []\n",
    "        for i in range(2, 256):\n",
    "            ip = f\"192.168.8.{i}\"\n",
    "            futures.append(executor.submit(scan_ip, ip))\n",
    "        for future in futures:\n",
    "            result = future.result()\n",
    "            if result:\n",
    "                online_ips.append(result)\n",
    "    return online_ips\n",
    "\n",
    "async def call_get(url):\n",
    "    try:\n",
    "        async with session.get(url, timeout=5) as response:  # 设置了5秒的超时\n",
    "            return url, await response.text(), response.status\n",
    "    except Exception as e:\n",
    "        return url, str(e), None\n",
    "\n",
    "async def get_hosts_status(ips):\n",
    "    tasks = []\n",
    "    for i in ips:\n",
    "        url = f\"http://\" + i + \"/?status\"\n",
    "        tasks.append(call_get(url))\n",
    "    \n",
    "    results = await asyncio.gather(*tasks)\n",
    "\n",
    "    online_robots = []\n",
    "    for url, content, status in results:\n",
    "        if status and \"html\" not in content and \"HTML\" not in content and content != \"\":\n",
    "            online_robots.append(json.loads(content))\n",
    "\n",
    "    return online_robots\n",
    "\n",
    "def get_online_robots():\n",
    "    online_robots = get_online_ips()\n",
    "    return asyncio.run(get_hosts_status(online_robots))\n",
    "\n",
    "def refesh_robot(robot):\n",
    "    url, content, status = asyncio.run(call_get(f\"http://{robot['ip']}/?status\"))\n",
    "    if status and \"html\" not in content:\n",
    "        return json.loads(content)\n",
    "    else:\n",
    "        return None\n",
    "    \n",
    "def set_robot(robot, M1_position:int, M1_power:int, M2_position:int, M2_power:int, M3_direction:bool, M3_power:int):\n",
    "    if M1_position < -2147483648 or M1_position > 2147483647 or M2_position < -2147483648 or M2_position > 2147483647:\n",
    "        raise ValueError(\"Motor position should be in [-2147483648, 2147483647]\")\n",
    "    elif M1_power < 0 or M1_power > 255 or M2_power < 0 or M2_power > 255 or M3_power < 0 or M3_power > 255:\n",
    "        raise ValueError(\"Motor power should be in [0, 255]\")\n",
    "    \n",
    "    action = f\"{int32_to_hex(M1_position)}{hex(M1_power)[2:].upper().zfill(2)}{int32_to_hex(M2_position)}{hex(M2_power)[2:].upper().zfill(2)}{int(M3_direction)}{hex(M3_power)[2:].upper().zfill(2)}\"\n",
    "    url, content, status = asyncio.run(call_get(f\"http://{robot['ip']}/?set={action}\"))\n",
    "    if status and \"html\" not in content:\n",
    "        return json.loads(content)\n",
    "    else:\n",
    "        return None\n",
    "    \n",
    "def calibrate_robot(robot, M1:bool, M2:bool):\n",
    "    url, content, status = asyncio.run(call_get(f\"http://{robot['ip']}/?calibrate={int(M1)}{int(M2)}\"))\n",
    "    if status and \"html\" not in content:\n",
    "        return json.loads(content)\n",
    "    else:\n",
    "        return None\n",
    "    \n",
    "def reach_robot(robot, M1:bool, M2:bool):\n",
    "    url, content, status = asyncio.run(call_get(f\"http://{robot['ip']}/?reach={int(M1)}{int(M2)}\"))\n",
    "    if status and \"html\" not in content:\n",
    "        return json.loads(content)\n",
    "    else:\n",
    "        return None\n",
    "    \n",
    "def pause_robot(robot, pause:bool):\n",
    "    url, content, status = asyncio.run(call_get(f\"http://{robot['ip']}/?pause{int(pause)}\"))\n",
    "    if status and \"html\" not in content:\n",
    "        return json.loads(content)\n",
    "    else:\n",
    "        return None\n",
    "    \n",
    "def int32_to_hex(value: int):\n",
    "    if value < 0:\n",
    "        value = 0xFFFFFFFF + value + 1\n",
    "    return hex(value)[2:].zfill(8).upper()\n",
    "\n",
    "def get_power_robot(robot):\n",
    "    url, content, status = asyncio.run(call_get(f\"http://{robot['ip']}/?power\"))\n",
    "    if status and \"html\" not in content:\n",
    "        raw_json = json.loads(content)\n",
    "        raw_power_data = raw_json['power']\n",
    "        int_power_data = [int(raw_power_data[i:i+4], 16) for i in range(0, len(raw_power_data), 4)]\n",
    "        result_data = []\n",
    "        for i in range(0, len(int_power_data), 6):\n",
    "            bus_bus = float(int_power_data[i] >> 3) * 0.008\n",
    "            top_bus = float(int_power_data[i+1] >> 3) * 0.008\n",
    "            bot_bus = float(int_power_data[i+2] >> 3) * 0.008\n",
    "            bus_shunt = float(int_power_data[i+3] >> 3) * 0.00004\n",
    "            top_shunt = float(int_power_data[i+4] >> 3) * 0.00004\n",
    "            bot_shunt = float(int_power_data[i+5] >> 3) * 0.00004\n",
    "            bus_current = bus_shunt / 0.02\n",
    "            top_current = top_shunt / 0.04\n",
    "            bot_current = bot_shunt / 0.04\n",
    "            result_data.append({\n",
    "                \"BUS_V\": bus_bus,\n",
    "                \"RIGHT_V\": top_bus,\n",
    "                \"LEFT_V\": bot_bus,\n",
    "                \"BUS_C\": bus_current,\n",
    "                \"RIGHT_C\": top_current,\n",
    "                \"LEFT_C\": bot_current,\n",
    "            })\n",
    "        return result_data\n",
    "    else:\n",
    "        return None"
   ]
  },
  {
   "cell_type": "code",
   "execution_count": 5,
   "metadata": {},
   "outputs": [],
   "source": [
    "# Your list of MAC addresses with their corresponding IDs\n",
    "robots_mac = {\n",
    "    0: \"D8:3B:DA:C3:87:2E\",\n",
    "    1: \"D8:3B:DA:C3:87:1E\",\n",
    "    2: \"D8:3B:DA:C3:86:FE\",\n",
    "    3: \"D8:3B:DA:C3:87:6A\",\n",
    "    4: \"D8:3B:DA:C3:87:00\",\n",
    "    5: \"D8:3B:DA:C3:87:9E\",\n",
    "    6: \"D8:3B:DA:C3:87:20\",\n",
    "    7: \"D8:3B:DA:C3:87:96\",\n",
    "    8: \"D8:3B:DA:C3:87:26\",\n",
    "    9: \"D8:3B:DA:C3:87:3E\",\n",
    "    10: \"D8:3B:DA:C3:87:28\",\n",
    "    11: \"D8:3B:DA:C3:87:6E\",\n",
    "    12: \"D8:3B:DA:C3:87:5C\",\n",
    "    13: \"D8:3B:DA:C3:87:10\",\n",
    "    14: \"D8:3B:DA:C3:86:C6\",\n",
    "    15: \"D8:3B:DA:C3:87:8E\",\n",
    "    16: \"D8:3B:DA:C3:87:3A\",\n",
    "    17: \"D8:3B:DA:C3:87:4E\",\n",
    "    18: \"D8:3B:DA:C3:87:84\",\n",
    "    19: \"D8:3B:DA:C3:87:A2\",\n",
    "    20: \"D8:3B:DA:C3:87:70\",\n",
    "    21: \"D8:3B:DA:C3:86:D4\",\n",
    "    22: \"D8:3B:DA:C3:87:68\",\n",
    "    23: \"D8:3B:DA:C3:87:3C\",\n",
    "    24: \"D8:3B:DA:C3:86:D6\",\n",
    "    25: \"D8:3B:DA:C3:87:98\",\n",
    "    26: \"D8:3B:DA:C3:87:4C\",\n",
    "    27: \"D8:3B:DA:C3:87:1C\",\n",
    "    28: \"D8:3B:DA:C3:87:7C\",\n",
    "    29: \"D8:3B:DA:C3:87:72\",\n",
    "    30: \"D8:3B:DA:C3:87:1A\"\n",
    "}\n",
    "\n",
    "\n",
    "# Function to detect online robots and map them by ID\n",
    "def detect_online_robots():\n",
    "    online_robots = get_online_robots()\n",
    "    online_mac_addresses = {robot['mac'] for robot in online_robots}\n",
    "\n",
    "    # Find online robot IDs\n",
    "    online_robot_ids = [\n",
    "        robot_id for robot_id, mac in robots_mac.items() if mac in online_mac_addresses\n",
    "    ]\n",
    "\n",
    "    # Map each online robot ID to its corresponding robot data\n",
    "    robotwithID = {\n",
    "        robot_id: robot for robot_id, mac in robots_mac.items() \n",
    "        if mac in online_mac_addresses for robot in online_robots if robot['mac'] == mac\n",
    "    }\n",
    "\n",
    "    return online_robot_ids, robotwithID\n"
   ]
  },
  {
   "cell_type": "markdown",
   "metadata": {
    "jp-MarkdownHeadingCollapsed": true
   },
   "source": [
    "# two robots attachment"
   ]
  },
  {
   "cell_type": "code",
   "execution_count": 4,
   "metadata": {},
   "outputs": [
    {
     "name": "stdout",
     "output_type": "stream",
     "text": [
      "Online Robots (IDs): [4, 6, 7, 18, 24, 25]\n"
     ]
    }
   ],
   "source": [
    "online_robot_ids, robotwithID = detect_online_robots()\n",
    "print(\"Online Robots (IDs):\", online_robot_ids)\n",
    "\n",
    "# robot = robots[0]\n",
    "# print(refesh_robot(robot))"
   ]
  },
  {
   "cell_type": "code",
   "execution_count": 31,
   "metadata": {},
   "outputs": [],
   "source": [
    "# To control a specific robot by its ID\n",
    "robot_id1 = 9 # Example robot ID\n",
    "robot_id2 = 20 # Example robot ID\n",
    "robot1 = None\n",
    "robot2 = None\n",
    "\n",
    "robot1 = robotwithID[robot_id1]\n",
    "robot2 = robotwithID[robot_id2]\n"
   ]
  },
  {
   "cell_type": "code",
   "execution_count": null,
   "metadata": {},
   "outputs": [],
   "source": [
    "# print(set_robot(robotwithID[18], -1900, 255, -2400, 255, True, 0))"
   ]
  },
  {
   "cell_type": "code",
   "execution_count": 799,
   "metadata": {},
   "outputs": [
    {
     "name": "stdout",
     "output_type": "stream",
     "text": [
      "{'status': 'set ok', 'ip': '192.168.8.245', 'mac': 'D8:3B:DA:C3:87:1E', 'm1_current': 0, 'm1_target': -300, 'm2_current': -5, 'm2_target': 0, 'm1_power': 255, 'm2_power': 255, 'm3_power': 0, 'm1_error': 0, 'm2_error': 0, 'battery': 4.27, 'pause': False}\n"
     ]
    }
   ],
   "source": [
    "print(set_robot(robot1, -300, 255, -00, 255, True, 0))"
   ]
  },
  {
   "cell_type": "code",
   "execution_count": 334,
   "metadata": {},
   "outputs": [
    {
     "name": "stdout",
     "output_type": "stream",
     "text": [
      "{'status': 'set ok', 'ip': '192.168.8.245', 'mac': 'D8:3B:DA:C3:87:1E', 'm1_current': -5493, 'm1_target': 0, 'm2_current': 0, 'm2_target': 0, 'm1_power': 255, 'm2_power': 255, 'm3_power': 0, 'm1_error': 0, 'm2_error': 0, 'battery': 4.24, 'pause': False}\n"
     ]
    }
   ],
   "source": [
    "print(set_robot(robot, -5500, 255, 00, 255, True, 0))"
   ]
  },
  {
   "cell_type": "code",
   "execution_count": 115,
   "metadata": {},
   "outputs": [
    {
     "name": "stdout",
     "output_type": "stream",
     "text": [
      "{'status': 'set ok', 'ip': '192.168.8.120', 'mac': 'D8:3B:DA:C3:86:FE', 'm1_current': -9, 'm1_target': -6000, 'm2_current': -4, 'm2_target': -6000, 'm1_power': 255, 'm2_power': 255, 'm3_power': 0, 'm1_error': 0, 'm2_error': 0, 'battery': 4.15, 'pause': False}\n",
      "{'status': 'set ok', 'ip': '192.168.8.120', 'mac': 'D8:3B:DA:C3:86:FE', 'm1_current': -5972, 'm1_target': -6000, 'm2_current': -5994, 'm2_target': -6000, 'm1_power': 20, 'm2_power': 20, 'm3_power': 180, 'm1_error': 0, 'm2_error': 0, 'battery': 4.14, 'pause': False}\n"
     ]
    }
   ],
   "source": [
    "print(set_robot(robot2, -6000, 255, -6000, 255, True, 0))\n",
    "# print(set_robot(robot1, -6000, 255, -6000, 255, True, 0))\n",
    "time.sleep(1.5)\n",
    "# print(set_robot(robot1, -6000, 20, -6000, 20, True, 0))\n",
    "# print(set_robot(robot2, -6000, 20, -6000, 20, True, 0))\n",
    "print(set_robot(robot2, -6000, 20, -6000, 20, True, 180))\n",
    "# print(set_robot(robot1, -6000, 20, -6000, 20, True, 180))\n",
    "# print(set_robot(robot1, 0, 20, 0, 20, True, 180))"
   ]
  },
  {
   "cell_type": "code",
   "execution_count": 135,
   "metadata": {},
   "outputs": [
    {
     "name": "stdout",
     "output_type": "stream",
     "text": [
      "{'status': 'set ok', 'ip': '192.168.8.127', 'mac': 'D8:3B:DA:C3:87:3E', 'm1_current': -6008, 'm1_target': 0, 'm2_current': -6469, 'm2_target': 0, 'm1_power': 255, 'm2_power': 255, 'm3_power': 0, 'm1_error': 0, 'm2_error': 0, 'battery': 1.26, 'pause': False}\n",
      "{'status': 'set ok', 'ip': '192.168.8.177', 'mac': 'D8:3B:DA:C3:87:70', 'm1_current': -5969, 'm1_target': 0, 'm2_current': -5970, 'm2_target': 0, 'm1_power': 255, 'm2_power': 255, 'm3_power': 0, 'm1_error': 0, 'm2_error': 0, 'battery': 1.24, 'pause': False}\n"
     ]
    }
   ],
   "source": [
    "print(set_robot(robot1,  -0, 255, -0, 255, True, 0))\n",
    "print(set_robot(robot2,  -0, 255, -0, 255, True, 0))"
   ]
  },
  {
   "cell_type": "code",
   "execution_count": 105,
   "metadata": {},
   "outputs": [
    {
     "name": "stdout",
     "output_type": "stream",
     "text": [
      "{'status': 'set ok', 'ip': '192.168.8.127', 'mac': 'D8:3B:DA:C3:87:3E', 'm1_current': -6008, 'm1_target': -6000, 'm2_current': -6470, 'm2_target': -6500, 'm1_power': 255, 'm2_power': 255, 'm3_power': 0, 'm1_error': 0, 'm2_error': 0, 'battery': 1.28, 'pause': False}\n",
      "{'status': 'set ok', 'ip': '192.168.8.177', 'mac': 'D8:3B:DA:C3:87:70', 'm1_current': 0, 'm1_target': -6000, 'm2_current': 0, 'm2_target': -6000, 'm1_power': 255, 'm2_power': 255, 'm3_power': 0, 'm1_error': 0, 'm2_error': 0, 'battery': 1.27, 'pause': False}\n"
     ]
    }
   ],
   "source": [
    "print(set_robot(robot1,  -6000, 255, -6500, 255, True, 0))\n",
    "print(set_robot(robot2,  -6000, 255, -6000, 255, True, 0))\n",
    "# print(set_robot(robot2,  -0, 20, -0, 20, True, 180))"
   ]
  },
  {
   "cell_type": "code",
   "execution_count": 133,
   "metadata": {},
   "outputs": [
    {
     "name": "stdout",
     "output_type": "stream",
     "text": [
      "{'status': 'set ok', 'ip': '192.168.8.127', 'mac': 'D8:3B:DA:C3:87:3E', 'm1_current': -6008, 'm1_target': -6000, 'm2_current': -6469, 'm2_target': -6500, 'm1_power': 20, 'm2_power': 20, 'm3_power': 180, 'm1_error': 0, 'm2_error': 0, 'battery': 1.27, 'pause': False}\n"
     ]
    }
   ],
   "source": [
    "print(set_robot(robot1,  -6000, 20, -6500, 20, True, 180))\n",
    "# print(set_robot(robot2,  -6000, 20, -6000, 20, True, 180))"
   ]
  },
  {
   "cell_type": "code",
   "execution_count": 134,
   "metadata": {},
   "outputs": [
    {
     "name": "stdout",
     "output_type": "stream",
     "text": [
      "{'status': 'set ok', 'ip': '192.168.8.127', 'mac': 'D8:3B:DA:C3:87:3E', 'm1_current': -6008, 'm1_target': -6000, 'm2_current': -6469, 'm2_target': -6500, 'm1_power': 20, 'm2_power': 20, 'm3_power': 180, 'm1_error': 0, 'm2_error': 0, 'battery': 1.24, 'pause': False}\n",
      "{'status': 'set ok', 'ip': '192.168.8.127', 'mac': 'D8:3B:DA:C3:87:3E', 'm1_current': -6008, 'm1_target': -6000, 'm2_current': -6469, 'm2_target': -6500, 'm1_power': 20, 'm2_power': 20, 'm3_power': 0, 'm1_error': 0, 'm2_error': 0, 'battery': 1.24, 'pause': False}\n",
      "{'status': 'set ok', 'ip': '192.168.8.177', 'mac': 'D8:3B:DA:C3:87:70', 'm1_current': -5969, 'm1_target': -6000, 'm2_current': -5970, 'm2_target': -6000, 'm1_power': 20, 'm2_power': 20, 'm3_power': 0, 'm1_error': 0, 'm2_error': 0, 'battery': 1.25, 'pause': False}\n"
     ]
    }
   ],
   "source": [
    "print(set_robot(robot1,  -6000, 20, -6500, 20, False, 180))\n",
    "# print(set_robot(robot2,  -6000, 20, -6000, 20, False, 180))\n",
    "time.sleep(0.5)\n",
    "print(set_robot(robot1, -6000, 20, -6500,20,  False, 0))\n",
    "print(set_robot(robot2, -6000, 20, -6000,20,  False, 0))"
   ]
  },
  {
   "cell_type": "code",
   "execution_count": 116,
   "metadata": {},
   "outputs": [
    {
     "name": "stdout",
     "output_type": "stream",
     "text": [
      "{'status': 'set ok', 'ip': '192.168.8.120', 'mac': 'D8:3B:DA:C3:86:FE', 'm1_current': -5972, 'm1_target': -6000, 'm2_current': -5994, 'm2_target': -6000, 'm1_power': 20, 'm2_power': 20, 'm3_power': 180, 'm1_error': 0, 'm2_error': 0, 'battery': 4.07, 'pause': False}\n",
      "{'status': 'set ok', 'ip': '192.168.8.120', 'mac': 'D8:3B:DA:C3:86:FE', 'm1_current': -5972, 'm1_target': -6000, 'm2_current': -5994, 'm2_target': -6000, 'm1_power': 20, 'm2_power': 20, 'm3_power': 0, 'm1_error': 0, 'm2_error': 0, 'battery': 4.07, 'pause': False}\n"
     ]
    }
   ],
   "source": [
    "print(set_robot(robot2,  -6000, 20, -6000, 20, False, 180))\n",
    "# print(set_robot(robot1, -6000, 20, -6000, 20, False, 180))\n",
    "# print(set_robot(robot1, -0, 20, -0, 20, False, 180))\n",
    "time.sleep(0.5)\n",
    "print(set_robot(robot2, -6000, 20, -6000,20,  False, 0))\n",
    "# print(set_robot(robot1, -6000, 20, -6000, 20, False, 0))\n",
    "# print(set_robot(robot1, -0, 20, -0, 20, False, 0))"
   ]
  },
  {
   "cell_type": "code",
   "execution_count": 118,
   "metadata": {},
   "outputs": [
    {
     "name": "stdout",
     "output_type": "stream",
     "text": [
      "{'status': 'set ok', 'ip': '192.168.8.120', 'mac': 'D8:3B:DA:C3:86:FE', 'm1_current': -7, 'm1_target': 0, 'm2_current': -3, 'm2_target': 0, 'm1_power': 255, 'm2_power': 255, 'm3_power': 0, 'm1_error': 0, 'm2_error': 0, 'battery': 4.15, 'pause': False}\n",
      "{'status': 'set ok', 'ip': '192.168.8.245', 'mac': 'D8:3B:DA:C3:87:1E', 'm1_current': 0, 'm1_target': 0, 'm2_current': 1, 'm2_target': 0, 'm1_power': 255, 'm2_power': 255, 'm3_power': 0, 'm1_error': 0, 'm2_error': 0, 'battery': 4.14, 'pause': False}\n"
     ]
    }
   ],
   "source": [
    "print(set_robot(robot2, 0, 255, 0, 255, True, 0))\n",
    "print(set_robot(robot1, 0, 255,  0, 255, False, 0))"
   ]
  },
  {
   "cell_type": "code",
   "execution_count": 710,
   "metadata": {},
   "outputs": [
    {
     "name": "stdout",
     "output_type": "stream",
     "text": [
      "{'status': 'set ok', 'ip': '192.168.8.120', 'mac': 'D8:3B:DA:C3:86:FE', 'm1_current': -1, 'm1_target': -6000, 'm2_current': 13, 'm2_target': -6000, 'm1_power': 255, 'm2_power': 255, 'm3_power': 0, 'm1_error': 0, 'm2_error': 0, 'battery': 3.95, 'pause': False}\n"
     ]
    }
   ],
   "source": [
    "print(set_robot(robot2, -6000, 255, -6000, 255, True, 0))"
   ]
  },
  {
   "cell_type": "code",
   "execution_count": 711,
   "metadata": {},
   "outputs": [
    {
     "name": "stdout",
     "output_type": "stream",
     "text": [
      "{'status': 'set ok', 'ip': '192.168.8.120', 'mac': 'D8:3B:DA:C3:86:FE', 'm1_current': -5976, 'm1_target': -6000, 'm2_current': -6029, 'm2_target': -6000, 'm1_power': 20, 'm2_power': 20, 'm3_power': 180, 'm1_error': 0, 'm2_error': 0, 'battery': 3.95, 'pause': False}\n",
      "{'status': 'set ok', 'ip': '192.168.8.245', 'mac': 'D8:3B:DA:C3:87:1E', 'm1_current': 14, 'm1_target': 0, 'm2_current': 2, 'm2_target': 0, 'm1_power': 20, 'm2_power': 20, 'm3_power': 180, 'm1_error': 0, 'm2_error': 0, 'battery': 3.98, 'pause': False}\n"
     ]
    }
   ],
   "source": [
    "print(set_robot(robot2, -6000, 20, -6000, 20, True, 180))\n",
    "print(set_robot(robot1, 0, 20,  0, 20, False, 180))"
   ]
  },
  {
   "cell_type": "code",
   "execution_count": 712,
   "metadata": {},
   "outputs": [
    {
     "name": "stdout",
     "output_type": "stream",
     "text": [
      "{'status': 'set ok', 'ip': '192.168.8.120', 'mac': 'D8:3B:DA:C3:86:FE', 'm1_current': -5976, 'm1_target': -6000, 'm2_current': -6029, 'm2_target': -6000, 'm1_power': 20, 'm2_power': 20, 'm3_power': 180, 'm1_error': 0, 'm2_error': 0, 'battery': 3.87, 'pause': False}\n",
      "{'status': 'set ok', 'ip': '192.168.8.245', 'mac': 'D8:3B:DA:C3:87:1E', 'm1_current': 14, 'm1_target': 0, 'm2_current': 2, 'm2_target': 0, 'm1_power': 20, 'm2_power': 20, 'm3_power': 180, 'm1_error': 0, 'm2_error': 0, 'battery': 3.91, 'pause': False}\n",
      "{'status': 'set ok', 'ip': '192.168.8.120', 'mac': 'D8:3B:DA:C3:86:FE', 'm1_current': -5976, 'm1_target': -6000, 'm2_current': -6029, 'm2_target': -6000, 'm1_power': 20, 'm2_power': 20, 'm3_power': 0, 'm1_error': 0, 'm2_error': 0, 'battery': 3.87, 'pause': False}\n",
      "{'status': 'set ok', 'ip': '192.168.8.245', 'mac': 'D8:3B:DA:C3:87:1E', 'm1_current': 14, 'm1_target': 0, 'm2_current': 2, 'm2_target': 0, 'm1_power': 20, 'm2_power': 20, 'm3_power': 0, 'm1_error': 0, 'm2_error': 0, 'battery': 3.91, 'pause': False}\n"
     ]
    }
   ],
   "source": [
    "print(set_robot(robot2,  -6000, 20, -6000, 20, False, 180))\n",
    "print(set_robot(robot1, 00, 20, 0, 20, True, 180))\n",
    "time.sleep(0.5)\n",
    "print(set_robot(robot2, -6000, 20, -6000,20,  False, 0))\n",
    "print(set_robot(robot1, 00, 20, 00, 20, False, 0))"
   ]
  },
  {
   "cell_type": "code",
   "execution_count": 690,
   "metadata": {},
   "outputs": [
    {
     "name": "stdout",
     "output_type": "stream",
     "text": [
      "{'status': 'set ok', 'ip': '192.168.8.245', 'mac': 'D8:3B:DA:C3:87:1E', 'm1_current': 20, 'm1_target': 0, 'm2_current': -8, 'm2_target': -4500, 'm1_power': 255, 'm2_power': 255, 'm3_power': 0, 'm1_error': 0, 'm2_error': 0, 'battery': 3.99, 'pause': False}\n"
     ]
    }
   ],
   "source": [
    "print(set_robot(robot1, -0, 255, -4500, 255, True, 0))"
   ]
  },
  {
   "cell_type": "code",
   "execution_count": 691,
   "metadata": {},
   "outputs": [
    {
     "name": "stdout",
     "output_type": "stream",
     "text": [
      "{'status': 'set ok', 'ip': '192.168.8.245', 'mac': 'D8:3B:DA:C3:87:1E', 'm1_current': 20, 'm1_target': -2000, 'm2_current': -4478, 'm2_target': 0, 'm1_power': 255, 'm2_power': 255, 'm3_power': 0, 'm1_error': 0, 'm2_error': 0, 'battery': 3.99, 'pause': False}\n"
     ]
    }
   ],
   "source": [
    "print(set_robot(robot1, -2000, 255, 0, 255, True, 0))"
   ]
  },
  {
   "cell_type": "code",
   "execution_count": 692,
   "metadata": {},
   "outputs": [
    {
     "name": "stdout",
     "output_type": "stream",
     "text": [
      "{'status': 'set ok', 'ip': '192.168.8.245', 'mac': 'D8:3B:DA:C3:87:1E', 'm1_current': -2008, 'm1_target': 0, 'm2_current': 2, 'm2_target': 0, 'm1_power': 255, 'm2_power': 255, 'm3_power': 0, 'm1_error': 0, 'm2_error': 0, 'battery': 3.99, 'pause': False}\n"
     ]
    }
   ],
   "source": [
    "print(set_robot(robot1, 0, 255, 0, 255, True, 0))"
   ]
  },
  {
   "cell_type": "code",
   "execution_count": 379,
   "metadata": {},
   "outputs": [
    {
     "name": "stdout",
     "output_type": "stream",
     "text": [
      "{'status': 'set ok', 'ip': '192.168.8.120', 'mac': 'D8:3B:DA:C3:86:FE', 'm1_current': 0, 'm1_target': 0, 'm2_current': 0, 'm2_target': 0, 'm1_power': 255, 'm2_power': 255, 'm3_power': 0, 'm1_error': 0, 'm2_error': 0, 'battery': 4.03, 'pause': False}\n"
     ]
    }
   ],
   "source": [
    "print(set_robot(robot2, 0, 255, 00, 255, True, 0))"
   ]
  },
  {
   "cell_type": "code",
   "execution_count": 522,
   "metadata": {},
   "outputs": [
    {
     "name": "stdout",
     "output_type": "stream",
     "text": [
      "{'status': 'set ok', 'ip': '192.168.8.120', 'mac': 'D8:3B:DA:C3:86:FE', 'm1_current': -17, 'm1_target': 0, 'm2_current': 2, 'm2_target': 0, 'm1_power': 255, 'm2_power': 255, 'm3_power': 0, 'm1_error': 0, 'm2_error': 0, 'battery': 3.92, 'pause': False}\n"
     ]
    }
   ],
   "source": [
    "print(set_robot(robot2, 0, 255, 00, 255, True, 0))"
   ]
  },
  {
   "cell_type": "code",
   "execution_count": 497,
   "metadata": {},
   "outputs": [
    {
     "name": "stdout",
     "output_type": "stream",
     "text": [
      "{'status': 'set ok', 'ip': '192.168.8.245', 'mac': 'D8:3B:DA:C3:87:1E', 'm1_current': 26, 'm1_target': 0, 'm2_current': 13, 'm2_target': -300, 'm1_power': 255, 'm2_power': 255, 'm3_power': 0, 'm1_error': 0, 'm2_error': 0, 'battery': 4.11, 'pause': False}\n"
     ]
    }
   ],
   "source": [
    "print(set_robot(robot1, 0, 255,-300 , 255, True, 0))"
   ]
  },
  {
   "cell_type": "code",
   "execution_count": 801,
   "metadata": {},
   "outputs": [
    {
     "name": "stdout",
     "output_type": "stream",
     "text": [
      "{'status': 'calibrate ok', 'ip': '192.168.8.245', 'mac': 'D8:3B:DA:C3:87:1E', 'm1_current': 0, 'm1_target': 0, 'm2_current': 0, 'm2_target': 0, 'm1_power': 255, 'm2_power': 255, 'm3_power': 0, 'm1_error': 0, 'm2_error': 0, 'battery': 4.27, 'pause': False}\n"
     ]
    }
   ],
   "source": [
    "print(calibrate_robot(robot1, True, True))"
   ]
  },
  {
   "cell_type": "code",
   "execution_count": null,
   "metadata": {},
   "outputs": [],
   "source": [
    "# print(calibrate_robot(robotwithID[18], True, True))"
   ]
  },
  {
   "cell_type": "markdown",
   "metadata": {
    "jp-MarkdownHeadingCollapsed": true
   },
   "source": [
    "# single robot locomotion"
   ]
  },
  {
   "cell_type": "code",
   "execution_count": 136,
   "metadata": {},
   "outputs": [
    {
     "name": "stdout",
     "output_type": "stream",
     "text": [
      "Online Robots (IDs): [3, 7, 9, 16, 24, 26]\n"
     ]
    }
   ],
   "source": [
    "online_robot_ids, robotwithID = detect_online_robots()\n",
    "print(\"Online Robots (IDs):\", online_robot_ids)\n",
    "\n",
    "robot_id = 7 # Example robot ID\n",
    "\n",
    "robot = robotwithID[robot_id]"
   ]
  },
  {
   "cell_type": "code",
   "execution_count": 769,
   "metadata": {},
   "outputs": [
    {
     "data": {
      "text/plain": [
       "{'status': 'set ok',\n",
       " 'ip': '192.168.8.143',\n",
       " 'mac': 'D8:3B:DA:C3:87:4E',\n",
       " 'm1_current': -26,\n",
       " 'm1_target': 0,\n",
       " 'm2_current': -28,\n",
       " 'm2_target': 0,\n",
       " 'm1_power': 255,\n",
       " 'm2_power': 255,\n",
       " 'm3_power': 0,\n",
       " 'm1_error': 0,\n",
       " 'm2_error': 0,\n",
       " 'battery': 1.16,\n",
       " 'pause': False}"
      ]
     },
     "execution_count": 769,
     "metadata": {},
     "output_type": "execute_result"
    }
   ],
   "source": [
    "## on ground -- single robot\n",
    "for i in range(5):\n",
    "    # Now you can use the set_robot function\n",
    "    set_robot(robot, -00, 255, -5500, 255, True, 0)\n",
    "    time.sleep(1)\n",
    "    set_robot(robot, -00, 255, -00, 255, True, 0)\n",
    "    time.sleep(1)\n",
    "    set_robot(robot, -5500, 255, -00, 255, True, 0)\n",
    "    time.sleep(1)\n",
    "    set_robot(robot, -00, 255, -00, 255, True, 0)\n",
    "    time.sleep(1)\n",
    "set_robot(robot, -00, 255, -0, 255, True, 0)"
   ]
  },
  {
   "cell_type": "code",
   "execution_count": 787,
   "metadata": {},
   "outputs": [],
   "source": [
    "for i in range(4):\n",
    "    set_robot(robot, -5500, 255, -5500, 255, True, 0)\n",
    "    time.sleep(1)\n",
    "    set_robot(robot, -00, 255, -00, 255, False, 0)\n",
    "    time.sleep(1)"
   ]
  },
  {
   "cell_type": "code",
   "execution_count": 58,
   "metadata": {},
   "outputs": [
    {
     "name": "stdout",
     "output_type": "stream",
     "text": [
      "stop\n"
     ]
    }
   ],
   "source": [
    "#### STOP!!!!!\n",
    "set_robot(robot, 0, 255, 0, 255, True, 0)\n",
    "print(\"stop\")"
   ]
  },
  {
   "cell_type": "code",
   "execution_count": 255,
   "metadata": {},
   "outputs": [
    {
     "name": "stdout",
     "output_type": "stream",
     "text": [
      "forward\n"
     ]
    }
   ],
   "source": [
    "set_robot(robot, 0, 255, 0, 255, True, 255)\n",
    "print(\"forward\")"
   ]
  },
  {
   "cell_type": "code",
   "execution_count": 243,
   "metadata": {},
   "outputs": [
    {
     "name": "stdout",
     "output_type": "stream",
     "text": [
      "left\n"
     ]
    }
   ],
   "source": [
    "set_robot(robot, 0, 255, -3000, 255, True, 255)\n",
    "print(\"left\")"
   ]
  },
  {
   "cell_type": "code",
   "execution_count": 244,
   "metadata": {},
   "outputs": [
    {
     "name": "stdout",
     "output_type": "stream",
     "text": [
      "right\n"
     ]
    }
   ],
   "source": [
    "set_robot(robot, -3000, 255, 0, 255, True, 255)\n",
    "print(\"right\")"
   ]
  },
  {
   "cell_type": "code",
   "execution_count": 138,
   "metadata": {},
   "outputs": [
    {
     "name": "stdout",
     "output_type": "stream",
     "text": [
      "compress\n"
     ]
    }
   ],
   "source": [
    "set_robot(robot, -6700, 255, -6400, 255, True, 0)\n",
    "time.sleep(1.5)\n",
    "set_robot(robot, -6700, 20, -6400, 20, True, 0)\n",
    "print(\"compress\")"
   ]
  },
  {
   "cell_type": "code",
   "execution_count": null,
   "metadata": {},
   "outputs": [],
   "source": [
    "set_robot(robot, -6000, 20, -6000, 20, True, 180)\n",
    "print(\"compress -- forward\")"
   ]
  },
  {
   "cell_type": "code",
   "execution_count": 258,
   "metadata": {},
   "outputs": [
    {
     "name": "stdout",
     "output_type": "stream",
     "text": [
      "Data has been saved to SNAKE_20241111_162403.json\n"
     ]
    }
   ],
   "source": [
    "## COT !!! TEST COT!!!!!\n",
    "\n",
    "import time\n",
    "import json\n",
    "from datetime import datetime\n",
    "\n",
    "power_data = get_power_robot(robot)\n",
    "\n",
    "filename = \"SNAKE_\" + datetime.now().strftime(\"%Y%m%d_%H%M%S\") + \".json\"\n",
    "\n",
    "# Save the Python object to a JSON file\n",
    "with open(filename, \"w\") as json_file:\n",
    "    json.dump(power_data, json_file, indent=4)\n",
    "\n",
    "print(f\"Data has been saved to {filename}\")\n"
   ]
  },
  {
   "cell_type": "code",
   "execution_count": 785,
   "metadata": {},
   "outputs": [
    {
     "name": "stdout",
     "output_type": "stream",
     "text": [
      "{'status': 'calibrate ok', 'ip': '192.168.8.143', 'mac': 'D8:3B:DA:C3:87:4E', 'm1_current': 0, 'm1_target': 0, 'm2_current': 0, 'm2_target': 0, 'm1_power': 255, 'm2_power': 255, 'm3_power': 0, 'm1_error': 0, 'm2_error': 0, 'battery': 1.16, 'pause': False}\n"
     ]
    }
   ],
   "source": [
    "print(calibrate_robot(robot, True, True))"
   ]
  },
  {
   "cell_type": "markdown",
   "metadata": {
    "jp-MarkdownHeadingCollapsed": true
   },
   "source": [
    "# multiple robot locomotion -- on ground"
   ]
  },
  {
   "cell_type": "code",
   "execution_count": 20,
   "metadata": {},
   "outputs": [
    {
     "name": "stdout",
     "output_type": "stream",
     "text": [
      "Online Robots (IDs): [2, 4, 5, 6, 8, 9, 10, 11, 13, 14, 17, 22, 23, 24, 25, 26]\n",
      "16\n"
     ]
    }
   ],
   "source": [
    "online_robot_ids, robotwithID = detect_online_robots()\n",
    "print(\"Online Robots (IDs):\", online_robot_ids)\n",
    "print(len(online_robot_ids))"
   ]
  },
  {
   "cell_type": "code",
   "execution_count": 415,
   "metadata": {},
   "outputs": [
    {
     "name": "stdout",
     "output_type": "stream",
     "text": [
      "Using Robot with ID: 5\n",
      "Using Robot with ID: 23\n",
      "Using Robot with ID: 11\n",
      "Using Robot with ID: 22\n",
      "Using Robot with ID: 17\n",
      "Got all robots\n"
     ]
    }
   ],
   "source": [
    "## Set the robot to be use firstly\n",
    "robots_id = [5,23,11,22,17]\n",
    "used_robots = []\n",
    "\n",
    "\n",
    "for robot_id in robots_id:\n",
    "    if robot_id in robotwithID:\n",
    "        robot = robotwithID[robot_id]\n",
    "        print(\"Using Robot with ID:\", robot_id)\n",
    "        used_robots.append(robot)\n",
    "    else:\n",
    "        print(f\"Robot with ID {robot_id} is not online.\")\n",
    "\n",
    "if len(used_robots) == len(robots_id):\n",
    "    print(\"Got all robots\")\n",
    "else:\n",
    "    print(\"Some robot is not detected!! WRONG!!!\")"
   ]
  },
  {
   "cell_type": "code",
   "execution_count": 87,
   "metadata": {},
   "outputs": [],
   "source": [
    "robots_id = [15, 6, 7, 25]"
   ]
  },
  {
   "cell_type": "code",
   "execution_count": 102,
   "metadata": {},
   "outputs": [
    {
     "name": "stdout",
     "output_type": "stream",
     "text": [
      "stop\n"
     ]
    }
   ],
   "source": [
    "# forward\n",
    "set_robot(robotwithID[robots_id[0]], 0, 255, -00, 255, True, 0)\n",
    "set_robot(robotwithID[robots_id[1]], 0, 255, -00, 255, False, 0)\n",
    "set_robot(robotwithID[robots_id[2]], 0, 255, -00, 255, True, 0)\n",
    "set_robot(robotwithID[robots_id[3]], 0, 255, -00, 255, True, 0)\n",
    "print(\"stop\")"
   ]
  },
  {
   "cell_type": "code",
   "execution_count": 100,
   "metadata": {},
   "outputs": [
    {
     "name": "stdout",
     "output_type": "stream",
     "text": [
      "forward\n"
     ]
    }
   ],
   "source": [
    "# forward\n",
    "# set_robot(robotwithID[robots_id[0]], 0, 255, -00, 255, True, 200)\n",
    "# set_robot(robotwithID[robots_id[1]], 0, 255, -00, 255, True, 200)\n",
    "set_robot(robotwithID[robots_id[2]], 0, 255, -00, 255, True, 200)\n",
    "# set_robot(robotwithID[robots_id[3]], 0, 255, -00, 255, True, 220)\n",
    "print(\"forward\")"
   ]
  },
  {
   "cell_type": "code",
   "execution_count": 48,
   "metadata": {},
   "outputs": [
    {
     "name": "stdout",
     "output_type": "stream",
     "text": [
      "backward\n"
     ]
    }
   ],
   "source": [
    "# forward\n",
    "set_robot(robotwithID[robots_id[0]], 0, 255, -00, 255, True, 200)\n",
    "set_robot(robotwithID[robots_id[1]], 0, 255, -00, 255, True, 180)\n",
    "set_robot(robotwithID[robots_id[2]], 0, 255, -00, 255, True, 200)\n",
    "set_robot(robotwithID[robots_id[3]], 0, 255, -00, 255, True, 250)\n",
    "print(\"25\")"
   ]
  },
  {
   "cell_type": "code",
   "execution_count": 81,
   "metadata": {},
   "outputs": [
    {
     "name": "stdout",
     "output_type": "stream",
     "text": [
      "6\n"
     ]
    }
   ],
   "source": [
    "# forward\n",
    "set_robot(robotwithID[robots_id[0]], 0, 255, -00, 255, True, 200)\n",
    "set_robot(robotwithID[robots_id[1]], 0, 255, -00, 255, True, 250)\n",
    "set_robot(robotwithID[robots_id[2]], 0, 255, -00, 255, True, 200)\n",
    "set_robot(robotwithID[robots_id[3]], 0, 255, -00, 255, True, 180)\n",
    "print(\"6\")"
   ]
  },
  {
   "cell_type": "code",
   "execution_count": 82,
   "metadata": {},
   "outputs": [
    {
     "name": "stdout",
     "output_type": "stream",
     "text": [
      "15\n"
     ]
    }
   ],
   "source": [
    "# forward\n",
    "set_robot(robotwithID[robots_id[0]], 0, 255, -00, 255, True, 250)\n",
    "set_robot(robotwithID[robots_id[1]], 0, 255, -00, 255, True, 200)\n",
    "set_robot(robotwithID[robots_id[2]], 0, 255, -00, 255, True, 180)\n",
    "set_robot(robotwithID[robots_id[3]], 0, 255, -00, 255, True, 200)\n",
    "print(\"15\")"
   ]
  },
  {
   "cell_type": "code",
   "execution_count": 64,
   "metadata": {},
   "outputs": [
    {
     "name": "stdout",
     "output_type": "stream",
     "text": [
      "7\n"
     ]
    }
   ],
   "source": [
    "# forward\n",
    "set_robot(robotwithID[robots_id[0]], 0, 255, -00, 255, True, 180)\n",
    "set_robot(robotwithID[robots_id[1]], 0, 255, -00, 255, True, 200)\n",
    "set_robot(robotwithID[robots_id[2]], 0, 255, -00, 255, True, 250)\n",
    "set_robot(robotwithID[robots_id[3]], 0, 255, -00, 255, True, 200)\n",
    "print(\"7\")"
   ]
  },
  {
   "cell_type": "code",
   "execution_count": 83,
   "metadata": {},
   "outputs": [
    {
     "name": "stdout",
     "output_type": "stream",
     "text": [
      "forward\n"
     ]
    }
   ],
   "source": [
    "# forward\n",
    "set_robot(robotwithID[robots_id[0]], 0, 255, -00, 255, False, 200)\n",
    "set_robot(robotwithID[robots_id[1]], 0, 255, -00, 255, False, 200)\n",
    "set_robot(robotwithID[robots_id[2]], 0, 255, -00, 255, False, 200)\n",
    "set_robot(robotwithID[robots_id[3]], 0, 255, -00, 255, False, 200)\n",
    "print(\"forward\")"
   ]
  },
  {
   "cell_type": "code",
   "execution_count": null,
   "metadata": {},
   "outputs": [],
   "source": []
  },
  {
   "cell_type": "code",
   "execution_count": null,
   "metadata": {},
   "outputs": [],
   "source": []
  },
  {
   "cell_type": "code",
   "execution_count": null,
   "metadata": {},
   "outputs": [],
   "source": [
    "set_robot(robotwithID[robots_id[0]], 0, 255, -00, 255, True, 0)\n",
    "set_robot(robotwithID[robots_id[1]], 0, 255, -00, 255, True, 0)\n",
    "set_robot(robotwithID[robots_id[2]], 0, 255, -00, 255, True, 0)\n",
    "set_robot(robotwithID[robots_id[3]], 0, 255, -00, 255, True, 0)\n",
    "print(\"forward\")"
   ]
  },
  {
   "cell_type": "code",
   "execution_count": null,
   "metadata": {},
   "outputs": [],
   "source": [
    "set_robot(robotwithID[robots_id[0]], 0, 255, -00, 255, True, 0)\n",
    "set_robot(robotwithID[robots_id[1]], 0, 255, -00, 255, True, 0)\n",
    "set_robot(robotwithID[robots_id[2]], 0, 255, -00, 255, True, 0)\n",
    "set_robot(robotwithID[robots_id[3]], 0, 255, -00, 255, True, 0)\n",
    "print(\"forward\")"
   ]
  },
  {
   "cell_type": "code",
   "execution_count": null,
   "metadata": {},
   "outputs": [],
   "source": []
  },
  {
   "cell_type": "code",
   "execution_count": 377,
   "metadata": {},
   "outputs": [
    {
     "name": "stdout",
     "output_type": "stream",
     "text": [
      "right\n"
     ]
    }
   ],
   "source": [
    "# turn_right\n",
    "set_robot(robotwithID[22], 0, 255, -00, 255, True, 230)\n",
    "set_robot(robotwithID[6], 0, 255, -00, 255, True, 230)\n",
    "set_robot(robotwithID[3], 0, 255, -00, 255, False, 230)\n",
    "set_robot(robotwithID[1], 0, 255, -00, 255, False, 230)\n",
    "print(\"right\")"
   ]
  },
  {
   "cell_type": "code",
   "execution_count": 372,
   "metadata": {},
   "outputs": [
    {
     "name": "stdout",
     "output_type": "stream",
     "text": [
      "turn_left\n"
     ]
    }
   ],
   "source": [
    "# turn_left\n",
    "set_robot(robotwithID[22], 0, 255, -00, 255, False, 230)\n",
    "set_robot(robotwithID[6], 0, 255, -00, 255, False, 230)\n",
    "set_robot(robotwithID[3], 0, 255, -00, 255, True, 230)\n",
    "set_robot(robotwithID[1], 0, 255, -00, 255, True, 230)\n",
    "print(\"turn_left\")"
   ]
  },
  {
   "cell_type": "code",
   "execution_count": 374,
   "metadata": {},
   "outputs": [
    {
     "name": "stdout",
     "output_type": "stream",
     "text": [
      "stop\n"
     ]
    }
   ],
   "source": [
    "# stop\n",
    "set_robot(robotwithID[22], 0, 255, -00, 255, False, 0)\n",
    "set_robot(robotwithID[6], 0, 255, -00, 255, False, 0)\n",
    "set_robot(robotwithID[3], 0, 255, -00, 255, True, 0)\n",
    "set_robot(robotwithID[1], 0, 255, -00, 255, True, 0)\n",
    "print(\"stop\")"
   ]
  },
  {
   "cell_type": "code",
   "execution_count": 375,
   "metadata": {},
   "outputs": [
    {
     "name": "stdout",
     "output_type": "stream",
     "text": [
      "caging\n"
     ]
    }
   ],
   "source": [
    "# caging\n",
    "set_robot(robotwithID[11], 0, 255, -3000, 255, False, 0)\n",
    "set_robot(robotwithID[21], 0, 255, -3000, 255, False, 0)\n",
    "set_robot(robotwithID[23], 0, 255, -3000, 255, True, 0)\n",
    "set_robot(robotwithID[19], 0, 255, -3000, 255, True, 0)\n",
    "# set_robot(robotwithID[2], 0, 255, -3000, 255, True, 0)\n",
    "set_robot(robotwithID[25], 0, 255, -3000, 255, True, 0)\n",
    "set_robot(robotwithID[18], 0, 255, -3000, 255, True, 0)\n",
    "print(\"caging\")"
   ]
  },
  {
   "cell_type": "code",
   "execution_count": 378,
   "metadata": {},
   "outputs": [
    {
     "name": "stdout",
     "output_type": "stream",
     "text": [
      "forward\n"
     ]
    }
   ],
   "source": [
    "set_robot(robotwithID[22], 0, 255, -00, 255, True, 250)\n",
    "set_robot(robotwithID[6], 0, 255, -00, 255, True, 250)\n",
    "set_robot(robotwithID[3], 0, 255, -00, 255, True, 250)\n",
    "set_robot(robotwithID[1], 0, 255, -00, 255, True, 250)\n",
    "print(\"forward\")"
   ]
  },
  {
   "cell_type": "code",
   "execution_count": 381,
   "metadata": {},
   "outputs": [
    {
     "name": "stdout",
     "output_type": "stream",
     "text": [
      "stop\n"
     ]
    }
   ],
   "source": [
    "set_robot(robotwithID[22], 0, 255, -00, 255, True, 0)\n",
    "set_robot(robotwithID[6], 0, 255, -00, 255, True, 0)\n",
    "set_robot(robotwithID[3], 0, 255, -00, 255, True, 0)\n",
    "set_robot(robotwithID[1], 0, 255, -00, 255, True, 0)\n",
    "print(\"stop\")"
   ]
  },
  {
   "cell_type": "code",
   "execution_count": 351,
   "metadata": {},
   "outputs": [
    {
     "name": "stdout",
     "output_type": "stream",
     "text": [
      "move after caging -- use other robots\n"
     ]
    }
   ],
   "source": [
    "set_robot(robotwithID[18], 0, 255, -00, 255, False, 255)\n",
    "set_robot(robotwithID[11], 0, 255, -00, 255, True, 205)\n",
    "print(\"move after caging -- use other robots\")"
   ]
  },
  {
   "cell_type": "code",
   "execution_count": 352,
   "metadata": {},
   "outputs": [
    {
     "name": "stdout",
     "output_type": "stream",
     "text": [
      "stop after caging\n"
     ]
    }
   ],
   "source": [
    "set_robot(robotwithID[18], 0, 255, -00, 255, False, 0)\n",
    "set_robot(robotwithID[11], 0, 255, -00, 255, True, 0)\n",
    "print(\"stop after caging\")"
   ]
  },
  {
   "cell_type": "code",
   "execution_count": 380,
   "metadata": {},
   "outputs": [
    {
     "name": "stdout",
     "output_type": "stream",
     "text": [
      "cage-origin\n"
     ]
    }
   ],
   "source": [
    "# caging -- origin\n",
    "set_robot(robotwithID[11], 0, 255, -0, 255, False, 0)\n",
    "set_robot(robotwithID[21], 0, 255, -0, 255, False, 0)\n",
    "set_robot(robotwithID[23], 0, 255, -00, 255, True, 0)\n",
    "set_robot(robotwithID[19], 0, 255, -00, 255, True, 0)\n",
    "# set_robot(robotwithID[2], 0, 255, -0, 255, True, 0)\n",
    "set_robot(robotwithID[25], 0, 255, -00, 255, True, 0)\n",
    "set_robot(robotwithID[18], 0, 255, -00, 255, True, 0)\n",
    "print(\"cage-origin\")"
   ]
  },
  {
   "cell_type": "code",
   "execution_count": 177,
   "metadata": {},
   "outputs": [
    {
     "name": "stdout",
     "output_type": "stream",
     "text": [
      "{'status': 'set ok', 'ip': '192.168.8.245', 'mac': 'D8:3B:DA:C3:87:1E', 'm1_current': 6, 'm1_target': 0, 'm2_current': 10, 'm2_target': 0, 'm1_power': 255, 'm2_power': 255, 'm3_power': 220, 'm1_error': 0, 'm2_error': 0, 'battery': 4.01, 'pause': False}\n",
      "{'status': 'set ok', 'ip': '192.168.8.120', 'mac': 'D8:3B:DA:C3:86:FE', 'm1_current': -10, 'm1_target': -3000, 'm2_current': -8, 'm2_target': 0, 'm1_power': 255, 'm2_power': 255, 'm3_power': 220, 'm1_error': 0, 'm2_error': 0, 'battery': 4.02, 'pause': False}\n",
      "{'status': 'set ok', 'ip': '192.168.8.171', 'mac': 'D8:3B:DA:C3:87:6A', 'm1_current': 6, 'm1_target': -3000, 'm2_current': 2, 'm2_target': -3000, 'm1_power': 255, 'm2_power': 255, 'm3_power': 220, 'm1_error': 0, 'm2_error': 0, 'battery': 4.01, 'pause': False}\n",
      "{'status': 'set ok', 'ip': '192.168.8.197', 'mac': 'D8:3B:DA:C3:87:84', 'm1_current': -22, 'm1_target': 0, 'm2_current': 22, 'm2_target': -2000, 'm1_power': 255, 'm2_power': 255, 'm3_power': 220, 'm1_error': 0, 'm2_error': 0, 'battery': 4.11, 'pause': False}\n",
      "{'status': 'set ok', 'ip': '192.168.8.227', 'mac': 'D8:3B:DA:C3:87:A2', 'm1_current': -17, 'm1_target': 0, 'm2_current': 16, 'm2_target': 0, 'm1_power': 255, 'm2_power': 255, 'm3_power': 220, 'm1_error': 0, 'm2_error': 0, 'battery': 1.23, 'pause': False}\n",
      "{'status': 'set ok', 'ip': '192.168.8.217', 'mac': 'D8:3B:DA:C3:87:98', 'm1_current': -10, 'm1_target': -4000, 'm2_current': 3, 'm2_target': -4000, 'm1_power': 255, 'm2_power': 255, 'm3_power': 220, 'm1_error': 0, 'm2_error': 0, 'battery': 1.18, 'pause': False}\n"
     ]
    }
   ],
   "source": [
    "print(set_robot(robotwithID[1], 0, 255, -00, 255, True, 220))\n",
    "print(set_robot(robotwithID[2], -3000, 255, 0, 255, True, 220))\n",
    "print(set_robot(robotwithID[3], -3000, 255, -3000, 255, True, 220))\n",
    "print(set_robot(robotwithID[18], 0, 255, -2000, 255, True, 220))\n",
    "print(set_robot(robotwithID[19], 0, 255, -00, 255, True, 220))\n",
    "print(set_robot(robotwithID[25], -4000, 255, -4000, 255, True, 220))"
   ]
  },
  {
   "cell_type": "code",
   "execution_count": 175,
   "metadata": {},
   "outputs": [
    {
     "name": "stdout",
     "output_type": "stream",
     "text": [
      "{'status': 'set ok', 'ip': '192.168.8.245', 'mac': 'D8:3B:DA:C3:87:1E', 'm1_current': 6, 'm1_target': 0, 'm2_current': 10, 'm2_target': 0, 'm1_power': 255, 'm2_power': 255, 'm3_power': 180, 'm1_error': 0, 'm2_error': 0, 'battery': 3.89, 'pause': False}\n",
      "{'status': 'set ok', 'ip': '192.168.8.120', 'mac': 'D8:3B:DA:C3:86:FE', 'm1_current': -3011, 'm1_target': -3000, 'm2_current': -8, 'm2_target': 0, 'm1_power': 255, 'm2_power': 255, 'm3_power': 180, 'm1_error': 0, 'm2_error': 0, 'battery': 3.88, 'pause': False}\n",
      "{'status': 'set ok', 'ip': '192.168.8.171', 'mac': 'D8:3B:DA:C3:87:6A', 'm1_current': -3015, 'm1_target': -3000, 'm2_current': -2994, 'm2_target': -3000, 'm1_power': 255, 'm2_power': 255, 'm3_power': 220, 'm1_error': 0, 'm2_error': 0, 'battery': 3.89, 'pause': False}\n",
      "{'status': 'set ok', 'ip': '192.168.8.197', 'mac': 'D8:3B:DA:C3:87:84', 'm1_current': -22, 'm1_target': 0, 'm2_current': -2005, 'm2_target': -2000, 'm1_power': 255, 'm2_power': 255, 'm3_power': 220, 'm1_error': 0, 'm2_error': 0, 'battery': 3.97, 'pause': False}\n",
      "{'status': 'set ok', 'ip': '192.168.8.227', 'mac': 'D8:3B:DA:C3:87:A2', 'm1_current': -17, 'm1_target': 0, 'm2_current': 16, 'm2_target': 0, 'm1_power': 255, 'm2_power': 255, 'm3_power': 220, 'm1_error': 0, 'm2_error': 0, 'battery': 1.19, 'pause': False}\n",
      "{'status': 'set ok', 'ip': '192.168.8.217', 'mac': 'D8:3B:DA:C3:87:98', 'm1_current': -4012, 'm1_target': -4000, 'm2_current': -3990, 'm2_target': -4000, 'm1_power': 255, 'm2_power': 255, 'm3_power': 220, 'm1_error': 0, 'm2_error': 0, 'battery': 1.14, 'pause': False}\n",
      "{'status': 'set ok', 'ip': '192.168.8.245', 'mac': 'D8:3B:DA:C3:87:1E', 'm1_current': 6, 'm1_target': 0, 'm2_current': 10, 'm2_target': 0, 'm1_power': 255, 'm2_power': 255, 'm3_power': 220, 'm1_error': 0, 'm2_error': 0, 'battery': 3.95, 'pause': False}\n",
      "{'status': 'set ok', 'ip': '192.168.8.120', 'mac': 'D8:3B:DA:C3:86:FE', 'm1_current': -3011, 'm1_target': -3000, 'm2_current': -8, 'm2_target': 0, 'm1_power': 255, 'm2_power': 255, 'm3_power': 220, 'm1_error': 0, 'm2_error': 0, 'battery': 3.95, 'pause': False}\n",
      "{'status': 'set ok', 'ip': '192.168.8.171', 'mac': 'D8:3B:DA:C3:87:6A', 'm1_current': -3015, 'm1_target': -3000, 'm2_current': -2994, 'm2_target': -3000, 'm1_power': 255, 'm2_power': 255, 'm3_power': 220, 'm1_error': 0, 'm2_error': 0, 'battery': 3.89, 'pause': False}\n",
      "{'status': 'set ok', 'ip': '192.168.8.197', 'mac': 'D8:3B:DA:C3:87:84', 'm1_current': -22, 'm1_target': 0, 'm2_current': -2005, 'm2_target': -2000, 'm1_power': 255, 'm2_power': 255, 'm3_power': 220, 'm1_error': 0, 'm2_error': 0, 'battery': 3.98, 'pause': False}\n",
      "{'status': 'set ok', 'ip': '192.168.8.227', 'mac': 'D8:3B:DA:C3:87:A2', 'm1_current': -17, 'm1_target': 0, 'm2_current': 16, 'm2_target': 0, 'm1_power': 255, 'm2_power': 255, 'm3_power': 220, 'm1_error': 0, 'm2_error': 0, 'battery': 1.19, 'pause': False}\n",
      "{'status': 'set ok', 'ip': '192.168.8.217', 'mac': 'D8:3B:DA:C3:87:98', 'm1_current': -4012, 'm1_target': -4000, 'm2_current': -3990, 'm2_target': -4000, 'm1_power': 255, 'm2_power': 255, 'm3_power': 220, 'm1_error': 0, 'm2_error': 0, 'battery': 1.14, 'pause': False}\n"
     ]
    }
   ],
   "source": [
    "print(set_robot(robotwithID[1], 0, 255, -00, 255, False, 180))\n",
    "print(set_robot(robotwithID[2], -3000, 255, 0, 255, False, 180))\n",
    "print(set_robot(robotwithID[3], -3000, 255, -3000, 255, True, 220))\n",
    "print(set_robot(robotwithID[18], 0, 255, -2000, 255, True, 220))\n",
    "print(set_robot(robotwithID[19], 0, 255, -00, 255, True, 220))\n",
    "print(set_robot(robotwithID[25], -4000, 255, -4000, 255, True, 220))\n",
    "time.sleep(2)\n",
    "print(set_robot(robotwithID[1], 0, 255, -00, 255, True, 220))\n",
    "print(set_robot(robotwithID[2], -3000, 255, 0, 255, True, 220))\n",
    "print(set_robot(robotwithID[3], -3000, 255, -3000, 255, True, 220))\n",
    "print(set_robot(robotwithID[18], 0, 255, -2000, 255, True, 220))\n",
    "print(set_robot(robotwithID[19], 0, 255, -00, 255, True, 220))\n",
    "print(set_robot(robotwithID[25], -4000, 255, -4000, 255, True, 220))"
   ]
  },
  {
   "cell_type": "code",
   "execution_count": 131,
   "metadata": {},
   "outputs": [
    {
     "name": "stdout",
     "output_type": "stream",
     "text": [
      "{'status': 'calibrate ok', 'ip': '192.168.8.245', 'mac': 'D8:3B:DA:C3:87:1E', 'm1_current': 0, 'm1_target': 0, 'm2_current': 0, 'm2_target': 0, 'm1_power': 255, 'm2_power': 255, 'm3_power': 0, 'm1_error': 0, 'm2_error': 0, 'battery': 4.11, 'pause': False}\n"
     ]
    }
   ],
   "source": [
    "print(calibrate_robot(robotwithID[1], True, True))"
   ]
  },
  {
   "cell_type": "code",
   "execution_count": 132,
   "metadata": {},
   "outputs": [],
   "source": [
    "def move_chain_robot_left(used_robots):\n",
    "    # Assuming `used_robots` is already populated\n",
    "    if len(used_robots) >= 2:\n",
    "        for _ in range(7):\n",
    "            # Iterate over the indexes to control each robot\n",
    "            for i in range(len(used_robots)):\n",
    "                # Control the robots based on the index\n",
    "                if i % 2 == 0:  # If the index is even\n",
    "                    set_robot(used_robots[i], 0, 255, -5500, 255, True, 0)\n",
    "                else:  # If the index is odd\n",
    "                    # print(set_robot(used_robots[i], -5500, 255, 0, 255, True, 0))\n",
    "                    set_robot(used_robots[i], -0, 255, 0, 255, True, 0)\n",
    "        \n",
    "            # Wait for 1 second\n",
    "            time.sleep(1)\n",
    "        \n",
    "            # Switch the controls for odd and even indexes\n",
    "            for j in range(len(used_robots)):\n",
    "                if j % 2 == 1:  # If the index is odd\n",
    "                    set_robot(used_robots[j], 0, 255, -5500, 255, True, 0)\n",
    "                else:  # If the index is even\n",
    "                    # print(set_robot(used_robots[j], -5500, 255, 0, 255, True, 0))\n",
    "                    set_robot(used_robots[j], 0, 255, 0, 255, True, 0)\n",
    "        \n",
    "            # Wait for 1 second\n",
    "            time.sleep(1)\n",
    "    \n",
    "    # Set all robots to the same state\n",
    "    for robot in used_robots:\n",
    "        set_robot(robot, 0, 255, 0, 255, True, 0)\n",
    "    \n"
   ]
  },
  {
   "cell_type": "code",
   "execution_count": 451,
   "metadata": {},
   "outputs": [],
   "source": [
    "def move_chain_robot_right(used_robots):\n",
    "    # Assuming `used_robots` is already populated\n",
    "    if len(used_robots) >= 2:\n",
    "        for _ in range(7):\n",
    "            # Iterate over the indexes to control each robot\n",
    "            for i in range(len(used_robots)):\n",
    "                # Control the robots based on the index\n",
    "                if i % 2 == 0:  # If the index is even\n",
    "                    set_robot(used_robots[i], 0, 255, 00, 255, True, 0)\n",
    "                else:  # If the index is odd\n",
    "                    set_robot(used_robots[i], -5500, 255, 0, 255, True, 0)\n",
    "        \n",
    "            # Wait for 1 second\n",
    "            time.sleep(1)\n",
    "        \n",
    "            # Switch the controls for odd and even indexes\n",
    "            for j in range(len(used_robots)):\n",
    "                if j % 2 == 1:  # If the index is odd\n",
    "                    set_robot(used_robots[j], 0, 255, 00, 255, True, 0)\n",
    "                else:  # If the index is even\n",
    "                    set_robot(used_robots[j], -5500, 255, 0, 255, True, 0)\n",
    "        \n",
    "            # Wait for 1 second\n",
    "            time.sleep(1)\n",
    "    \n",
    "    # Set all robots to the same state\n",
    "    for robot in used_robots:\n",
    "        set_robot(robot, 0, 255, 0, 255, True, 0)\n",
    "    \n"
   ]
  },
  {
   "cell_type": "code",
   "execution_count": 16,
   "metadata": {},
   "outputs": [
    {
     "name": "stdout",
     "output_type": "stream",
     "text": [
      "Using Robot with ID: 21\n",
      "Using Robot with ID: 8\n",
      "Using Robot with ID: 25\n",
      "Using Robot with ID: 15\n",
      "Using Robot with ID: 6\n",
      "Got all robots\n"
     ]
    }
   ],
   "source": [
    "## Set the robot to be use firstly\n",
    "robots_id = [21,8,25,15,6]\n",
    "used_robots = []\n",
    "\n",
    "\n",
    "for robot_id in robots_id:\n",
    "    if robot_id in robotwithID:\n",
    "        robot = robotwithID[robot_id]\n",
    "        print(\"Using Robot with ID:\", robot_id)\n",
    "        used_robots.append(robot)\n",
    "    else:\n",
    "        print(f\"Robot with ID {robot_id} is not online.\")\n",
    "\n",
    "if len(used_robots) == len(robots_id):\n",
    "    print(\"Got all robots\")\n",
    "else:\n",
    "    print(\"Some robot is not detected!! WRONG!!!\")"
   ]
  },
  {
   "cell_type": "code",
   "execution_count": 17,
   "metadata": {},
   "outputs": [],
   "source": [
    "def move_chain_robot_gait_ground(used_robots):\n",
    "    # Assuming `used_robots` is already populated\n",
    "    if len(used_robots) >= 2:\n",
    "        for _ in range(20):\n",
    "            # Iterate over the indexes to control each robot\n",
    "            for i in range(len(used_robots)):\n",
    "                # Control the robots based on the index\n",
    "                if i in [0,1,4]:\n",
    "                    set_robot(used_robots[i], 0, 255, -5500, 255, True, 0)\n",
    "                elif i in [2,3]:  # If the index is odd\n",
    "                    set_robot(used_robots[i], -5500, 255, 0, 255, True, 0)\n",
    "        \n",
    "            # Wait for 1 second\n",
    "            time.sleep(1)\n",
    "        \n",
    "            # Switch the controls for odd and even indexes\n",
    "            for j in range(len(used_robots)):\n",
    "                if j in [2,3]:\n",
    "                    set_robot(used_robots[j], 0, 255, -5500, 255, True, 0)\n",
    "                elif j in [0,1,4]:  # If the index is even\n",
    "                    set_robot(used_robots[j], -5500, 255, 0, 255, True, 0)\n",
    "        \n",
    "            # Wait for 1 second\n",
    "            time.sleep(1)\n",
    "    \n",
    "    # Set all robots to the same state\n",
    "    for robot in used_robots:\n",
    "        set_robot(robot, 0, 255, 0, 255, True, 0)\n",
    "    \n"
   ]
  },
  {
   "cell_type": "code",
   "execution_count": 18,
   "metadata": {},
   "outputs": [],
   "source": [
    "def move_chain_robot_gait2(used_robots):\n",
    "    # Assuming `used_robots` is already populated\n",
    "    if len(used_robots) >= 2:\n",
    "        for _ in range(20):\n",
    "            # Iterate over the indexes to control each robot\n",
    "            for i in range(len(used_robots)):\n",
    "                # Control the robots based on the index\n",
    "                if i in [3,4]:#[0,1,4]:\n",
    "                    pass\n",
    "                    # set_robot(used_robots[i], 0, 255, -5500, 255, True, 0)\n",
    "                elif i in [0,1]: #[2,3]:  # If the index is odd\n",
    "                    set_robot(used_robots[i], -5500, 255, 0, 255, True, 0)\n",
    "        \n",
    "            # Wait for 1 second\n",
    "            time.sleep(0.8)\n",
    "        \n",
    "            # Switch the controls for odd and even indexes\n",
    "            for j in range(len(used_robots)):\n",
    "                if j in [0,1]:#[2,3]:\n",
    "                    set_robot(used_robots[j], 0, 255, -5500, 255, True, 0)\n",
    "                elif j in [3,4]:#[0,1,4]:  # If the index is even\n",
    "                    pass\n",
    "                    # set_robot(used_robots[j], -5500, 255, 0, 255, True, 0)\n",
    "        \n",
    "            # Wait for 1 second\n",
    "            time.sleep(0.8)\n",
    "    \n",
    "    # Set all robots to the same state\n",
    "    for robot in used_robots:\n",
    "        set_robot(robot, 0, 255, 0, 255, True, 0)\n",
    "    \n"
   ]
  },
  {
   "cell_type": "code",
   "execution_count": 19,
   "metadata": {},
   "outputs": [],
   "source": [
    "def move_chain_robot_gait_roll(used_robots):\n",
    "    # Assuming `used_robots` is already populated\n",
    "    if len(used_robots) >= 2:\n",
    "        for _ in range(1):\n",
    "            # Iterate over the indexes to control each robot\n",
    "            for i in range(len(used_robots)):\n",
    "                set_robot(used_robots[i], 0, 255, -5000, 255, True, 0)\n",
    "                # elif i in [3]:  # If the index is odd\n",
    "                #     set_robot(used_robots[i], -5500, 255, 0, 255, True, 0)\n",
    "        \n",
    "            # Wait for 1 second\n",
    "            time.sleep(1)\n",
    "        \n",
    "            # Switch the controls for odd and even indexes\n",
    "            for j in range(len(used_robots)):\n",
    "                set_robot(used_robots[j], -5000, 255, -0, 255, True, 0)\n",
    "        \n",
    "            # Wait for 1 second\n",
    "            time.sleep(1)\n",
    "\n",
    "            for j in range(len(used_robots)):\n",
    "                set_robot(used_robots[j], -0, 255, -0, 255, True, 0)\n",
    "        \n",
    "            # Wait for 1 second\n",
    "            # time.sleep(2)\n",
    "    \n",
    "    # Set all robots to the same state\n",
    "    # for robot in used_robots:\n",
    "    #     set_robot(robot, 0, 255, 0, 255, True, 0)\n",
    "    \n"
   ]
  },
  {
   "cell_type": "code",
   "execution_count": 22,
   "metadata": {},
   "outputs": [],
   "source": [
    "for robot in used_robots:\n",
    "    set_robot(robot, 0, 255, 0, 255, True, 0)"
   ]
  },
  {
   "cell_type": "code",
   "execution_count": null,
   "metadata": {},
   "outputs": [],
   "source": [
    "move_chain_robot_gait_ground(used_robots)"
   ]
  },
  {
   "cell_type": "code",
   "execution_count": 475,
   "metadata": {},
   "outputs": [],
   "source": [
    "move_chain_robot_gait_roll(used_robots)"
   ]
  },
  {
   "cell_type": "code",
   "execution_count": null,
   "metadata": {},
   "outputs": [],
   "source": [
    "move_chain_robot_left(used_robots)"
   ]
  },
  {
   "cell_type": "code",
   "execution_count": 453,
   "metadata": {},
   "outputs": [],
   "source": [
    "move_chain_robot_right(used_robots)"
   ]
  },
  {
   "cell_type": "code",
   "execution_count": 192,
   "metadata": {},
   "outputs": [
    {
     "data": {
      "text/plain": [
       "5"
      ]
     },
     "execution_count": 192,
     "metadata": {},
     "output_type": "execute_result"
    }
   ],
   "source": [
    "len(used_robots)"
   ]
  },
  {
   "cell_type": "code",
   "execution_count": 31,
   "metadata": {},
   "outputs": [
    {
     "name": "stdout",
     "output_type": "stream",
     "text": [
      "Online Robots (IDs): [0, 9, 13, 16, 18, 21, 27]\n"
     ]
    }
   ],
   "source": [
    "online_robot_ids, robotwithID = detect_online_robots()\n",
    "print(\"Online Robots (IDs):\", online_robot_ids)"
   ]
  },
  {
   "cell_type": "code",
   "execution_count": 41,
   "metadata": {},
   "outputs": [],
   "source": [
    "# Set all robots to the original state\n",
    "for i in robotwithID:\n",
    "        set_robot(robotwithID[i], 0, 255, 0, 255, False, 200)"
   ]
  },
  {
   "cell_type": "code",
   "execution_count": 40,
   "metadata": {},
   "outputs": [],
   "source": [
    "# Set all robots to the original state\n",
    "for i in robotwithID:\n",
    "        set_robot(robotwithID[i], 0, 255, 0, 255, True, 200)"
   ]
  },
  {
   "cell_type": "code",
   "execution_count": 42,
   "metadata": {},
   "outputs": [],
   "source": [
    "# Set all robots to the original state\n",
    "for i in robotwithID:\n",
    "        set_robot(robotwithID[i], 0, 255, 0, 255, True, 0)"
   ]
  },
  {
   "cell_type": "markdown",
   "metadata": {
    "jp-MarkdownHeadingCollapsed": true
   },
   "source": [
    "# plus sign"
   ]
  },
  {
   "cell_type": "code",
   "execution_count": 244,
   "metadata": {},
   "outputs": [
    {
     "name": "stdout",
     "output_type": "stream",
     "text": [
      "Online Robots (IDs): [1, 2, 4, 5, 6, 7, 8, 10, 11, 12, 13, 15, 17, 18, 19, 21, 22, 23, 25, 27]\n",
      "20\n"
     ]
    }
   ],
   "source": [
    "online_robot_ids, robotwithID = detect_online_robots()\n",
    "print(\"Online Robots (IDs):\", online_robot_ids)\n",
    "print(len(online_robot_ids))"
   ]
  },
  {
   "cell_type": "code",
   "execution_count": 71,
   "metadata": {},
   "outputs": [
    {
     "name": "stdout",
     "output_type": "stream",
     "text": [
      "compress\n"
     ]
    }
   ],
   "source": [
    "set_robot(robotwithID[20], -6000, 255, -6000, 255, True, 0)\n",
    "time.sleep(1.5) \n",
    "set_robot(robotwithID[20], -6000, 20, -6000, 20, True, 0)\n",
    "print(\"compress\")"
   ]
  },
  {
   "cell_type": "code",
   "execution_count": 85,
   "metadata": {},
   "outputs": [],
   "source": [
    "cur_speed = 190"
   ]
  },
  {
   "cell_type": "code",
   "execution_count": 132,
   "metadata": {},
   "outputs": [
    {
     "name": "stdout",
     "output_type": "stream",
     "text": [
      "front\n"
     ]
    }
   ],
   "source": [
    "set_robot(robotwithID[7], 0, 255, 0, 255, True, cur_speed)\n",
    "set_robot(robotwithID[26], 0, 255, 0, 255, True, 0)\n",
    "set_robot(robotwithID[24], 0, 255, 0, 255, False, cur_speed)\n",
    "set_robot(robotwithID[23], 0, 255, 0, 255, True, 0)\n",
    "print(\"front\")"
   ]
  },
  {
   "cell_type": "code",
   "execution_count": 106,
   "metadata": {},
   "outputs": [
    {
     "name": "stdout",
     "output_type": "stream",
     "text": [
      "right\n"
     ]
    }
   ],
   "source": [
    "set_robot(robotwithID[7], 0, 255, 0, 255, False, 0)\n",
    "set_robot(robotwithID[26], 0, 255, 0, 255, True, cur_speed)\n",
    "set_robot(robotwithID[24], 0, 255, 0, 255, True, 0)\n",
    "set_robot(robotwithID[23], 0, 255, 0, 255, False, cur_speed)\n",
    "print(\"right\")"
   ]
  },
  {
   "cell_type": "code",
   "execution_count": 104,
   "metadata": {},
   "outputs": [
    {
     "name": "stdout",
     "output_type": "stream",
     "text": [
      "back\n"
     ]
    }
   ],
   "source": [
    "set_robot(robotwithID[7], 0, 255, 0, 255, False, cur_speed)\n",
    "set_robot(robotwithID[26], 0, 255, 0, 255, True, 0)\n",
    "set_robot(robotwithID[24], 0, 255, 0, 255, True, cur_speed)\n",
    "set_robot(robotwithID[23], 0, 255, 0, 255, True, 0)\n",
    "print(\"back\")"
   ]
  },
  {
   "cell_type": "code",
   "execution_count": 118,
   "metadata": {},
   "outputs": [
    {
     "name": "stdout",
     "output_type": "stream",
     "text": [
      "left\n"
     ]
    }
   ],
   "source": [
    "set_robot(robotwithID[7], 0, 255, 0, 255, False, 0)\n",
    "set_robot(robotwithID[26], 0, 255, 0, 255, False, cur_speed)\n",
    "set_robot(robotwithID[24], 0, 255, 0, 255, True, 0)\n",
    "set_robot(robotwithID[23], 0, 255, 0, 255, True, cur_speed)\n",
    "print(\"left\")"
   ]
  },
  {
   "cell_type": "code",
   "execution_count": 120,
   "metadata": {},
   "outputs": [
    {
     "name": "stdout",
     "output_type": "stream",
     "text": [
      "front-right\n"
     ]
    }
   ],
   "source": [
    "set_robot(robotwithID[7], 0, 255, 0, 255, True, cur_speed) # front\n",
    "set_robot(robotwithID[26], 0, 255, 0, 255, True, cur_speed) # right\n",
    "set_robot(robotwithID[24], 0, 255, 0, 255, False, 0) # back\n",
    "set_robot(robotwithID[23], 0, 255, 0, 255, True, 0) # left\n",
    "print(\"front-right\")"
   ]
  },
  {
   "cell_type": "code",
   "execution_count": 134,
   "metadata": {},
   "outputs": [
    {
     "name": "stdout",
     "output_type": "stream",
     "text": [
      "back-right\n"
     ]
    }
   ],
   "source": [
    "set_robot(robotwithID[7], 0, 255, 0, 255, True, 0)\n",
    "set_robot(robotwithID[26], 0, 255, 0, 255, True, cur_speed)\n",
    "set_robot(robotwithID[24], 0, 255, 0, 255, True, cur_speed)\n",
    "set_robot(robotwithID[23], 0, 255, 0, 255, True, 0)\n",
    "print(\"back-right\")"
   ]
  },
  {
   "cell_type": "code",
   "execution_count": 124,
   "metadata": {},
   "outputs": [
    {
     "name": "stdout",
     "output_type": "stream",
     "text": [
      "front-left\n"
     ]
    }
   ],
   "source": [
    "set_robot(robotwithID[7], 0, 255, 0, 255, True, cur_speed)\n",
    "set_robot(robotwithID[26], 0, 255, 0, 255, True, 0)\n",
    "set_robot(robotwithID[24], 0, 255, 0, 255, False, 0)\n",
    "set_robot(robotwithID[23], 0, 255, 0, 255, True, cur_speed)\n",
    "print(\"front-left\")"
   ]
  },
  {
   "cell_type": "code",
   "execution_count": 133,
   "metadata": {},
   "outputs": [
    {
     "name": "stdout",
     "output_type": "stream",
     "text": [
      "back-left\n"
     ]
    }
   ],
   "source": [
    "set_robot(robotwithID[7], 0, 255, 0, 255, True, 0)\n",
    "set_robot(robotwithID[26], 0, 255, 0, 255, True, 0)\n",
    "set_robot(robotwithID[24], 0, 255, 0, 255, True, cur_speed)\n",
    "set_robot(robotwithID[23], 0, 255, 0, 255, True, cur_speed)\n",
    "print(\"back-left\")"
   ]
  },
  {
   "cell_type": "code",
   "execution_count": 137,
   "metadata": {},
   "outputs": [
    {
     "name": "stdout",
     "output_type": "stream",
     "text": [
      "stop\n"
     ]
    }
   ],
   "source": [
    "set_robot(robotwithID[7], 0, 255, 0, 255, False, 0)\n",
    "set_robot(robotwithID[26], 0, 255, 0, 255, False, 0)\n",
    "set_robot(robotwithID[24], 0, 255, 0, 255, True, 0)\n",
    "set_robot(robotwithID[23], 0, 255, 0, 255, True, 0)\n",
    "print(\"stop\")"
   ]
  },
  {
   "cell_type": "markdown",
   "metadata": {
    "jp-MarkdownHeadingCollapsed": true
   },
   "source": [
    "# a chain locomote on the water"
   ]
  },
  {
   "cell_type": "code",
   "execution_count": 383,
   "metadata": {},
   "outputs": [],
   "source": [
    "import time\n",
    "\n",
    "# Variables\n",
    "\n",
    "propeller_speed = 180  # Set desired propeller speed value\n",
    "\n",
    "# time = 0\n",
    "ids = [5, 23, 11, 22, 19, 17, 13]\n",
    "X = -5000\n",
    "speed = 200\n",
    "\n",
    "def chain_undulate_step1():\n",
    "    set_robot(robotwithID[ids[0]], X, speed, 0, speed, True, propeller_speed)  # mod\n",
    "    set_robot(robotwithID[ids[1]], 0, speed, X, speed, True, propeller_speed)\n",
    "    set_robot(robotwithID[ids[2]], 0, speed, 0, speed, True, propeller_speed)\n",
    "    set_robot(robotwithID[ids[3]], X, speed, 0, speed, True, propeller_speed)\n",
    "    set_robot(robotwithID[ids[4]], 0, speed, X, speed, True, propeller_speed)\n",
    "    set_robot(robotwithID[ids[5]], 0, speed, 0, speed, True, propeller_speed)\n",
    "    set_robot(robotwithID[ids[6]], X, speed, 0, speed, True, propeller_speed)\n",
    "    print(\"step 1\")\n",
    "\n",
    "def chain_undulate_step2():\n",
    "    set_robot(robotwithID[ids[0]], 0, speed, 0, speed, True, propeller_speed)  # mod\n",
    "    set_robot(robotwithID[ids[1]], 0, speed, X, speed, True, propeller_speed)\n",
    "    set_robot(robotwithID[ids[2]], X, speed, 0, speed, True, propeller_speed)  # mod\n",
    "    set_robot(robotwithID[ids[3]], 0, speed, 0, speed, True, propeller_speed)  # mod\n",
    "    set_robot(robotwithID[ids[4]], 0, speed, X, speed, True, propeller_speed)\n",
    "    set_robot(robotwithID[ids[5]], X, speed, 0, speed, True, propeller_speed)  # mod\n",
    "    set_robot(robotwithID[ids[6]], 0, speed, 0, speed, True, propeller_speed)  # mod\n",
    "    print(\"step 2\")\n",
    "\n",
    "def chain_undulate_step3():\n",
    "    set_robot(robotwithID[ids[0]], 0, speed, X, speed, True, propeller_speed)\n",
    "    set_robot(robotwithID[ids[1]], 0, speed, 0, speed, True, propeller_speed)  # mod\n",
    "    set_robot(robotwithID[ids[2]], X, speed, 0, speed, True, propeller_speed)  # mod\n",
    "    set_robot(robotwithID[ids[3]], 0, speed, X, speed, True, propeller_speed)\n",
    "    set_robot(robotwithID[ids[4]], 0, speed, 0, speed, True, propeller_speed)  # mod\n",
    "    set_robot(robotwithID[ids[5]], X, speed, 0, speed, True, propeller_speed)  # mod\n",
    "    set_robot(robotwithID[ids[6]], 0, speed, X, speed, True, propeller_speed)\n",
    "    print(\"step 3\")\n",
    "\n",
    "def chain_undulate_step4():\n",
    "    set_robot(robotwithID[ids[0]], 0, speed, X, speed, True, propeller_speed)\n",
    "    set_robot(robotwithID[ids[1]], X, speed, 0, speed, True, propeller_speed)  # mod\n",
    "    set_robot(robotwithID[ids[2]], 0, speed, 0, speed, True, propeller_speed)  # mod\n",
    "    set_robot(robotwithID[ids[3]], 0, speed, X, speed, True, propeller_speed)\n",
    "    set_robot(robotwithID[ids[4]], X, speed, 0, speed, True, propeller_speed)  # mod\n",
    "    set_robot(robotwithID[ids[5]], 0, speed, 0, speed, True, propeller_speed)  # mod\n",
    "    set_robot(robotwithID[ids[6]], 0, speed, X, speed, True, propeller_speed)\n",
    "    print(\"step 4\")\n",
    "\n",
    "def chain_undulate_step5():\n",
    "    set_robot(robotwithID[ids[0]], 0, speed, 0, speed, True, propeller_speed)  # mod\n",
    "    set_robot(robotwithID[ids[1]], X, speed, 0, speed, True, propeller_speed)  # mod\n",
    "    set_robot(robotwithID[ids[2]], 0, speed, X, speed, True, propeller_speed)\n",
    "    set_robot(robotwithID[ids[3]], 0, speed, 0, speed, True, propeller_speed)  # mod\n",
    "    set_robot(robotwithID[ids[4]], X, speed, 0, speed, True, propeller_speed)  # mod\n",
    "    set_robot(robotwithID[ids[5]], 0, speed, X, speed, True, propeller_speed)\n",
    "    set_robot(robotwithID[ids[6]], 0, speed, 0, speed, True, propeller_speed)  # mod\n",
    "    print(\"step 5\")\n",
    "\n",
    "def chain_undulate_step6():\n",
    "    set_robot(robotwithID[ids[0]], X, speed, 0, speed, True, propeller_speed)  # mod\n",
    "    set_robot(robotwithID[ids[1]], 0, speed, 0, speed, True, propeller_speed)  # mod\n",
    "    set_robot(robotwithID[ids[2]], 0, speed, X, speed, True, propeller_speed)\n",
    "    set_robot(robotwithID[ids[3]], X, speed, 0, speed, True, propeller_speed)  # mod\n",
    "    set_robot(robotwithID[ids[4]], 0, speed, 0, speed, True, propeller_speed)  # mod\n",
    "    set_robot(robotwithID[ids[5]], 0, speed, X, speed, True, propeller_speed)\n",
    "    set_robot(robotwithID[ids[6]], X, speed, 0, speed, True, propeller_speed)  # mod\n",
    "    print(\"step 6\")\n",
    "\n"
   ]
  },
  {
   "cell_type": "code",
   "execution_count": 384,
   "metadata": {},
   "outputs": [
    {
     "name": "stdout",
     "output_type": "stream",
     "text": [
      "step 1\n"
     ]
    }
   ],
   "source": [
    "for i in range(1):\n",
    "    interval = 1  # seconds\n",
    "    # Execute each function with 2-second interval\n",
    "    chain_undulate_step1()\n",
    "    # time.sleep(interval)\n",
    "    \n",
    "    # chain_undulate_step2()\n",
    "    # time.sleep(interval)\n",
    "    \n",
    "    # chain_undulate_step3()\n",
    "    # time.sleep(interval)\n",
    "    \n",
    "    # chain_undulate_step4()\n",
    "    # time.sleep(interval)\n",
    "    \n",
    "    # chain_undulate_step5()\n",
    "    # time.sleep(interval)\n",
    "    \n",
    "    # chain_undulate_step6()\n"
   ]
  },
  {
   "cell_type": "markdown",
   "metadata": {
    "jp-MarkdownHeadingCollapsed": true
   },
   "source": [
    "# two chain of robots"
   ]
  },
  {
   "cell_type": "code",
   "execution_count": 127,
   "metadata": {},
   "outputs": [
    {
     "name": "stdout",
     "output_type": "stream",
     "text": [
      "Online Robots (IDs): [3, 4, 5, 6, 8, 9, 10, 11, 13, 14, 17, 22, 23, 24, 25, 26]\n",
      "16\n"
     ]
    }
   ],
   "source": [
    "online_robot_ids, robotwithID = detect_online_robots()\n",
    "print(\"Online Robots (IDs):\", online_robot_ids)\n",
    "print(len(online_robot_ids))"
   ]
  },
  {
   "cell_type": "code",
   "execution_count": 451,
   "metadata": {},
   "outputs": [
    {
     "data": {
      "text/plain": [
       "{'status': 'set ok',\n",
       " 'ip': '192.168.8.105',\n",
       " 'mac': 'D8:3B:DA:C3:87:28',\n",
       " 'm1_current': -5976,\n",
       " 'm1_target': -6000,\n",
       " 'm2_current': -5984,\n",
       " 'm2_target': -6000,\n",
       " 'm1_power': 20,\n",
       " 'm2_power': 20,\n",
       " 'm3_power': 0,\n",
       " 'm1_error': 0,\n",
       " 'm2_error': 0,\n",
       " 'battery': 1.24,\n",
       " 'pause': False}"
      ]
     },
     "execution_count": 451,
     "metadata": {},
     "output_type": "execute_result"
    }
   ],
   "source": [
    "set_robot(robotwithID[7], -7000, 20, -6000, 20, True, 0)"
   ]
  },
  {
   "cell_type": "code",
   "execution_count": 192,
   "metadata": {},
   "outputs": [
    {
     "name": "stdout",
     "output_type": "stream",
     "text": [
      "origin\n"
     ]
    }
   ],
   "source": [
    "## back to origin\n",
    "# online_robot_ids\n",
    "for i in online_robot_ids:   \n",
    "    set_robot(robotwithID[i], 0, 255, 0, 255, True, 0)\n",
    "print(\"origin\")"
   ]
  },
  {
   "cell_type": "code",
   "execution_count": 195,
   "metadata": {},
   "outputs": [],
   "source": [
    "left_id = [23, 8]\n",
    "right_id = [13,26]\n",
    "first_ids = [8,25,23,17]"
   ]
  },
  {
   "cell_type": "code",
   "execution_count": 200,
   "metadata": {},
   "outputs": [
    {
     "name": "stdout",
     "output_type": "stream",
     "text": [
      "stop no compress\n"
     ]
    }
   ],
   "source": [
    "# for i in first_ids:   \n",
    "#     set_robot(robotwithID[i], 0, 255, 0, 255, False, 190)\n",
    "# time.sleep(0.1)\n",
    "for i in first_ids:   \n",
    "    set_robot(robotwithID[i], 0, 255, 0, 255, True, 0)\n",
    "print(\"stop no compress\")"
   ]
  },
  {
   "cell_type": "code",
   "execution_count": 198,
   "metadata": {},
   "outputs": [
    {
     "name": "stdout",
     "output_type": "stream",
     "text": [
      "forward no compress\n"
     ]
    }
   ],
   "source": [
    "## contactless\n",
    "for i in first_ids:   \n",
    "    set_robot(robotwithID[i], -0, 20, -0, 20, True, 200)\n",
    "print(\"forward no compress\")"
   ]
  },
  {
   "cell_type": "code",
   "execution_count": null,
   "metadata": {},
   "outputs": [],
   "source": []
  },
  {
   "cell_type": "code",
   "execution_count": 189,
   "metadata": {},
   "outputs": [
    {
     "name": "stdout",
     "output_type": "stream",
     "text": [
      "right no compress\n"
     ]
    }
   ],
   "source": [
    "for i in left_id:   \n",
    "    set_robot(robotwithID[i], -0, 20, -0, 20, True, 200)\n",
    "for i in right_id:   \n",
    "    set_robot(robotwithID[i], -0, 20, -0, 20, True, 0)\n",
    "print(\"right no compress\")"
   ]
  },
  {
   "cell_type": "code",
   "execution_count": 180,
   "metadata": {},
   "outputs": [
    {
     "name": "stdout",
     "output_type": "stream",
     "text": [
      "left no compress\n"
     ]
    }
   ],
   "source": [
    "for i in right_id:   \n",
    "    set_robot(robotwithID[i], -0, 20, -0, 20, True, 200)\n",
    "for i in left_id:   \n",
    "    set_robot(robotwithID[i], -0, 20, -0, 20, True, 0)\n",
    "print(\"left no compress\")"
   ]
  },
  {
   "cell_type": "code",
   "execution_count": 191,
   "metadata": {},
   "outputs": [
    {
     "name": "stdout",
     "output_type": "stream",
     "text": [
      "compress all robot!!!\n"
     ]
    }
   ],
   "source": [
    "ids = [23,8,13,26,17,25,24,4,22,9,11,10,5,3,6,14]\n",
    "for i in ids:   \n",
    "    set_robot(robotwithID[i], -6000, 255, -6000, 255, True, 0)\n",
    "time.sleep(1.5)\n",
    "for i in ids:   \n",
    "    set_robot(robotwithID[i], -6000, 20, -6000, 20, True, 0)\n",
    "print(\"compress all robot!!!\")"
   ]
  },
  {
   "cell_type": "code",
   "execution_count": 250,
   "metadata": {},
   "outputs": [
    {
     "name": "stdout",
     "output_type": "stream",
     "text": [
      "stop\n"
     ]
    }
   ],
   "source": [
    "# back the propeller\n",
    "for i in ids:   \n",
    "    set_robot(robotwithID[i], -6000, 20, -6000, 20, False, 180)\n",
    "time.sleep(0.3)\n",
    "print(\"stop with back state\")\n",
    "for i in ids:   \n",
    "    set_robot(robotwithID[i], -6000, 20, -6000, 20, False, 0)\n"
   ]
  },
  {
   "cell_type": "code",
   "execution_count": null,
   "metadata": {},
   "outputs": [],
   "source": [
    "# forward the propeller\n",
    "for i in ids:   \n",
    "    set_robot(robotwithID[i], -6000, 20, -6000, 20, True, 180)\n",
    "time.sleep(0.3)\n",
    "print(\"stop with back state\")\n",
    "for i in ids:   \n",
    "    set_robot(robotwithID[i], -6000, 20, -6000, 20, False, 0)"
   ]
  },
  {
   "cell_type": "code",
   "execution_count": null,
   "metadata": {},
   "outputs": [],
   "source": [
    "## contactless\n",
    "for i in ids:   \n",
    "    set_robot(robotwithID[i], -6000, 20, -6000, 20, False, 180)\n",
    "    # set_robot(robotwithID[i], -0, 20, -0, 20, True, 170)\n",
    "print(\"move all propeller --compress- backward\")"
   ]
  },
  {
   "cell_type": "code",
   "execution_count": 581,
   "metadata": {},
   "outputs": [
    {
     "name": "stdout",
     "output_type": "stream",
     "text": [
      "move all propeller -- forward\n"
     ]
    }
   ],
   "source": [
    "## contactless\n",
    "for i in ids:   \n",
    "    set_robot(robotwithID[i], -6000, 20, -6000, 20, True, 180)\n",
    "    # set_robot(robotwithID[i], -0, 20, -0, 20, True, 170)\n",
    "print(\"move all propeller --compress- forward\")"
   ]
  },
  {
   "cell_type": "code",
   "execution_count": 249,
   "metadata": {},
   "outputs": [
    {
     "name": "stdout",
     "output_type": "stream",
     "text": [
      "move all propeller -- forward\n"
     ]
    }
   ],
   "source": [
    "lefts = [21, 12, 25, 6,17,13, 19, 22, 10, 23]\n",
    "for i in online_robot_ids:  \n",
    "    if i in lefts:\n",
    "        set_robot(robotwithID[i], -6000, 20, -6000, 20, True, 170)\n",
    "    else:\n",
    "        set_robot(robotwithID[i], -6000, 20, -6000, 20, True, 0)\n",
    "    # set_robot(robotwithID[i], -0, 20, -0, 20, True, 170)\n",
    "print(\"move all propeller -- right\")"
   ]
  },
  {
   "cell_type": "code",
   "execution_count": null,
   "metadata": {},
   "outputs": [],
   "source": [
    "lefts = [21, 12, 25, 6,17,13, 19, 22, 10, 23]\n",
    "for i in online_robot_ids:  \n",
    "    if i in lefts:\n",
    "        set_robot(robotwithID[i], -6000, 20, -6000, 20, True, 0)\n",
    "    else:\n",
    "        set_robot(robotwithID[i], -6000, 20, -6000, 20, True, 170)\n",
    "    # set_robot(robotwithID[i], -0, 20, -0, 20, True, 170)\n",
    "print(\"move all propeller -- left\")"
   ]
  },
  {
   "cell_type": "code",
   "execution_count": 252,
   "metadata": {},
   "outputs": [
    {
     "name": "stdout",
     "output_type": "stream",
     "text": [
      "compress- stop!!!!\n"
     ]
    }
   ],
   "source": [
    "for i in online_robot_ids:   \n",
    "    set_robot(robotwithID[i], -6000, 20, -6000, 20, False, 170)\n",
    "time.sleep(0.4)\n",
    "for i in online_robot_ids:\n",
    "    set_robot(robotwithID[i], -6000, 20, -6000, 20, False, 0)\n",
    "    # set_robot(robotwithID[i], -0, 20, -0, 20, False, 180)\n",
    "print(\"compress- stop!!!!\")"
   ]
  },
  {
   "cell_type": "markdown",
   "metadata": {
    "jp-MarkdownHeadingCollapsed": true
   },
   "source": [
    "## non-prehensile manipulation"
   ]
  },
  {
   "cell_type": "code",
   "execution_count": 35,
   "metadata": {},
   "outputs": [],
   "source": [
    "# time = 0\n",
    "ids = [24, 7, 20, 13, 8,5,1]\n",
    "ids_bottom = [12,26,23,19,16,6,25]\n",
    "X = -4000\n",
    "time_gap = 2\n",
    "\n",
    "speed = 120\n"
   ]
  },
  {
   "cell_type": "code",
   "execution_count": 37,
   "metadata": {},
   "outputs": [],
   "source": [
    "def nonprehensile_step1():\n",
    "    # Group by index: 0, 1, 2, etc., from both ids and ids_bottom\n",
    "    set_robot(robotwithID[ids[0]], -2000, speed, 0, speed, True, 0)  # mod\n",
    "    set_robot(robotwithID[ids_bottom[0]], 0, speed, -2000, speed, True, 0)  # mod\n",
    "    \n",
    "    set_robot(robotwithID[ids[1]], 0, speed, X, speed, True, 0)\n",
    "    set_robot(robotwithID[ids_bottom[1]], X, speed, 0, speed, True, 0)\n",
    "    \n",
    "    set_robot(robotwithID[ids[2]], 0, speed, 0, speed, True, 0)\n",
    "    set_robot(robotwithID[ids_bottom[2]], 0, speed, 0, speed, True, 0)\n",
    "    \n",
    "    set_robot(robotwithID[ids[3]], X, speed, 0, speed, True, 0)\n",
    "    set_robot(robotwithID[ids_bottom[3]], 0, speed, X, speed, True, 0)\n",
    "    \n",
    "    set_robot(robotwithID[ids[4]], 0, speed, X, speed, True, 0)\n",
    "    set_robot(robotwithID[ids_bottom[4]], X, speed, 0, speed, True, 0)\n",
    "    \n",
    "    set_robot(robotwithID[ids[5]], 0, speed, 0, speed, True, 0)\n",
    "    set_robot(robotwithID[ids_bottom[5]], 0, speed, 0, speed, True, 0)\n",
    "    \n",
    "    set_robot(robotwithID[ids[6]], X, speed, 0, speed, True, 0)\n",
    "    set_robot(robotwithID[ids_bottom[6]], 0, speed, X, speed, True, 0)\n",
    "    \n",
    "    # set_robot(robotwithID[ids[7]], 0, 255, X, 255, True, 0)\n",
    "    # set_robot(robotwithID[ids_bottom[7]], X, 255, 0, 255, True, 0)\n",
    "    \n",
    "    print(\"step 1\")\n",
    "\n",
    "\n",
    "def nonprehensile_step2():\n",
    "    # time.sleep(time_gap)\n",
    "    \n",
    "    # Group by index: 0, 1, 2, etc., from both ids and ids_bottom\n",
    "    set_robot(robotwithID[ids[0]], 0, speed, 0, speed, True, 0)\n",
    "    set_robot(robotwithID[ids_bottom[0]], 0, speed, 0, speed, True, 0)\n",
    "    \n",
    "    set_robot(robotwithID[ids[1]], X, speed, 0, speed, True, 0)\n",
    "    set_robot(robotwithID[ids_bottom[1]], 0, speed, X, speed, True, 0)\n",
    "    \n",
    "    set_robot(robotwithID[ids[2]], 0, speed, X, speed, True, 0)\n",
    "    set_robot(robotwithID[ids_bottom[2]], X, speed, 0, speed, True, 0)\n",
    "    \n",
    "    set_robot(robotwithID[ids[3]], 0, speed, 0, speed, True, 0)\n",
    "    set_robot(robotwithID[ids_bottom[3]], 0, speed, 0, speed, True, 0)\n",
    "    \n",
    "    set_robot(robotwithID[ids[4]], X, speed, 0, speed, True, 0)\n",
    "    set_robot(robotwithID[ids_bottom[4]], 0, speed, X, speed, True, 0)\n",
    "    \n",
    "    set_robot(robotwithID[ids[5]], 0, speed, X, speed, True, 0)\n",
    "    set_robot(robotwithID[ids_bottom[5]], X, speed, 0, speed, True, 0)\n",
    "    \n",
    "    set_robot(robotwithID[ids[6]], 0, speed, 0, speed, True, 0)\n",
    "    set_robot(robotwithID[ids_bottom[6]], 0, speed, 0, speed, True, 0)\n",
    "    \n",
    "    # set_robot(robotwithID[ids[7]], X, 255, 0, 255, True, 0)\n",
    "    # set_robot(robotwithID[ids_bottom[7]], 0, 255, X, 255, True, 0)\n",
    "    \n",
    "    print(\"step 2\")\n",
    "def nonprehensile_step3():\n",
    "    # Group by index: 0, 1, 2, etc., from both ids and ids_bottom\n",
    "    set_robot(robotwithID[ids[0]], 0, speed, -2000, speed, True, 0)  # mod\n",
    "    set_robot(robotwithID[ids_bottom[0]], -2000, speed, 0, speed, True, 0)  # mod\n",
    "    \n",
    "    set_robot(robotwithID[ids[1]], 0, speed, 0, speed, True, 0)\n",
    "    set_robot(robotwithID[ids_bottom[1]], 0, speed, 0, speed, True, 0)\n",
    "    \n",
    "    set_robot(robotwithID[ids[2]], X, speed, 0, speed, True, 0)\n",
    "    set_robot(robotwithID[ids_bottom[2]], 0, speed, X, speed, True, 0)\n",
    "    \n",
    "    set_robot(robotwithID[ids[3]], 0, speed, X, speed, True, 0)\n",
    "    set_robot(robotwithID[ids_bottom[3]], X, speed, 0, speed, True, 0)\n",
    "    \n",
    "    set_robot(robotwithID[ids[4]], 0, speed, 0, speed, True, 0)\n",
    "    set_robot(robotwithID[ids_bottom[4]], 0, speed, 0, speed, True, 0)\n",
    "    \n",
    "    set_robot(robotwithID[ids[5]], X, speed, 0, speed, True, 0)\n",
    "    set_robot(robotwithID[ids_bottom[5]], 0, speed, X, speed, True, 0)\n",
    "    \n",
    "    set_robot(robotwithID[ids[6]], 0, speed, X, speed, True, 0)\n",
    "    set_robot(robotwithID[ids_bottom[6]], X, speed, 0, speed, True, 0)\n",
    "    \n",
    "    print(\"step 3\")\n",
    "\n"
   ]
  },
  {
   "cell_type": "code",
   "execution_count": 40,
   "metadata": {},
   "outputs": [],
   "source": [
    "\n",
    "def nonprehensile_step11():\n",
    "    # Group by index: 0, 1, 2, etc., from both ids and ids_bottom\n",
    "    set_robot(robotwithID[ids[0]], -2000, speed, 0, speed, True, 0)  # mod\n",
    "    set_robot(robotwithID[ids_bottom[0]], 0, speed, -2000, speed, True, 0)  # mod\n",
    "    \n",
    "    set_robot(robotwithID[ids[1]], 0, speed, X, speed, True, 0)\n",
    "    set_robot(robotwithID[ids_bottom[1]], X, speed, 0, speed, True, 0)\n",
    "    \n",
    "    set_robot(robotwithID[ids[2]], 0, speed, 0, speed, True, 0)\n",
    "    set_robot(robotwithID[ids_bottom[2]], 0, speed, 0, speed, True, 0)\n",
    "    \n",
    "    set_robot(robotwithID[ids[3]], X, speed, 0, speed, True, 0)\n",
    "    set_robot(robotwithID[ids_bottom[3]], 0, speed, X, speed, True, 0)\n",
    "    \n",
    "    set_robot(robotwithID[ids[4]], 0, speed, X, speed, True, 0)\n",
    "    set_robot(robotwithID[ids_bottom[4]], X, speed, 0, speed, True, 0)\n",
    "    \n",
    "    set_robot(robotwithID[ids[5]], 0, speed, 0, speed, True, 0)\n",
    "    set_robot(robotwithID[ids_bottom[5]], 0, speed, 0, speed, True, 0)\n",
    "    \n",
    "    set_robot(robotwithID[ids[6]], X, speed, 0, speed, True, 0)\n",
    "    set_robot(robotwithID[ids_bottom[6]], 0, speed, X, speed, True, 0)\n",
    "    \n",
    "    # set_robot(robotwithID[ids[7]], 0, 255, X, 255, True, 0)\n",
    "    # set_robot(robotwithID[ids_bottom[7]], X, 255, 0, 255, True, 0)\n",
    "    \n",
    "    print(\"step 1\")\n",
    "\n",
    "def nonprehensile_step12():\n",
    "    # Group by index: 0, 1, 2, etc., from both ids and ids_bottom\n",
    "    set_robot(robotwithID[ids[0]], 0, speed, 0, speed, True, 0)  # mod\n",
    "    set_robot(robotwithID[ids_bottom[0]], 0, speed, 0, speed, True, 0)  # mod\n",
    "    \n",
    "    set_robot(robotwithID[ids[1]], 0, speed, X, speed, True, 0)\n",
    "    set_robot(robotwithID[ids_bottom[1]], X, speed, 0, speed, True, 0)\n",
    "    \n",
    "    set_robot(robotwithID[ids[2]], X, speed, 0, speed, True, 0)  # mod\n",
    "    set_robot(robotwithID[ids_bottom[2]], 0, speed, X, speed, True, 0)  # mod\n",
    "\n",
    "    set_robot(robotwithID[ids[3]], 0, speed, 0, speed, True, 0)  # mod\n",
    "    set_robot(robotwithID[ids_bottom[3]], 0, speed, 0, speed, True, 0)  # mod\n",
    "    \n",
    "    set_robot(robotwithID[ids[4]], 0, speed, X, speed, True, 0)\n",
    "    set_robot(robotwithID[ids_bottom[4]], X, speed, 0, speed, True, 0)\n",
    "    \n",
    "    set_robot(robotwithID[ids[5]], X, speed, 0, speed, True, 0)  # mod\n",
    "    set_robot(robotwithID[ids_bottom[5]], 0, speed, X, speed, True, 0)  # mod\n",
    "\n",
    "\n",
    "    set_robot(robotwithID[ids[6]], 0, speed, 0, speed, True, 0)  # mod\n",
    "    set_robot(robotwithID[ids_bottom[6]], 0, speed, 0, speed, True, 0)  # mod\n",
    "    \n",
    "    # set_robot(robotwithID[ids[7]], 0, speed, X, speed, True, 0)\n",
    "    # set_robot(robotwithID[ids_bottom[7]], X, speed, 0, speed, True, 0)\n",
    "    \n",
    "\n",
    "    \n",
    "    print(\"step 2\")\n",
    "\n",
    "\n",
    "\n",
    "def nonprehensile_step13():\n",
    "\n",
    "    set_robot(robotwithID[ids[0]], 0, speed, -2000, speed, True, 0)\n",
    "    set_robot(robotwithID[ids_bottom[0]], -2000, speed, 0, speed, True, 0)\n",
    "    set_robot(robotwithID[ids[1]], 0, speed, 0, speed, True, 0)  # mod\n",
    "    set_robot(robotwithID[ids_bottom[1]], 0, speed, 0, speed, True, 0)  # mod\n",
    "    set_robot(robotwithID[ids[2]], X, speed, 0, speed, True, 0)  # mod\n",
    "    set_robot(robotwithID[ids_bottom[2]], 0, speed, X, speed, True, 0)  # mod\n",
    "\n",
    "\n",
    "    \n",
    "    set_robot(robotwithID[ids[3]], 0, speed, X, speed, True, 0)\n",
    "    set_robot(robotwithID[ids_bottom[3]], X, speed, 0, speed, True, 0)\n",
    "    set_robot(robotwithID[ids[4]], 0, speed, 0, speed, True, 0)  # mod\n",
    "    set_robot(robotwithID[ids_bottom[4]], 0, speed, 0, speed, True, 0)  # mod\n",
    "    set_robot(robotwithID[ids[5]], X, speed, 0, speed, True, 0)  # mod\n",
    "    set_robot(robotwithID[ids_bottom[5]], 0, speed, X, speed, True, 0)  # mod\n",
    "\n",
    "    set_robot(robotwithID[ids[6]], 0, speed, X, speed, True, 0)\n",
    "    set_robot(robotwithID[ids_bottom[6]], X, speed, 0, speed, True, 0)\n",
    "    # set_robot(robotwithID[ids[7]], 0, speed, 0, speed, True, 0)  # mod\n",
    "    # set_robot(robotwithID[ids_bottom[7]], 0, speed, 0, speed, True, 0)  # mod\n",
    "\n",
    "    \n",
    "    print(\"step 3\")\n",
    "\n",
    "\n",
    "def nonprehensile_step14():\n",
    "\n",
    "    set_robot(robotwithID[ids[0]], 0, speed, -2000, speed, True, 0)\n",
    "    set_robot(robotwithID[ids_bottom[0]], -2000, speed, 0, speed, True, 0)\n",
    "    set_robot(robotwithID[ids[1]], X, speed, 0, speed, True, 0)  # mod\n",
    "    set_robot(robotwithID[ids_bottom[1]], 0, speed, X, speed, True, 0)  # mod\n",
    "    set_robot(robotwithID[ids[2]], 0, speed, 0, speed, True, 0)  # mod\n",
    "    set_robot(robotwithID[ids_bottom[2]], 0, speed, 0, speed, True, 0)  # mod\n",
    "    \n",
    "    set_robot(robotwithID[ids[3]], 0, speed, X, speed, True, 0)\n",
    "    set_robot(robotwithID[ids_bottom[3]], X, speed, 0, speed, True, 0)\n",
    "    set_robot(robotwithID[ids[4]], X, speed, 0, speed, True, 0)  # mod\n",
    "    set_robot(robotwithID[ids_bottom[4]], 0, speed, X, speed, True, 0)  # mod\n",
    "    set_robot(robotwithID[ids[5]], 0, speed, 0, speed, True, 0)  # mod\n",
    "    set_robot(robotwithID[ids_bottom[5]], 0, speed, 0, speed, True, 0)  # mod\n",
    "\n",
    "    set_robot(robotwithID[ids[6]], 0, speed, X, speed, True, 0)\n",
    "    set_robot(robotwithID[ids_bottom[6]], X, speed, 0, speed, True, 0)\n",
    "    # set_robot(robotwithID[ids[7]], X, speed, 0, speed, True, 0)  # mod\n",
    "    # set_robot(robotwithID[ids_bottom[7]], 0, speed, X, speed, True, 0)  # mod\n",
    "\n",
    "    \n",
    "    print(\"step 4\")\n",
    "\n",
    "\n",
    "def nonprehensile_step15():\n",
    "\n",
    "    set_robot(robotwithID[ids[0]], 0, speed, 0, speed, True, 0)  # mod\n",
    "    set_robot(robotwithID[ids_bottom[0]], 0, speed, 0, speed, True, 0)  # mod    \n",
    "    set_robot(robotwithID[ids[1]], X, speed, 0, speed, True, 0)  # mod\n",
    "    set_robot(robotwithID[ids_bottom[1]], 0, speed, X, speed, True, 0)  # mod\n",
    "    set_robot(robotwithID[ids[2]], 0, speed, X, speed, True, 0)\n",
    "    set_robot(robotwithID[ids_bottom[2]], X, speed, 0, speed, True, 0)\n",
    "    \n",
    "    set_robot(robotwithID[ids[3]], 0, speed, 0, speed, True, 0)  # mod\n",
    "    set_robot(robotwithID[ids_bottom[3]], 0, speed, 0, speed, True, 0)  # mod\n",
    "    set_robot(robotwithID[ids[4]], X, speed, 0, speed, True, 0)  # mod\n",
    "    set_robot(robotwithID[ids_bottom[4]], 0, speed, X, speed, True, 0)  # mod\n",
    "    set_robot(robotwithID[ids[5]], 0, speed, X, speed, True, 0)\n",
    "    set_robot(robotwithID[ids_bottom[5]], X, speed, 0, speed, True, 0)\n",
    "\n",
    "    set_robot(robotwithID[ids[6]], 0, speed, 0, speed, True, 0)  # mod\n",
    "    set_robot(robotwithID[ids_bottom[6]], 0, speed, 0, speed, True, 0)  # mod    \n",
    "    # set_robot(robotwithID[ids[7]], X, speed, 0, speed, True, 0)  # mod\n",
    "    # set_robot(robotwithID[ids_bottom[7]], 0, speed, X, speed, True, 0)  # mod\n",
    "   \n",
    "    \n",
    "    print(\"step 5\")\n",
    "\n",
    "\n",
    "def nonprehensile_step16():\n",
    "\n",
    "    \n",
    "    set_robot(robotwithID[ids[0]], X, speed, 0, speed, True, 0)  # mod\n",
    "    set_robot(robotwithID[ids_bottom[0]], 0, speed, X, speed, True, 0)  # mod\n",
    "    set_robot(robotwithID[ids[1]], 0, speed, 0, speed, True, 0)  # mod\n",
    "    set_robot(robotwithID[ids_bottom[1]], 0, speed, 0, speed, True, 0)  # mod    \n",
    "    set_robot(robotwithID[ids[2]], 0, speed, X, speed, True, 0)\n",
    "    set_robot(robotwithID[ids_bottom[2]], X, speed, 0, speed, True, 0)\n",
    "    \n",
    "\n",
    "    set_robot(robotwithID[ids[3]], X, speed, 0, speed, True, 0)  # mod\n",
    "    set_robot(robotwithID[ids_bottom[3]], 0, speed, X, speed, True, 0)  # mod\n",
    "    set_robot(robotwithID[ids[4]], 0, speed, 0, speed, True, 0)  # mod\n",
    "    set_robot(robotwithID[ids_bottom[4]], 0, speed, 0, speed, True, 0)  # mod\n",
    "    set_robot(robotwithID[ids[5]], 0, speed, X, speed, True, 0)\n",
    "    set_robot(robotwithID[ids_bottom[5]], X, speed, 0, speed, True, 0)\n",
    "\n",
    "   \n",
    "    set_robot(robotwithID[ids[6]], X, speed, 0, speed, True, 0)  # mod\n",
    "    set_robot(robotwithID[ids_bottom[6]], 0, speed, X, speed, True, 0)  # mod\n",
    "    # set_robot(robotwithID[ids[7]], 0, speed, 0, speed, True, 0)  # mod\n",
    "    # set_robot(robotwithID[ids_bottom[7]], 0, speed, 0, speed, True, 0)  # mod    \n",
    "\n",
    "    \n",
    "    print(\"step 6\")\n"
   ]
  },
  {
   "cell_type": "code",
   "execution_count": 668,
   "metadata": {},
   "outputs": [
    {
     "name": "stdout",
     "output_type": "stream",
     "text": [
      "step 1\n"
     ]
    }
   ],
   "source": [
    "nonprehensile_step1()\n",
    "# time.sleep(time_gap)"
   ]
  },
  {
   "cell_type": "code",
   "execution_count": 669,
   "metadata": {},
   "outputs": [
    {
     "name": "stdout",
     "output_type": "stream",
     "text": [
      "step 2\n"
     ]
    }
   ],
   "source": [
    "nonprehensile_step2()"
   ]
  },
  {
   "cell_type": "code",
   "execution_count": 670,
   "metadata": {},
   "outputs": [
    {
     "name": "stdout",
     "output_type": "stream",
     "text": [
      "step 3\n"
     ]
    }
   ],
   "source": [
    "nonprehensile_step3()"
   ]
  },
  {
   "cell_type": "code",
   "execution_count": 41,
   "metadata": {},
   "outputs": [],
   "source": [
    "# new gait -- 6 cycles"
   ]
  },
  {
   "cell_type": "code",
   "execution_count": 62,
   "metadata": {},
   "outputs": [
    {
     "name": "stdout",
     "output_type": "stream",
     "text": [
      "step 1\n"
     ]
    }
   ],
   "source": [
    "nonprehensile_step11()"
   ]
  },
  {
   "cell_type": "code",
   "execution_count": 63,
   "metadata": {},
   "outputs": [
    {
     "name": "stdout",
     "output_type": "stream",
     "text": [
      "step 2\n"
     ]
    }
   ],
   "source": [
    "nonprehensile_step12()"
   ]
  },
  {
   "cell_type": "code",
   "execution_count": 64,
   "metadata": {},
   "outputs": [
    {
     "name": "stdout",
     "output_type": "stream",
     "text": [
      "step 3\n"
     ]
    }
   ],
   "source": [
    "nonprehensile_step13()"
   ]
  },
  {
   "cell_type": "code",
   "execution_count": 65,
   "metadata": {},
   "outputs": [
    {
     "name": "stdout",
     "output_type": "stream",
     "text": [
      "step 4\n"
     ]
    }
   ],
   "source": [
    "nonprehensile_step14()"
   ]
  },
  {
   "cell_type": "code",
   "execution_count": 66,
   "metadata": {},
   "outputs": [
    {
     "name": "stdout",
     "output_type": "stream",
     "text": [
      "step 5\n"
     ]
    }
   ],
   "source": [
    "nonprehensile_step15()"
   ]
  },
  {
   "cell_type": "code",
   "execution_count": 67,
   "metadata": {},
   "outputs": [
    {
     "name": "stdout",
     "output_type": "stream",
     "text": [
      "step 6\n"
     ]
    }
   ],
   "source": [
    "nonprehensile_step16()"
   ]
  },
  {
   "cell_type": "markdown",
   "metadata": {
    "jp-MarkdownHeadingCollapsed": true
   },
   "source": [
    "# smile"
   ]
  },
  {
   "cell_type": "code",
   "execution_count": 139,
   "metadata": {},
   "outputs": [
    {
     "name": "stdout",
     "output_type": "stream",
     "text": [
      "Online Robots (IDs): [7, 20, 23, 24, 26]\n"
     ]
    }
   ],
   "source": [
    "online_robot_ids, robotwithID = detect_online_robots()\n",
    "print(\"Online Robots (IDs):\", online_robot_ids)"
   ]
  },
  {
   "cell_type": "code",
   "execution_count": 140,
   "metadata": {},
   "outputs": [],
   "source": [
    "## back to origin\n",
    "for i in online_robot_ids:   \n",
    "    set_robot(robotwithID[i], 0, 255, 0, 255, True, 0)\n"
   ]
  },
  {
   "cell_type": "code",
   "execution_count": 31,
   "metadata": {},
   "outputs": [
    {
     "data": {
      "text/plain": [
       "{'status': 'set ok',\n",
       " 'ip': '192.168.8.175',\n",
       " 'mac': 'D8:3B:DA:C3:87:6E',\n",
       " 'm1_current': -10,\n",
       " 'm1_target': 0,\n",
       " 'm2_current': -16,\n",
       " 'm2_target': -10000,\n",
       " 'm1_power': 255,\n",
       " 'm2_power': 255,\n",
       " 'm3_power': 0,\n",
       " 'm1_error': 0,\n",
       " 'm2_error': 0,\n",
       " 'battery': 1.28,\n",
       " 'pause': False}"
      ]
     },
     "execution_count": 31,
     "metadata": {},
     "output_type": "execute_result"
    }
   ],
   "source": [
    "# s - shape\n",
    "ids_bottom = [22,13,6,21,27,11]\n",
    "X = -6000\n",
    "\n",
    "set_robot(robotwithID[ids_bottom[0]], X, 255, 0, 255, True, 0)\n",
    "set_robot(robotwithID[ids_bottom[1]], X, 255, 0, 255, True, 0)\n",
    "set_robot(robotwithID[ids_bottom[2]], X, 255, 0, 255, True, 0)\n",
    "set_robot(robotwithID[ids_bottom[3]], 0, 255, X, 255, True, 0)\n",
    "set_robot(robotwithID[ids_bottom[4]], 0, 255, X, 255, True, 0)\n",
    "set_robot(robotwithID[ids_bottom[5]], 0, 255, X, 255, True, 0)"
   ]
  },
  {
   "cell_type": "code",
   "execution_count": 83,
   "metadata": {},
   "outputs": [
    {
     "data": {
      "text/plain": [
       "{'status': 'set ok',\n",
       " 'ip': '192.168.8.157',\n",
       " 'mac': 'D8:3B:DA:C3:87:5C',\n",
       " 'm1_current': 0,\n",
       " 'm1_target': 0,\n",
       " 'm2_current': -9,\n",
       " 'm2_target': -6000,\n",
       " 'm1_power': 255,\n",
       " 'm2_power': 255,\n",
       " 'm3_power': 0,\n",
       " 'm1_error': 0,\n",
       " 'm2_error': 0,\n",
       " 'battery': 1.33,\n",
       " 'pause': False}"
      ]
     },
     "execution_count": 83,
     "metadata": {},
     "output_type": "execute_result"
    }
   ],
   "source": [
    "# M - shape\n",
    "ids_bottom = [22,27,11,12]\n",
    "X = -6000\n",
    "\n",
    "set_robot(robotwithID[ids_bottom[0]], 0, 255, X, 255, True, 0)\n",
    "set_robot(robotwithID[ids_bottom[1]], X, 255, 0, 255, True, 0)\n",
    "set_robot(robotwithID[ids_bottom[2]], X, 255, 0, 255, True, 0)\n",
    "set_robot(robotwithID[ids_bottom[3]], 0, 255, X, 255, True, 0)"
   ]
  },
  {
   "cell_type": "code",
   "execution_count": 84,
   "metadata": {},
   "outputs": [
    {
     "data": {
      "text/plain": [
       "{'status': 'set ok',\n",
       " 'ip': '192.168.8.157',\n",
       " 'mac': 'D8:3B:DA:C3:87:5C',\n",
       " 'm1_current': 0,\n",
       " 'm1_target': 0,\n",
       " 'm2_current': -5986,\n",
       " 'm2_target': 0,\n",
       " 'm1_power': 255,\n",
       " 'm2_power': 255,\n",
       " 'm3_power': 0,\n",
       " 'm1_error': 0,\n",
       " 'm2_error': 0,\n",
       " 'battery': 1.32,\n",
       " 'pause': False}"
      ]
     },
     "execution_count": 84,
     "metadata": {},
     "output_type": "execute_result"
    }
   ],
   "source": [
    "set_robot(robotwithID[ids_bottom[0]], 0, 255, 0, 255, True, 0)\n",
    "set_robot(robotwithID[ids_bottom[1]], 0, 255, 0, 255, True, 0)\n",
    "set_robot(robotwithID[ids_bottom[2]], 0, 255, 0, 255, True, 0)\n",
    "set_robot(robotwithID[ids_bottom[3]], 0, 255, 0, 255, True, 0)"
   ]
  },
  {
   "cell_type": "code",
   "execution_count": 141,
   "metadata": {},
   "outputs": [
    {
     "name": "stdout",
     "output_type": "stream",
     "text": [
      "compress\n"
     ]
    }
   ],
   "source": [
    "# I - shape\n",
    "ids_bottom = [22,13,8,12,21,6]\n",
    "X = -6000\n",
    "for i in ids_bottom:\n",
    "    set_robot(robotwithID[i], X, 255, X, 255, True, 0)\n",
    "time.sleep(1.5)\n",
    "for i in ids_bottom:\n",
    "    set_robot(robotwithID[i], X, 20, X, 20, True, 0)\n",
    "print(\"compress\")"
   ]
  },
  {
   "cell_type": "code",
   "execution_count": 142,
   "metadata": {},
   "outputs": [
    {
     "name": "stdout",
     "output_type": "stream",
     "text": [
      "forward\n"
     ]
    }
   ],
   "source": [
    "ids_bottom = [27,11]\n",
    "for i in ids_bottom:\n",
    "    set_robot(robotwithID[i], 0, 255, 0, 255, True, 150)\n",
    "print(\"forward\")"
   ]
  },
  {
   "cell_type": "code",
   "execution_count": 143,
   "metadata": {},
   "outputs": [
    {
     "name": "stdout",
     "output_type": "stream",
     "text": [
      "back\n"
     ]
    }
   ],
   "source": [
    "ids_bottom = [27,11]\n",
    "for i in ids_bottom:\n",
    "    set_robot(robotwithID[i], 0, 255, 0, 255, False, 250)\n",
    "print(\"back\")"
   ]
  },
  {
   "cell_type": "code",
   "execution_count": 144,
   "metadata": {},
   "outputs": [
    {
     "name": "stdout",
     "output_type": "stream",
     "text": [
      "stop\n"
     ]
    }
   ],
   "source": [
    "ids_bottom = [27,11]\n",
    "for i in ids_bottom:\n",
    "    set_robot(robotwithID[i], 0, 255, 0, 255, True, 180)\n",
    "time.sleep(0.5)\n",
    "for i in ids_bottom:\n",
    "    set_robot(robotwithID[i], 0, 255, 0, 255, True, 0)\n",
    "print(\"stop\")"
   ]
  },
  {
   "cell_type": "code",
   "execution_count": 154,
   "metadata": {},
   "outputs": [
    {
     "data": {
      "text/plain": [
       "{'status': 'set ok',\n",
       " 'ip': '192.168.8.175',\n",
       " 'mac': 'D8:3B:DA:C3:87:6E',\n",
       " 'm1_current': -5996,\n",
       " 'm1_target': -6000,\n",
       " 'm2_current': -5622,\n",
       " 'm2_target': -6000,\n",
       " 'm1_power': 20,\n",
       " 'm2_power': 20,\n",
       " 'm3_power': 0,\n",
       " 'm1_error': 0,\n",
       " 'm2_error': 0,\n",
       " 'battery': 1.21,\n",
       " 'pause': False}"
      ]
     },
     "execution_count": 154,
     "metadata": {},
     "output_type": "execute_result"
    }
   ],
   "source": [
    "# L -- shape\n",
    "set_robot(robotwithID[21], -5000, 255, -00, 255, True, 0)\n",
    "set_robot(robotwithID[6], -5000, 255, -00, 255, True, 0)\n",
    "set_robot(robotwithID[11], -6000, 255, -6000, 255, True, 0)\n",
    "time.sleep(1.5)\n",
    "set_robot(robotwithID[11], -6000, 20, -6000, 20, True, 0)"
   ]
  },
  {
   "cell_type": "code",
   "execution_count": 167,
   "metadata": {},
   "outputs": [],
   "source": [
    "## back to origin\n",
    "for i in online_robot_ids:   \n",
    "    set_robot(robotwithID[i], 0, 255, 0, 255, True, 0)"
   ]
  },
  {
   "cell_type": "code",
   "execution_count": null,
   "metadata": {},
   "outputs": [],
   "source": [
    "# L -- shape\n",
    "set_robot(robotwithID[21], -5000, 255, -00, 255, True, 0)\n",
    "set_robot(robotwithID[6], -5000, 255, -00, 255, True, 0)\n",
    "set_robot(robotwithID[11], -6000, 255, -6000, 255, True, 0)\n",
    "time.sleep(1.5)\n",
    "set_robot(robotwithID[11], -6000, 20, -6000, 20, True, 0)"
   ]
  },
  {
   "cell_type": "code",
   "execution_count": null,
   "metadata": {},
   "outputs": [],
   "source": [
    "# calibrate single robot"
   ]
  },
  {
   "cell_type": "code",
   "execution_count": 192,
   "metadata": {},
   "outputs": [
    {
     "name": "stdout",
     "output_type": "stream",
     "text": [
      "compress\n"
     ]
    }
   ],
   "source": [
    "# E -- shape\n",
    "\n",
    "set_robot(robotwithID[12], -6000, 255, -6000, 255, True, 0)\n",
    "time.sleep(1.5)\n",
    "set_robot(robotwithID[12], -6000, 20, -6000, 20, True, 0)\n",
    "print(\"compress\")"
   ]
  },
  {
   "cell_type": "code",
   "execution_count": 193,
   "metadata": {},
   "outputs": [
    {
     "data": {
      "text/plain": [
       "{'status': 'set ok',\n",
       " 'ip': '192.168.8.231',\n",
       " 'mac': 'D8:3B:DA:C3:87:10',\n",
       " 'm1_current': 13,\n",
       " 'm1_target': 0,\n",
       " 'm2_current': 1,\n",
       " 'm2_target': 0,\n",
       " 'm1_power': 255,\n",
       " 'm2_power': 255,\n",
       " 'm3_power': 150,\n",
       " 'm1_error': 0,\n",
       " 'm2_error': 0,\n",
       " 'battery': 1.26,\n",
       " 'pause': False}"
      ]
     },
     "execution_count": 193,
     "metadata": {},
     "output_type": "execute_result"
    }
   ],
   "source": [
    "set_robot(robotwithID[11], -0, 255, -00, 255, True, 150)\n",
    "set_robot(robotwithID[6], -0, 255, -00, 255, True, 150)\n",
    "set_robot(robotwithID[13], -0, 255, -0, 255, True, 150)"
   ]
  },
  {
   "cell_type": "code",
   "execution_count": 194,
   "metadata": {},
   "outputs": [
    {
     "data": {
      "text/plain": [
       "{'status': 'set ok',\n",
       " 'ip': '192.168.8.231',\n",
       " 'mac': 'D8:3B:DA:C3:87:10',\n",
       " 'm1_current': 13,\n",
       " 'm1_target': 0,\n",
       " 'm2_current': 1,\n",
       " 'm2_target': 0,\n",
       " 'm1_power': 255,\n",
       " 'm2_power': 255,\n",
       " 'm3_power': 0,\n",
       " 'm1_error': 0,\n",
       " 'm2_error': 0,\n",
       " 'battery': 1.25,\n",
       " 'pause': False}"
      ]
     },
     "execution_count": 194,
     "metadata": {},
     "output_type": "execute_result"
    }
   ],
   "source": [
    "set_robot(robotwithID[11], -0, 255, -00, 255, False, 150)\n",
    "set_robot(robotwithID[6], -0, 255, -00, 255, False, 150)\n",
    "set_robot(robotwithID[13], -0, 255, -0, 255, False, 150)\n",
    "time.sleep(0.5)\n",
    "set_robot(robotwithID[11], -0, 255, -00, 255, False, 0)\n",
    "set_robot(robotwithID[6], -0, 255, -00, 255, False, 0)\n",
    "set_robot(robotwithID[13], -0, 255, -0, 255, False, 0)"
   ]
  },
  {
   "cell_type": "code",
   "execution_count": 195,
   "metadata": {},
   "outputs": [],
   "source": [
    "## back to origin\n",
    "for i in online_robot_ids:   \n",
    "    set_robot(robotwithID[i], 0, 255, 0, 255, True, 0)"
   ]
  },
  {
   "cell_type": "markdown",
   "metadata": {
    "jp-MarkdownHeadingCollapsed": true
   },
   "source": [
    "# calibration"
   ]
  },
  {
   "cell_type": "code",
   "execution_count": 6,
   "metadata": {},
   "outputs": [
    {
     "name": "stdout",
     "output_type": "stream",
     "text": [
      "Online Robots (IDs): [2]\n",
      "1\n"
     ]
    }
   ],
   "source": [
    "online_robot_ids, robotwithID = detect_online_robots()\n",
    "print(\"Online Robots (IDs):\", online_robot_ids)\n",
    "print(len(online_robot_ids))"
   ]
  },
  {
   "cell_type": "code",
   "execution_count": 8,
   "metadata": {},
   "outputs": [
    {
     "data": {
      "text/plain": [
       "{'status': 'set ok',\n",
       " 'ip': '192.168.8.120',\n",
       " 'mac': 'D8:3B:DA:C3:86:FE',\n",
       " 'm1_current': -512,\n",
       " 'm1_target': -300,\n",
       " 'm2_current': 0,\n",
       " 'm2_target': 0,\n",
       " 'm1_power': 255,\n",
       " 'm2_power': 255,\n",
       " 'm3_power': 0,\n",
       " 'm1_error': 0,\n",
       " 'm2_error': 0,\n",
       " 'battery': 4.26,\n",
       " 'pause': False}"
      ]
     },
     "execution_count": 8,
     "metadata": {},
     "output_type": "execute_result"
    }
   ],
   "source": [
    "# set_robot(robotwithID[11], 00, 255,1000, 255, True,0)\n",
    "set_robot(robotwithID[2], -300, 255, -0, 255, True, 0)\n",
    "# time.sleep(1.5)"
   ]
  },
  {
   "cell_type": "code",
   "execution_count": 441,
   "metadata": {},
   "outputs": [
    {
     "data": {
      "text/plain": [
       "{'status': 'set ok',\n",
       " 'ip': '192.168.8.111',\n",
       " 'mac': 'D8:3B:DA:C3:87:2E',\n",
       " 'm1_current': 0,\n",
       " 'm1_target': 0,\n",
       " 'm2_current': 0,\n",
       " 'm2_target': 0,\n",
       " 'm1_power': 20,\n",
       " 'm2_power': 20,\n",
       " 'm3_power': 0,\n",
       " 'm1_error': 0,\n",
       " 'm2_error': 0,\n",
       " 'battery': 4.01,\n",
       " 'pause': False}"
      ]
     },
     "execution_count": 441,
     "metadata": {},
     "output_type": "execute_result"
    }
   ],
   "source": [
    "set_robot(robotwithID[15], -6000, 20, -6000, 20, True, 0)\n",
    "set_robot(robotwithID[0], -0, 20, -0, 20, False, 0)"
   ]
  },
  {
   "cell_type": "code",
   "execution_count": 10,
   "metadata": {},
   "outputs": [
    {
     "name": "stdout",
     "output_type": "stream",
     "text": [
      "{'status': 'calibrate ok', 'ip': '192.168.8.120', 'mac': 'D8:3B:DA:C3:86:FE', 'm1_current': 0, 'm1_target': 0, 'm2_current': 0, 'm2_target': 0, 'm1_power': 255, 'm2_power': 255, 'm3_power': 0, 'm1_error': 0, 'm2_error': 0, 'battery': 4.26, 'pause': False}\n"
     ]
    }
   ],
   "source": [
    "print(calibrate_robot(robotwithID[2], True, True))"
   ]
  },
  {
   "cell_type": "code",
   "execution_count": 577,
   "metadata": {},
   "outputs": [],
   "source": [
    "for i in online_robot_ids:\n",
    "    set_robot(robotwithID[i], 0, 255, 0, 255, True, 0)"
   ]
  },
  {
   "cell_type": "code",
   "execution_count": 178,
   "metadata": {},
   "outputs": [
    {
     "name": "stdout",
     "output_type": "stream",
     "text": [
      "{'status': 'calibrate ok', 'ip': '192.168.8.171', 'mac': 'D8:3B:DA:C3:87:6A', 'm1_current': 0, 'm1_target': 0, 'm2_current': 0, 'm2_target': 0, 'm1_power': 255, 'm2_power': 255, 'm3_power': 0, 'm1_error': 0, 'm2_error': 0, 'battery': 4.08, 'pause': False}\n",
      "{'status': 'calibrate ok', 'ip': '192.168.8.215', 'mac': 'D8:3B:DA:C3:87:00', 'm1_current': 0, 'm1_target': 0, 'm2_current': 0, 'm2_target': 0, 'm1_power': 255, 'm2_power': 255, 'm3_power': 0, 'm1_error': 0, 'm2_error': 0, 'battery': 3.77, 'pause': False}\n",
      "{'status': 'calibrate ok', 'ip': '192.168.8.223', 'mac': 'D8:3B:DA:C3:87:9E', 'm1_current': 0, 'm1_target': 0, 'm2_current': 0, 'm2_target': 0, 'm1_power': 255, 'm2_power': 255, 'm3_power': 0, 'm1_error': 0, 'm2_error': 0, 'battery': 1.2, 'pause': False}\n",
      "{'status': 'calibrate ok', 'ip': '192.168.8.247', 'mac': 'D8:3B:DA:C3:87:20', 'm1_current': 0, 'm1_target': 0, 'm2_current': 0, 'm2_target': 0, 'm1_power': 255, 'm2_power': 255, 'm3_power': 0, 'm1_error': 0, 'm2_error': 0, 'battery': 1.21, 'pause': False}\n",
      "{'status': 'calibrate ok', 'ip': '192.168.8.103', 'mac': 'D8:3B:DA:C3:87:26', 'm1_current': 0, 'm1_target': 0, 'm2_current': 0, 'm2_target': 0, 'm1_power': 255, 'm2_power': 255, 'm3_power': 0, 'm1_error': 0, 'm2_error': 0, 'battery': 1.16, 'pause': False}\n",
      "{'status': 'calibrate ok', 'ip': '192.168.8.127', 'mac': 'D8:3B:DA:C3:87:3E', 'm1_current': 0, 'm1_target': 0, 'm2_current': 0, 'm2_target': 0, 'm1_power': 255, 'm2_power': 255, 'm3_power': 0, 'm1_error': 0, 'm2_error': 0, 'battery': 3.89, 'pause': False}\n",
      "{'status': 'calibrate ok', 'ip': '192.168.8.105', 'mac': 'D8:3B:DA:C3:87:28', 'm1_current': 0, 'm1_target': 0, 'm2_current': 0, 'm2_target': 0, 'm1_power': 255, 'm2_power': 255, 'm3_power': 0, 'm1_error': 0, 'm2_error': 0, 'battery': 1.18, 'pause': False}\n",
      "{'status': 'calibrate ok', 'ip': '192.168.8.175', 'mac': 'D8:3B:DA:C3:87:6E', 'm1_current': 0, 'm1_target': 0, 'm2_current': 0, 'm2_target': 0, 'm1_power': 255, 'm2_power': 255, 'm3_power': 0, 'm1_error': 0, 'm2_error': 0, 'battery': 1.23, 'pause': False}\n",
      "{'status': 'calibrate ok', 'ip': '192.168.8.231', 'mac': 'D8:3B:DA:C3:87:10', 'm1_current': 0, 'm1_target': 0, 'm2_current': 0, 'm2_target': 0, 'm1_power': 255, 'm2_power': 255, 'm3_power': 0, 'm1_error': 0, 'm2_error': 0, 'battery': 1.2, 'pause': False}\n",
      "{'status': 'calibrate ok', 'ip': '192.168.8.214', 'mac': 'D8:3B:DA:C3:86:C6', 'm1_current': 0, 'm1_target': 0, 'm2_current': 0, 'm2_target': 0, 'm1_power': 255, 'm2_power': 255, 'm3_power': 0, 'm1_error': 0, 'm2_error': 0, 'battery': 1.22, 'pause': False}\n",
      "{'status': 'calibrate ok', 'ip': '192.168.8.143', 'mac': 'D8:3B:DA:C3:87:4E', 'm1_current': 0, 'm1_target': 0, 'm2_current': 0, 'm2_target': 0, 'm1_power': 255, 'm2_power': 255, 'm3_power': 0, 'm1_error': 0, 'm2_error': 0, 'battery': 1.24, 'pause': False}\n",
      "{'status': 'calibrate ok', 'ip': '192.168.8.169', 'mac': 'D8:3B:DA:C3:87:68', 'm1_current': 0, 'm1_target': 0, 'm2_current': 0, 'm2_target': 0, 'm1_power': 255, 'm2_power': 255, 'm3_power': 0, 'm1_error': 0, 'm2_error': 0, 'battery': 1.23, 'pause': False}\n",
      "{'status': 'calibrate ok', 'ip': '192.168.8.125', 'mac': 'D8:3B:DA:C3:87:3C', 'm1_current': 0, 'm1_target': 0, 'm2_current': 0, 'm2_target': 0, 'm1_power': 255, 'm2_power': 255, 'm3_power': 0, 'm1_error': 0, 'm2_error': 0, 'battery': 1.2, 'pause': False}\n",
      "{'status': 'calibrate ok', 'ip': '192.168.8.230', 'mac': 'D8:3B:DA:C3:86:D6', 'm1_current': 0, 'm1_target': 0, 'm2_current': 0, 'm2_target': 0, 'm1_power': 255, 'm2_power': 255, 'm3_power': 0, 'm1_error': 0, 'm2_error': 0, 'battery': 1.21, 'pause': False}\n",
      "{'status': 'calibrate ok', 'ip': '192.168.8.217', 'mac': 'D8:3B:DA:C3:87:98', 'm1_current': 0, 'm1_target': 0, 'm2_current': 0, 'm2_target': 0, 'm1_power': 255, 'm2_power': 255, 'm3_power': 0, 'm1_error': 0, 'm2_error': 0, 'battery': 1.18, 'pause': False}\n",
      "{'status': 'calibrate ok', 'ip': '192.168.8.141', 'mac': 'D8:3B:DA:C3:87:4C', 'm1_current': 0, 'm1_target': 0, 'm2_current': 0, 'm2_target': 0, 'm1_power': 255, 'm2_power': 255, 'm3_power': 0, 'm1_error': 0, 'm2_error': 0, 'battery': 1.18, 'pause': False}\n"
     ]
    }
   ],
   "source": [
    "for i in online_robot_ids:\n",
    "    print(calibrate_robot(robotwithID[i], True, True))"
   ]
  },
  {
   "cell_type": "markdown",
   "metadata": {
    "jp-MarkdownHeadingCollapsed": true
   },
   "source": [
    "# collect gait data"
   ]
  },
  {
   "cell_type": "code",
   "execution_count": 714,
   "metadata": {},
   "outputs": [],
   "source": [
    "import json\n",
    "import time\n",
    "from multiprocessing.managers import BaseManager\n",
    "import math\n",
    "\n",
    "# Define a custom manager to access shared data\n",
    "class SharedDataManager(BaseManager):\n",
    "    pass\n",
    "\n",
    "SharedDataManager.register(\"get_shared_data\")\n",
    "\n",
    "import time\n",
    "import numpy as np\n",
    "\n",
    "import json\n",
    "import time\n",
    "from multiprocessing.managers import BaseManager\n",
    "\n",
    "\n",
    "# Define a custom manager to access shared data\n",
    "class SharedDataManager(BaseManager):\n",
    "    pass\n",
    "\n",
    "SharedDataManager.register(\"get_shared_data\")\n",
    "\n",
    "def query_robot_status(tag_id):\n",
    "    \"\"\"\n",
    "    Query the robot status for a specific tag ID from shared memory.\n",
    "    Performs a single query without delay or multiple attempts.\n",
    "    \n",
    "    Parameters:\n",
    "        tag_id (int): The tag ID of the robot.\n",
    "    \n",
    "    Returns:\n",
    "        dict: A dictionary containing x, y, and theta, or None if the data is unavailable.\n",
    "    \"\"\"\n",
    "    manager = SharedDataManager(address=(\"127.0.0.1\", 5000), authkey=b\"password\")\n",
    "    manager.connect()  # Connect to the shared memory server\n",
    "    shared_data = manager.get_shared_data()  # Access the shared data\n",
    "\n",
    "    # Perform a single query\n",
    "    robot_status = shared_data.get(f\"robot_{tag_id}\", {\"x\": None, \"y\": None, \"theta\": None})\n",
    "\n",
    "    # Check if the queried data is available\n",
    "    if robot_status[\"x\"] is not None:\n",
    "        return {\n",
    "            \"x\": robot_status[\"x\"],\n",
    "            \"y\": robot_status[\"y\"],\n",
    "            \"theta\": robot_status[\"theta\"]\n",
    "        }\n",
    "    else:\n",
    "        return None\n",
    "\n",
    "\n",
    "# def query_robot_status(tag_id, attempts=3, delay=0.1, first=True, threshold={\"x\": 5.0, \"y\": 5.0, \"theta\": 10.0}):\n",
    "#     \"\"\"\n",
    "#     Query the robot status for a specific tag ID from shared memory.\n",
    "#     Returns None if the queried results are too different.\n",
    "    \n",
    "#     Parameters:\n",
    "#         tag_id (int): The tag ID of the robot.\n",
    "#         attempts (int): Number of query attempts.\n",
    "#         delay (float): Delay between queries.\n",
    "#         first (bool): If True, return the first result if consistent; otherwise, return the last.\n",
    "#         threshold (dict): Thresholds for considering queries consistent (x, y, theta).\n",
    "    \n",
    "#     Returns:\n",
    "#         dict: A dictionary containing x, y, and theta, or None if inconsistent.\n",
    "#     \"\"\"\n",
    "#     manager = SharedDataManager(address=(\"127.0.0.1\", 5000), authkey=b\"password\")\n",
    "#     manager.connect()  # Connect to the shared memory server\n",
    "#     shared_data = manager.get_shared_data()  # Access the shared data\n",
    "\n",
    "#     x_values, y_values, theta_values = [], [], []\n",
    "\n",
    "#     for _ in range(attempts):\n",
    "#         robot_status = shared_data.get(f\"robot_{tag_id}\", {\"x\": None, \"y\": None, \"theta\": None})\n",
    "#         if robot_status[\"x\"] is not None:\n",
    "#             x_values.append(robot_status[\"x\"])\n",
    "#             y_values.append(robot_status[\"y\"])\n",
    "#             theta_values.append(robot_status[\"theta\"])\n",
    "#         time.sleep(delay)\n",
    "\n",
    "#     # Check if we have enough data\n",
    "#     if len(x_values) < attempts:\n",
    "#         return None\n",
    "\n",
    "#     # Check for consistency\n",
    "#     x_range = max(x_values) - min(x_values)\n",
    "#     y_range = max(y_values) - min(y_values)\n",
    "#     theta_range = max(theta_values) - min(theta_values)\n",
    "#     print(\"x_range\", x_range)\n",
    "#     print(\"y_range\", y_range)\n",
    "#     print(\"theta_range\", theta_range)\n",
    "\n",
    "#     if x_range <= threshold[\"x\"] and y_range <= threshold[\"y\"] and theta_range <= threshold[\"theta\"]:\n",
    "#         return {\n",
    "#             \"x\": x_values[0] if first else x_values[-1],\n",
    "#             \"y\": y_values[0] if first else y_values[-1],\n",
    "#             \"theta\": theta_values[0] if first else theta_values[-1],\n",
    "#         }\n",
    "#     else:\n",
    "#         return None\n",
    "\n",
    "\n",
    "def save_to_json(data, gait_name):\n",
    "    \"\"\"Save data to a JSON file based on gait name.\"\"\"\n",
    "    filename = f\"{gait_name}_data.json\"\n",
    "    try:\n",
    "        with open(filename, \"a\") as json_file:\n",
    "            json.dump(data, json_file)\n",
    "            json_file.write(\"\\n\")  # Newline for each entry\n",
    "    except Exception as e:\n",
    "        print(f\"Failed to save data to JSON: {e}\")\n",
    "\n",
    "\n",
    "def calculate_deltas(movement_data):\n",
    "    # Extract values\n",
    "    start_x = movement_data[\"start_x\"]\n",
    "    start_y = movement_data[\"start_y\"]\n",
    "    start_theta = movement_data[\"start_theta\"]\n",
    "    goal_x = movement_data[\"goal_x\"]\n",
    "    goal_y = movement_data[\"goal_y\"]\n",
    "    goal_theta = movement_data[\"goal_theta\"]\n",
    "\n",
    "    # Calculate delta_distance\n",
    "    delta_distance = math.sqrt((goal_x - start_x)**2 + (goal_y - start_y)**2)\n",
    "\n",
    "    # Calculate delta_theta (ensure angle is normalized)\n",
    "    delta_theta = goal_theta - start_theta\n",
    "    # delta_theta = (delta_theta + math.pi) % (2 * math.pi) - math.pi  # Normalize to [-pi, pi]\n",
    "\n",
    "    return delta_distance, delta_theta\n",
    "\n",
    "def execute_gait(gait_function, gait_name, rid, tag_id):\n",
    "    \"\"\"Execute a gait, query start and end positions, and log data.\"\"\"\n",
    "    print(f\"Executing {gait_name} on Robot ID {rid} (Tag ID {tag_id})...\")\n",
    "\n",
    "    # Query the start position\n",
    "    # start_position = query_robot_status(tag_id, attempts=2, delay=0.1, first=False)\n",
    "   \n",
    "    # Perform the gait movement\n",
    "    # gait_function(rid)\n",
    "    set_robot(robotwithID[rid], -0, 255, -3000, 255, False, 180)\n",
    "    start_position = query_robot_status(tag_id)\n",
    "    if not start_position:\n",
    "        print(\"Start position is inconsistent. Aborting gait execution.\")\n",
    "        return\n",
    "\n",
    "    print(f\"Start Position: x={start_position['x']:.2f}, y={start_position['y']:.2f}, theta={start_position['theta']:.2f}°\")\n",
    "\n",
    "    \n",
    "    time.sleep(1)\n",
    "    goal_position = query_robot_status(tag_id)\n",
    "    if not goal_position:\n",
    "        print(\"Goal position is inconsistent. Aborting data saving.\")\n",
    "        return\n",
    "\n",
    "    print(f\"Goal Position: x={goal_position['x']:.2f}, y={goal_position['y']:.2f}, theta={goal_position['theta']:.2f}°\")\n",
    "\n",
    "\n",
    "    set_robot(robotwithID[rid], -0, 255, -3000, 255, True, 0)\n",
    "\n",
    "    # Query the end position\n",
    "    # goal_position = query_robot_status(tag_id, attempts=3, delay=0.1, first=True)\n",
    "       # Save the movement data\n",
    "    movement_data = {\n",
    "        \"robot_id\": rid,\n",
    "        \"tag_id\": tag_id,\n",
    "        \"start_x\": start_position[\"x\"],\n",
    "        \"start_y\": start_position[\"y\"],\n",
    "        \"start_theta\": start_position[\"theta\"],\n",
    "        \"goal_x\": goal_position[\"x\"],\n",
    "        \"goal_y\": goal_position[\"y\"],\n",
    "        \"goal_theta\": goal_position[\"theta\"],\n",
    "    }\n",
    "    save_to_json(movement_data, gait_name)\n",
    "    print(f\"Movement data for {gait_name} saved.\")\n",
    "    delta_distance, delta_theta = calculate_deltas(movement_data)\n",
    "    print(\"Delta Distance:\", delta_distance)\n",
    "    print(\"Delta Theta:\", delta_theta)\n",
    "\n",
    "\n",
    "# Define gait functions\n",
    "def move_forward(rid):\n",
    "    set_robot(robotwithID[rid], 00, 255, 0, 255, True, 180)\n",
    "    time.sleep(1)\n",
    "    set_robot(robotwithID[rid], 00, 255, 0, 255, True, 0)\n",
    "\n",
    "def move_backward(rid):\n",
    "    set_robot(robotwithID[rid], 00, 255, 0, 255, False, 180)\n",
    "    time.sleep(1)\n",
    "    set_robot(robotwithID[rid], 00, 255, 0, 255, False, 0)\n",
    "\n",
    "def move_left_front(rid):\n",
    "    set_robot(robotwithID[rid], 00, 255, -3000, 200, True, 180)\n",
    "    time.sleep(1)\n",
    "    set_robot(robotwithID[rid], 00, 255, -3000, 255, True, 0)\n",
    "\n",
    "def move_right_front(rid):\n",
    "    set_robot(robotwithID[rid], -3000, 200, 0, 255, True, 180)\n",
    "    time.sleep(1)\n",
    "    set_robot(robotwithID[rid], -3000, 255, 0, 255, True, 0)\n",
    "\n",
    "def move_left_back(rid):\n",
    "    set_robot(robotwithID[rid], 00, 255, -3000, 200, False, 180)\n",
    "    time.sleep(1)\n",
    "    set_robot(robotwithID[rid], 00, 255, -3000, 255, True, 0)\n",
    "\n",
    "def move_right_back(rid):\n",
    "    set_robot(robotwithID[rid], -3000, 200, 0, 255, False, 180)\n",
    "    time.sleep(1)\n",
    "    set_robot(robotwithID[rid], 00, 255, -3000, 255, True, 0)\n",
    "\n",
    "\n"
   ]
  },
  {
   "cell_type": "code",
   "execution_count": 452,
   "metadata": {},
   "outputs": [
    {
     "name": "stdout",
     "output_type": "stream",
     "text": [
      "Online Robots (IDs): [2]\n",
      "1\n"
     ]
    }
   ],
   "source": [
    "online_robot_ids, robotwithID = detect_online_robots()\n",
    "print(\"Online Robots (IDs):\", online_robot_ids)\n",
    "print(len(online_robot_ids))"
   ]
  },
  {
   "cell_type": "code",
   "execution_count": 715,
   "metadata": {},
   "outputs": [
    {
     "name": "stdout",
     "output_type": "stream",
     "text": [
      "Executing left_back-correct on Robot ID 2 (Tag ID 0)...\n",
      "Start Position: x=148.46, y=85.00, theta=-32.64°\n",
      "Goal Position: x=150.41, y=88.31, theta=-18.70°\n",
      "Movement data for left_back-correct saved.\n",
      "Delta Distance: 3.842637341171824\n",
      "Delta Theta: 13.940561796974496\n"
     ]
    }
   ],
   "source": [
    "# Example usage (replace `robotwithID` and `set_robot` with your actual implementations)\n",
    "if __name__ == \"__main__\":\n",
    "\n",
    "    rid = 2\n",
    "    tag_id = 0\n",
    "\n",
    "    # for i in range(5):\n",
    "    # execute_gait(move_forward, \"forward\", rid, tag_id)\n",
    "    # time.sleep(5)\n",
    "    # execute_gait(move_backward, \"backward\", rid, tag_id)\n",
    "    # time.sleep(5)\n",
    "    # execute_gait(move_left_front, \"left_front-correct\", rid, tag_id)\n",
    "    # time.sleep(7)\n",
    "    # execute_gait(move_right_front, \"right_front-correct\", rid, tag_id)\n",
    "    # time.sleep(10)\n",
    "    execute_gait(move_left_back, \"left_back-correct\", rid, tag_id)\n",
    "    # time.sleep(5)\n",
    "    # execute_gait(move_right_back, \"right_back\", rid, tag_id)\n",
    "    # time.sleep(7)"
   ]
  },
  {
   "cell_type": "code",
   "execution_count": 716,
   "metadata": {},
   "outputs": [
    {
     "data": {
      "text/plain": [
       "{'status': 'set ok',\n",
       " 'ip': '192.168.8.120',\n",
       " 'mac': 'D8:3B:DA:C3:86:FE',\n",
       " 'm1_current': -19,\n",
       " 'm1_target': 0,\n",
       " 'm2_current': -2992,\n",
       " 'm2_target': 0,\n",
       " 'm1_power': 255,\n",
       " 'm2_power': 200,\n",
       " 'm3_power': 0,\n",
       " 'm1_error': 0,\n",
       " 'm2_error': 0,\n",
       " 'battery': 3.88,\n",
       " 'pause': False}"
      ]
     },
     "execution_count": 716,
     "metadata": {},
     "output_type": "execute_result"
    }
   ],
   "source": [
    "set_robot(robotwithID[rid], 0, 255, -0000, 200, True, 0)"
   ]
  },
  {
   "cell_type": "code",
   "execution_count": 221,
   "metadata": {},
   "outputs": [
    {
     "data": {
      "text/plain": [
       "{'status': 'set ok',\n",
       " 'ip': '192.168.8.120',\n",
       " 'mac': 'D8:3B:DA:C3:86:FE',\n",
       " 'm1_current': 0,\n",
       " 'm1_target': 0,\n",
       " 'm2_current': -2976,\n",
       " 'm2_target': 0,\n",
       " 'm1_power': 255,\n",
       " 'm2_power': 255,\n",
       " 'm3_power': 0,\n",
       " 'm1_error': 0,\n",
       " 'm2_error': 0,\n",
       " 'battery': 4.06,\n",
       " 'pause': False}"
      ]
     },
     "execution_count": 221,
     "metadata": {},
     "output_type": "execute_result"
    }
   ],
   "source": [
    "rid = 2\n",
    "# set_robot(robotwithID[rid], 00, 255, 0, 255, True, 200)\n",
    "# time.sleep(1)\n",
    "set_robot(robotwithID[rid], 00, 255, 0, 255, True, 0)"
   ]
  },
  {
   "cell_type": "markdown",
   "metadata": {
    "jp-MarkdownHeadingCollapsed": true
   },
   "source": [
    "# process the data"
   ]
  },
  {
   "cell_type": "code",
   "execution_count": 1,
   "metadata": {},
   "outputs": [
    {
     "name": "stderr",
     "output_type": "stream",
     "text": [
      "/var/folders/ck/n_msw9j171v0q2rrdzg0py800000gn/T/ipykernel_60834/658586218.py:203: UserWarning: You passed a edgecolor/edgecolors ('black') for an unfilled marker ('x').  Matplotlib is ignoring the edgecolor in favor of the facecolor.  This behavior may change in the future.\n",
      "  plt.scatter(center[0], center[1], color=colors[i], marker=\"x\", s=200, edgecolor=\"black\")\n"
     ]
    },
    {
     "data": {
      "image/png": "[encoded data removed]",
      "text/plain": [
       "<Figure size 1200x600 with 1 Axes>"
      ]
     },
     "metadata": {},
     "output_type": "display_data"
    },
    {
     "data": {
      "image/png": "[encoded data removed]",
      "text/plain": [
       "<Figure size 1200x600 with 1 Axes>"
      ]
     },
     "metadata": {},
     "output_type": "display_data"
    }
   ],
   "source": [
    "import json\n",
    "import numpy as np\n",
    "import matplotlib.pyplot as plt\n",
    "\n",
    "def load_gait_data(gait_name):\n",
    "    \"\"\"Load gait data from the corresponding JSON file.\"\"\"\n",
    "    filename = f\"{gait_name}_data.json\"\n",
    "    data = []\n",
    "    try:\n",
    "        with open(filename, \"r\") as file:\n",
    "            for line in file:\n",
    "                data.append(json.loads(line))\n",
    "    except FileNotFoundError:\n",
    "        print(f\"File {filename} not found.\")\n",
    "    return data\n",
    "\n",
    "def normalize_angle(angle):\n",
    "    \"\"\"Normalize an angle to the range [-180, 180].\"\"\"\n",
    "    return ((angle + 180) % 360) - 180\n",
    "\n",
    "def rotate_and_translate(delta_distance, delta_theta, gait_name):\n",
    "    \"\"\"\n",
    "    Convert Δdistance and Δtheta to Δx, Δy in the global frame,\n",
    "    adjusted for gait-specific motion directions.\n",
    "    \"\"\"\n",
    "    # Update heading (in radians)\n",
    "    new_theta = np.radians(delta_theta)\n",
    "\n",
    "    # Compute global Δx and Δy\n",
    "    delta_x = delta_distance * np.cos(new_theta)\n",
    "    delta_y = delta_distance * np.sin(new_theta)\n",
    "\n",
    "    if gait_name == \"forward\":\n",
    "        return delta_x, delta_y\n",
    "    elif gait_name == \"backward\":\n",
    "        return -delta_x, delta_y\n",
    "    elif gait_name == \"left_front\":\n",
    "        return delta_x, -delta_y\n",
    "    elif gait_name == \"right_front\":\n",
    "        return delta_x, -delta_y\n",
    "    elif gait_name == \"left_back\":\n",
    "        return -delta_x, delta_y\n",
    "    elif gait_name == \"right_back\":\n",
    "        return -delta_x, delta_y\n",
    "    else:\n",
    "        raise ValueError(f\"Unknown gait name: {gait_name}\")\n",
    "\n",
    "def remove_outliers(data):\n",
    "    \"\"\"Remove outliers using the IQR method.\"\"\"\n",
    "    Q1 = np.percentile(data, 25, axis=0)\n",
    "    Q3 = np.percentile(data, 75, axis=0)\n",
    "    IQR = Q3 - Q1\n",
    "\n",
    "    # Define bounds\n",
    "    lower_bound = Q1 - 1.5 * IQR\n",
    "    upper_bound = Q3 + 1.5 * IQR\n",
    "\n",
    "    # Keep only points within the bounds\n",
    "    return data[\n",
    "        (data[:, 0] >= lower_bound[0]) & (data[:, 0] <= upper_bound[0]) &\n",
    "        (data[:, 1] >= lower_bound[1]) & (data[:, 1] <= upper_bound[1])\n",
    "    ]\n",
    "\n",
    "def filter_closest_points(data, center, n):\n",
    "    \"\"\"Filter the n closest points to the cluster center.\"\"\"\n",
    "    distances = np.sqrt((data[:, 0] - center[0])**2 + (data[:, 1] - center[1])**2)\n",
    "    closest_indices = np.argsort(distances)[:n]\n",
    "    return data[closest_indices]\n",
    "\n",
    "def plot_comparison(clean_data_dict, n_closest=None, robot_width=0.5):\n",
    "    \"\"\"Plot comparison of x, y positions for all gaits.\"\"\"\n",
    "    colors = [\"red\", \"blue\", \"green\", \"orange\", \"purple\", \"cyan\"]\n",
    "    gaits = list(clean_data_dict.keys())\n",
    "    legend_handles = []  # To customize the legend\n",
    "\n",
    "    plt.figure(figsize=(12, 6))\n",
    "\n",
    "    # Draw the original robot position\n",
    "    origin_handle = plt.scatter(0, 0, color=\"black\", marker=\"*\", s=150, label=\"Robot Origin\", zorder=3)\n",
    "    robot_body_handle, = plt.plot(\n",
    "        [-robot_width / 2, robot_width / 2],\n",
    "        [0, 0],\n",
    "        color=\"black\",\n",
    "        linestyle=\"--\",\n",
    "        zorder=1,  # Lower z-order for the robot body line\n",
    "        label=\"Robot Body\"\n",
    "    )\n",
    "    legend_handles.append(origin_handle)\n",
    "    legend_handles.append(robot_body_handle)\n",
    "\n",
    "    for i, gait in enumerate(gaits):\n",
    "        clean_data = clean_data_dict[gait]\n",
    "        delta_x2 = np.array([entry[\"delta_x2\"] for entry in clean_data])\n",
    "        delta_y2 = np.array([entry[\"delta_y2\"] for entry in clean_data])\n",
    "        delta_theta = np.array([entry[\"delta_theta\"] for entry in clean_data])\n",
    "\n",
    "        data = np.column_stack((delta_x2, delta_y2))\n",
    "\n",
    "        # Remove outliers\n",
    "        filtered_data = remove_outliers(data)\n",
    "\n",
    "        # Calculate cluster center without outliers\n",
    "        center_x = np.mean(filtered_data[:, 0])\n",
    "        center_y = np.mean(filtered_data[:, 1])\n",
    "        center_theta = np.mean(delta_theta)  # Average orientation\n",
    "\n",
    "        if gait == \"forward\":\n",
    "            center_theta = center_theta\n",
    "        else:\n",
    "            center_theta = -center_theta  # Invert angle for other gaits\n",
    "\n",
    "        center = np.array([center_x, center_y])\n",
    "\n",
    "        # Filter closest n points if specified\n",
    "        if n_closest is not None:\n",
    "            filtered_data = filter_closest_points(filtered_data, center, n_closest)\n",
    "            delta_x2, delta_y2 = filtered_data[:, 0], filtered_data[:, 1]\n",
    "        else:\n",
    "            delta_x2, delta_y2 = filtered_data[:, 0], filtered_data[:, 1]\n",
    "\n",
    "        # Scatter plot for x, y positions as dots\n",
    "        data_handle = plt.scatter(\n",
    "            delta_x2, delta_y2, color=colors[i], label=f\"{gait}\", alpha=0.8, marker=\"o\", zorder=1\n",
    "        )\n",
    "\n",
    "        # Represent center with a star (*) with black edge\n",
    "        center_handle = plt.scatter(\n",
    "            center[0], center[1], color=colors[i], marker=\"*\", s=200, edgecolor=\"black\", zorder=3\n",
    "        )\n",
    "\n",
    "        # Draw dashed lines for robot body style at center in black\n",
    "        line_length = 0.5  # Total length of the dashed line segments\n",
    "        front_x = center_x + (line_length / 2) * np.cos(np.radians(center_theta))\n",
    "        front_y = center_y + (line_length / 2) * np.sin(np.radians(center_theta))\n",
    "        back_x = center_x - (line_length / 2) * np.cos(np.radians(center_theta))\n",
    "        back_y = center_y - (line_length / 2) * np.sin(np.radians(center_theta))\n",
    "        plt.plot(\n",
    "            [back_x, center_x],\n",
    "            [back_y, center_y],\n",
    "            color=\"black\",\n",
    "            linestyle=\"--\",\n",
    "            linewidth=1.5,\n",
    "            zorder=2  # Lower z-order for the line\n",
    "        )\n",
    "        plt.plot(\n",
    "            [center_x, front_x],\n",
    "            [center_y, front_y],\n",
    "            color=\"black\",\n",
    "            linestyle=\"--\",\n",
    "            linewidth=1.5,\n",
    "            zorder=2  # Lower z-order for the line\n",
    "        )\n",
    "\n",
    "        # Add the center label to the legend\n",
    "        legend_handles.append(center_handle)\n",
    "        legend_handles[-1].set_label(\n",
    "            f\"{gait} center ({center_x:.2f}, {center_y:.2f}, {center_theta:.2f}°)\"\n",
    "        )\n",
    "\n",
    "    plt.xlabel(\"x/cm\")\n",
    "    plt.ylabel(\"y/cm\")\n",
    "    plt.legend(handles=legend_handles, loc=\"best\")\n",
    "    plt.grid(True)\n",
    "    plt.savefig(\"plot_comparison.png\", dpi=300, bbox_inches=\"tight\")\n",
    "    # plt.show()\n",
    "\n",
    "\n",
    "\n",
    "\n",
    "def plot_distance_vs_theta(clean_data_dict, n_closest=None):\n",
    "    \"\"\"Plot comparison of Δdistance vs Δtheta for all gaits.\"\"\"\n",
    "    colors = [\"red\", \"blue\", \"green\", \"orange\", \"purple\", \"cyan\"]\n",
    "    gaits = list(clean_data_dict.keys())\n",
    "\n",
    "    plt.figure(figsize=(12, 6))\n",
    "\n",
    "    for i, gait in enumerate(gaits):\n",
    "        clean_data = clean_data_dict[gait]\n",
    "        delta_distance = np.array([entry[\"delta_distance\"] for entry in clean_data])\n",
    "        delta_theta = np.array([entry[\"delta_theta\"] for entry in clean_data])\n",
    "\n",
    "        data = np.column_stack((delta_distance, delta_theta))\n",
    "\n",
    "        # Remove outliers\n",
    "        filtered_data = remove_outliers(data)\n",
    "\n",
    "        # Calculate cluster center without outliers\n",
    "        center_x = np.mean(filtered_data[:, 0])\n",
    "        center_y = np.mean(filtered_data[:, 1])\n",
    "        center = np.array([center_x, center_y])\n",
    "\n",
    "        # Filter closest n points if specified\n",
    "        if n_closest is not None:\n",
    "            filtered_data = filter_closest_points(filtered_data, center, n_closest)\n",
    "            delta_distance, delta_theta = filtered_data[:, 0], filtered_data[:, 1]\n",
    "        else:\n",
    "            delta_distance, delta_theta = filtered_data[:, 0], filtered_data[:, 1]\n",
    "\n",
    "        # Scatter plot for Δdistance vs Δtheta as dots\n",
    "        plt.scatter(delta_distance, delta_theta, color=colors[i], label=f\"{gait}\", alpha=0.8, marker=\"o\")\n",
    "\n",
    "        # Represent center with a large 'x'\n",
    "        plt.scatter(center[0], center[1], color=colors[i], marker=\"x\", s=200, edgecolor=\"black\")\n",
    "\n",
    "    plt.xlabel(\"Δdistance\")\n",
    "    plt.ylabel(\"Δθ\")\n",
    "    # plt.xlim(0, 10) \n",
    "    plt.legend()\n",
    "    plt.grid(True)\n",
    "    plt.show()\n",
    "\n",
    "\n",
    "if __name__ == \"__main__\":\n",
    "    gaits = [\"forward\", \"backward\", \"left_front\", \"right_front\", \"left_back\", \"right_back\"]\n",
    "    clean_data_dict = {}\n",
    "\n",
    "    for gait in gaits:\n",
    "        raw_data = load_gait_data(gait)\n",
    "\n",
    "        delta_data = []\n",
    "        for entry in raw_data:\n",
    "            # Raw data deltas\n",
    "            delta_x1 = entry[\"goal_x\"] - entry[\"start_x\"]\n",
    "            delta_y1 = entry[\"goal_y\"] - entry[\"start_y\"]\n",
    "            delta_distance = np.sqrt(delta_x1**2 + delta_y1**2)\n",
    "            delta_theta = normalize_angle(entry[\"goal_theta\"] - entry[\"start_theta\"])\n",
    "\n",
    "            # Calculated deltas\n",
    "            delta_x2, delta_y2 = rotate_and_translate(\n",
    "                delta_distance, delta_theta, gait\n",
    "            )\n",
    "\n",
    "            delta_data.append({\n",
    "                \"delta_x1\": delta_x1,\n",
    "                \"delta_y1\": delta_y1,\n",
    "                \"delta_x2\": delta_x2,\n",
    "                \"delta_y2\": delta_y2,\n",
    "                \"delta_distance\": delta_distance,\n",
    "                \"delta_theta\": delta_theta,\n",
    "            })\n",
    "\n",
    "        clean_data_dict[gait] = delta_data\n",
    "\n",
    "    # Number of closest points to use (None = use all points)\n",
    "    n_closest_points = 30\n",
    "\n",
    "    # Plot Δx_2 vs Δy_2\n",
    "    plot_comparison(clean_data_dict, n_closest=n_closest_points)\n",
    "\n",
    "\n",
    "\n",
    "    # Plot Δdistance vs Δθ\n",
    "    plot_distance_vs_theta(clean_data_dict, n_closest=n_closest_points)\n"
   ]
  },
  {
   "cell_type": "code",
   "execution_count": 498,
   "metadata": {},
   "outputs": [
    {
     "name": "stdout",
     "output_type": "stream",
     "text": [
      "Forward Gait Average: {'avg_delta_x': -0.5193933003866164, 'avg_delta_y': -1.1193640121240755, 'avg_delta_distance': 5.096174564425657, 'avg_delta_theta': -1.8139396977608926}\n"
     ]
    }
   ],
   "source": [
    "# Load the gait averages\n",
    "with open(\"gait_averages.json\", \"r\") as file:\n",
    "    gait_averages = json.load(file)\n",
    "\n",
    "# Example: Query the average effect of \"forward\" gait\n",
    "forward_avg = gait_averages[\"forward\"]\n",
    "print(f\"Forward Gait Average: {forward_avg}\")\n"
   ]
  },
  {
   "cell_type": "code",
   "execution_count": 433,
   "metadata": {},
   "outputs": [
    {
     "name": "stdout",
     "output_type": "stream",
     "text": [
      "{'forward': {'avg_delta_x': -9.855956879050973, 'avg_delta_y': 2.1149952458279815, 'avg_delta_distance': 10.22982780229047, 'avg_delta_theta': 20.730895579210987}, 'backward': {'avg_delta_x': 4.190961349024684, 'avg_delta_y': 1.9107116712866543, 'avg_delta_distance': 5.369284883403863, 'avg_delta_theta': 10.195269588585793}, 'left_front': {'avg_delta_x': 1.0722943949466526, 'avg_delta_y': 1.2035366477537734, 'avg_delta_distance': 1.9690449685231097, 'avg_delta_theta': -15.042019153691786}, 'right_front': {'avg_delta_x': -0.08195966645859584, 'avg_delta_y': -4.752370353629052, 'avg_delta_distance': 5.4519510154427255, 'avg_delta_theta': 27.65190834183457}, 'left_back': {'avg_delta_x': 0.06258897370165642, 'avg_delta_y': 2.008979489820388, 'avg_delta_distance': 2.038706122480062, 'avg_delta_theta': -6.816995912701351}, 'right_back': {'avg_delta_x': 2.8417598684623044, 'avg_delta_y': -2.5066570124656833, 'avg_delta_distance': 4.085124009957847, 'avg_delta_theta': 9.124680804446436}}\n"
     ]
    }
   ],
   "source": [
    "print(gait_averages)"
   ]
  },
  {
   "cell_type": "markdown",
   "metadata": {
    "jp-MarkdownHeadingCollapsed": true
   },
   "source": [
    "# planning the motion"
   ]
  },
  {
   "cell_type": "code",
   "execution_count": 383,
   "metadata": {},
   "outputs": [
    {
     "name": "stdout",
     "output_type": "stream",
     "text": [
      "Tag 0 Position: x=62.06, y=-100.22, theta=59.16°\n",
      "Tag 1 Position: x=353.43, y=8.78, theta=29.67°\n"
     ]
    }
   ],
   "source": [
    "if __name__ == \"__main__\":\n",
    "    tag0_status = query_robot_status(0)\n",
    "    tag1_status = query_robot_status(1)\n",
    "\n",
    "    if tag0_status:\n",
    "        print(f\"Tag 0 Position: x={tag0_status['x']:.2f}, y={tag0_status['y']:.2f}, theta={tag0_status['theta']:.2f}°\")\n",
    "    else:\n",
    "        print(\"Tag 0 position is inconsistent or not available.\")\n",
    "\n",
    "    if tag1_status:\n",
    "        print(f\"Tag 1 Position: x={tag1_status['x']:.2f}, y={tag1_status['y']:.2f}, theta={tag1_status['theta']:.2f}°\")\n",
    "    else:\n",
    "        print(\"Tag 1 position is inconsistent or not available.\")\n"
   ]
  },
  {
   "cell_type": "code",
   "execution_count": 202,
   "metadata": {},
   "outputs": [],
   "source": [
    "import numpy as np\n",
    "import time\n",
    "import json\n",
    "from multiprocessing.managers import BaseManager\n",
    "\n",
    "# Load precomputed gait averages (replace with your actual file path)\n",
    "with open(\"gait_averages.json\", \"r\") as file:\n",
    "    gait_averages = json.load(file)\n",
    "\n",
    "# Define weights and thresholds\n",
    "distance_weight = 1.0  # Weight for distance difference\n",
    "angle_weight = 0     # Weight for angle difference\n",
    "distance_threshold = 5.0  # cm\n",
    "angle_threshold = 20.0     # degrees\n",
    "\n",
    "def calculate_goal_with_tag(target_position, connection_type=\"head_to_head\"):\n",
    "    \"\"\"\n",
    "    Calculate the goal position for Robot 0 based on Robot 1's Tag position, orientation, and connection type.\n",
    "    \"\"\"\n",
    "    # Robot dimensions\n",
    "    robot_length = 20  # cm (longer side)\n",
    "    robot_width = 10   # cm (shorter side)\n",
    "\n",
    "    target_x = target_position[\"x\"]\n",
    "    target_y = target_position[\"y\"]\n",
    "    target_theta = target_position[\"theta\"]  # In degrees\n",
    "    target_theta_rad = np.radians(target_theta)\n",
    "\n",
    "    if connection_type == \"head_to_head\":\n",
    "        goal_x = target_x - robot_length * np.cos(target_theta_rad)\n",
    "        goal_y = target_y - robot_length * np.sin(target_theta_rad)\n",
    "        goal_theta = (target_theta + 180) % 360\n",
    "\n",
    "    elif connection_type == \"head_to_tail\":\n",
    "        goal_x = target_x + robot_length * np.cos(target_theta_rad)\n",
    "        goal_y = target_y + robot_length * np.sin(target_theta_rad)\n",
    "        goal_theta = target_theta\n",
    "\n",
    "    elif connection_type == \"head_to_side\":\n",
    "        goal_x = target_x + robot_width * np.sin(target_theta_rad)\n",
    "        goal_y = target_y - robot_width * np.cos(target_theta_rad)\n",
    "        goal_theta = (target_theta + 90) % 360\n",
    "\n",
    "    elif connection_type == \"tail_to_side\":\n",
    "        goal_x = target_x + robot_width * np.sin(target_theta_rad)\n",
    "        goal_y = target_y - robot_width * np.cos(target_theta_rad)\n",
    "        goal_theta = (target_theta - 90) % 360\n",
    "\n",
    "    else:\n",
    "        raise ValueError(f\"Invalid connection type: {connection_type}\")\n",
    "\n",
    "    return {\"x\": goal_x, \"y\": goal_y, \"theta\": goal_theta}\n",
    "\n",
    "def calculate_cost(current, target, gait_effect):\n",
    "    \"\"\"\n",
    "    Calculate the cost of a gait based on distance and angle differences.\n",
    "    \"\"\"\n",
    "    predicted_x = current[\"x\"] + gait_effect[\"avg_delta_x\"]\n",
    "    predicted_y = current[\"y\"] + gait_effect[\"avg_delta_y\"]\n",
    "    predicted_theta = current[\"theta\"] + gait_effect[\"avg_delta_theta\"]\n",
    "\n",
    "    distance = np.sqrt((predicted_x - target[\"x\"])**2 + (predicted_y - target[\"y\"])**2)\n",
    "    if distance >= 150:\n",
    "        distance_weight = 1.0  # Weight for distance difference\n",
    "        angle_weight = 0     # Weight for angle difference\n",
    "    elif distance < 150 and distance >= 100:\n",
    "        distance_weight = 1.0  # Weight for distance difference\n",
    "        angle_weight = 0.1     # Weight for angle difference\n",
    "    else:\n",
    "        distance_weight = 1.0  # Weight for distance difference\n",
    "        angle_weight = 0.5     # Weight for angle difference\n",
    "        \n",
    "    angle_diff = abs(predicted_theta - target[\"theta\"]) % 360\n",
    "    if angle_diff > 180:\n",
    "        angle_diff = 360 - angle_diff\n",
    "\n",
    "    cost = distance_weight * distance + angle_weight * angle_diff\n",
    "    return cost\n",
    "\n",
    "def move_robot_to_goal(rid, tag_id_0, tag_id_1, connection_type=\"head_to_side\"):\n",
    "    \"\"\"\n",
    "    Plan and execute movements to move Robot 0 to the goal position relative to Robot 1.\n",
    "    \"\"\"\n",
    "    try:\n",
    "        while True:\n",
    "            current_position = query_robot_status(tag_id_0)\n",
    "            target_position = query_robot_status(tag_id_1)\n",
    "\n",
    "            if not current_position or not target_position:\n",
    "                print(\"Failed to query positions. Retrying...\")\n",
    "                time.sleep(1)\n",
    "                continue\n",
    "\n",
    "            goal_position = calculate_goal_with_tag(target_position, connection_type)\n",
    "            print(f\"Goal Position: {goal_position}\")\n",
    "\n",
    "            distance = np.sqrt(\n",
    "                (current_position[\"x\"] - goal_position[\"x\"])**2 +\n",
    "                (current_position[\"y\"] - goal_position[\"y\"])**2\n",
    "            )\n",
    "            angle_diff = abs(current_position[\"theta\"] - goal_position[\"theta\"]) % 360\n",
    "            if angle_diff > 180:\n",
    "                angle_diff = 360 - angle_diff\n",
    "\n",
    "            print(f\"Distance to Goal: {distance:.2f} cm, Angle Difference: {angle_diff:.2f}°\")\n",
    "            if distance <= distance_threshold and angle_diff <= angle_threshold:\n",
    "                print(\"Goal reached!\")\n",
    "                break\n",
    "\n",
    "            best_gait = None\n",
    "            lowest_cost = float(\"inf\")\n",
    "            for gait_name, gait_effect in gait_averages.items():\n",
    "                cost = calculate_cost(current_position, goal_position, gait_effect)\n",
    "                # print(\"the current cost is: \", cost, \"gait_name: \", gait_name)\n",
    "                if cost < lowest_cost:\n",
    "                    lowest_cost = cost\n",
    "                    best_gait = gait_name\n",
    "\n",
    "            if best_gait:\n",
    "                print(f\"Executing Gait: {best_gait}\")\n",
    "                gait_functions[best_gait](rid)\n",
    "            else:\n",
    "                print(\"No valid gait found. Stopping.\")\n",
    "                break\n",
    "\n",
    "            time.sleep(1)\n",
    "\n",
    "    except KeyboardInterrupt:\n",
    "        print(\"Program interrupted manually.\")\n",
    "\n",
    "gait_functions = {\n",
    "    \"forward\": move_forward,\n",
    "    \"backward\": move_backward,\n",
    "    \"left_front\": move_left_front,\n",
    "    \"right_front\": move_right_front,\n",
    "    \"left_back\": move_left_back,\n",
    "    \"right_back\": move_right_back,\n",
    "}\n"
   ]
  },
  {
   "cell_type": "code",
   "execution_count": null,
   "metadata": {},
   "outputs": [],
   "source": [
    "if __name__ == \"__main__\":\n",
    "    rid = 15  # Robot 0 ID\n",
    "    tag_id_0 = 0  # Tag ID for Robot 0\n",
    "    tag_id_1 = 1  # Tag ID for Robot 1\n",
    "\n",
    "    move_robot_to_goal(rid, tag_id_0, tag_id_1, connection_type=\"head_to_tail\")\n"
   ]
  },
  {
   "cell_type": "code",
   "execution_count": 435,
   "metadata": {},
   "outputs": [
    {
     "data": {
      "text/plain": [
       "{'status': 'set ok',\n",
       " 'ip': '192.168.8.207',\n",
       " 'mac': 'D8:3B:DA:C3:87:8E',\n",
       " 'm1_current': 2,\n",
       " 'm1_target': 0,\n",
       " 'm2_current': -25,\n",
       " 'm2_target': 0,\n",
       " 'm1_power': 255,\n",
       " 'm2_power': 255,\n",
       " 'm3_power': 0,\n",
       " 'm1_error': 0,\n",
       " 'm2_error': 0,\n",
       " 'battery': 1.14,\n",
       " 'pause': False}"
      ]
     },
     "execution_count": 435,
     "metadata": {},
     "output_type": "execute_result"
    }
   ],
   "source": [
    "rid = 15\n",
    "\n",
    "set_robot(robotwithID[rid], 00, 255, 0, 255, False, 0)"
   ]
  },
  {
   "cell_type": "code",
   "execution_count": null,
   "metadata": {},
   "outputs": [],
   "source": [
    "# if __name__ == \"__main__\":\n",
    "#     # Sequentially connect robots by calling `move_robot_to_goal`\n",
    "#     print(\"\\nConnecting Robot 0 to Robot 1 (head-to-head)...\")\n",
    "#     move_robot_to_goal(rid=0, tag_id_0=0, tag_id_1=1, connection_type=\"head_to_head\")\n",
    "#     print(\"Robot 0 successfully connected to Robot 1.\\n\")\n",
    "\n",
    "#     print(\"Connecting Robot 2 to Robot 1 (head-to-side)...\")\n",
    "#     move_robot_to_goal(rid=2, tag_id_0=2, tag_id_1=1, connection_type=\"head_to_side\")\n",
    "#     print(\"Robot 2 successfully connected to Robot 1.\\n\")\n",
    "\n",
    "#     print(\"Connecting Robot 3 to Robot 0 (head-to-side)...\")\n",
    "#     move_robot_to_goal(rid=3, tag_id_0=3, tag_id_1=0, connection_type=\"head_to_side\")\n",
    "#     print(\"Robot 3 successfully connected to Robot 0.\\n\")\n"
   ]
  }
 ],
 "metadata": {
  "kernelspec": {
   "display_name": "Python 3 (ipykernel)",
   "language": "python",
   "name": "python3"
  },
  "language_info": {
   "codemirror_mode": {
    "name": "ipython",
    "version": 3
   },
   "file_extension": ".py",
   "mimetype": "text/x-python",
   "name": "python",
   "nbconvert_exporter": "python",
   "pygments_lexer": "ipython3",
   "version": "3.11.4"
  }
 },
 "nbformat": 4,
 "nbformat_minor": 4
}
